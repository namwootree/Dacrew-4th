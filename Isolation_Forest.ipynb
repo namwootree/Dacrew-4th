{
  "nbformat": 4,
  "nbformat_minor": 0,
  "metadata": {
    "colab": {
      "provenance": []
    },
    "kernelspec": {
      "name": "python3",
      "display_name": "Python 3"
    },
    "language_info": {
      "name": "python"
    }
  },
  "cells": [
    {
      "cell_type": "markdown",
      "source": [
        "# Setting"
      ],
      "metadata": {
        "id": "JdAtq5mbLJ6T"
      }
    },
    {
      "cell_type": "markdown",
      "source": [
        "## Library"
      ],
      "metadata": {
        "id": "LpzRbxF8LLF1"
      }
    },
    {
      "cell_type": "code",
      "execution_count": 853,
      "metadata": {
        "id": "4lA5ZR29K-Ec"
      },
      "outputs": [],
      "source": [
        "# 데이터 다루기\n",
        "import pandas as pd\n",
        "import numpy as np\n",
        "\n",
        "# 전처리\n",
        "from sklearn.preprocessing import StandardScaler, MinMaxScaler, RobustScaler\n",
        "from sklearn.decomposition import PCA, KernelPCA, SparsePCA, TruncatedSVD, IncrementalPCA\n",
        "from sklearn.cluster import KMeans\n",
        "from sklearn.random_projection import GaussianRandomProjection, SparseRandomProjection\n",
        "\n",
        "# 모델링\n",
        "from sklearn.ensemble import IsolationForest\n",
        "from sklearn.neighbors import LocalOutlierFactor\n",
        "from sklearn.metrics import f1_score\n",
        "from sklearn.metrics import classification_report\n",
        "\n",
        "# 기타\n",
        "import os\n",
        "import random"
      ]
    },
    {
      "cell_type": "code",
      "source": [
        "import warnings\n",
        "warnings.filterwarnings(action='ignore')"
      ],
      "metadata": {
        "id": "t5Jlc229LOB6"
      },
      "execution_count": 2,
      "outputs": []
    },
    {
      "cell_type": "markdown",
      "source": [
        "## Fixed Random Seed"
      ],
      "metadata": {
        "id": "RAlVaaC_LS1M"
      }
    },
    {
      "cell_type": "code",
      "source": [
        "def seed_everything(seed):\n",
        "    random.seed(seed)\n",
        "    os.environ['PYTHONHASHSEED'] = str(seed)\n",
        "    np.random.seed(seed)\n",
        "\n",
        "seed_everything(42) # Seed 고정"
      ],
      "metadata": {
        "id": "S0bKBShiLREc"
      },
      "execution_count": 4,
      "outputs": []
    },
    {
      "cell_type": "markdown",
      "source": [
        "# Load Data Set"
      ],
      "metadata": {
        "id": "pzNq6q70LY34"
      }
    },
    {
      "cell_type": "markdown",
      "source": [
        "## Googel Drive Mount"
      ],
      "metadata": {
        "id": "aP8Z0AMzLbCl"
      }
    },
    {
      "cell_type": "code",
      "source": [
        "from google.colab import drive\n",
        "drive.mount('/content/drive')"
      ],
      "metadata": {
        "colab": {
          "base_uri": "https://localhost:8080/"
        },
        "id": "dTDPQ6ipLYMN",
        "outputId": "d6d7c7a4-51c3-43b3-ff31-216309022248"
      },
      "execution_count": 5,
      "outputs": [
        {
          "output_type": "stream",
          "name": "stdout",
          "text": [
            "Mounted at /content/drive\n"
          ]
        }
      ]
    },
    {
      "cell_type": "markdown",
      "source": [
        "## Unzip File"
      ],
      "metadata": {
        "id": "tMfGxw7WLlFM"
      }
    },
    {
      "cell_type": "code",
      "source": [
        "!unzip --qq '/content/drive/MyDrive/머신러닝 엔지니어링/데이콘/사기거래/data/사기거래.zip'"
      ],
      "metadata": {
        "id": "CH2iRFNbLdcd"
      },
      "execution_count": 6,
      "outputs": []
    },
    {
      "cell_type": "markdown",
      "source": [
        "## Load Train / Val / Test Set"
      ],
      "metadata": {
        "id": "jcIJmupMLpBu"
      }
    },
    {
      "cell_type": "code",
      "source": [
        "train = pd.read_csv('/content/train.csv')\n",
        "val = pd.read_csv('/content/val.csv')\n",
        "test = pd.read_csv('/content/test.csv')"
      ],
      "metadata": {
        "id": "oNdbFSuoLoiJ"
      },
      "execution_count": 7,
      "outputs": []
    },
    {
      "cell_type": "code",
      "source": [
        "val['Class'].value_counts()"
      ],
      "metadata": {
        "colab": {
          "base_uri": "https://localhost:8080/"
        },
        "id": "E5fV_viiMIJD",
        "outputId": "a4e6dcfe-c85b-41e2-befb-e468e04dc7aa"
      },
      "execution_count": 11,
      "outputs": [
        {
          "output_type": "execute_result",
          "data": {
            "text/plain": [
              "0    28432\n",
              "1       30\n",
              "Name: Class, dtype: int64"
            ]
          },
          "metadata": {},
          "execution_count": 11
        }
      ]
    },
    {
      "cell_type": "markdown",
      "source": [
        "# Preprocessing"
      ],
      "metadata": {
        "id": "AU3zE34BL3Oi"
      }
    },
    {
      "cell_type": "markdown",
      "source": [
        "## Feature Selection"
      ],
      "metadata": {
        "id": "o4fKPoX5VJJm"
      }
    },
    {
      "cell_type": "code",
      "source": [
        "X_train = train.drop(columns=['ID']) \n",
        "\n",
        "X_val = val.drop(columns=['ID', 'Class']) \n",
        "y_val = val['Class']\n",
        "\n",
        "X_test = test.drop(columns=['ID'])"
      ],
      "metadata": {
        "id": "RIoIVhn6LsQ-"
      },
      "execution_count": 639,
      "outputs": []
    },
    {
      "cell_type": "code",
      "source": [
        "X_train = X_train[['V3', 'V4', 'V7', 'V8', 'V9', 'V10', 'V11',\n",
        "                   'V12', 'V14', 'V16', 'V17', 'V18']]\n",
        "\n",
        "X_val = X_val[['V3', 'V4', 'V7', 'V8', 'V9', 'V10', 'V11',\n",
        "               'V12', 'V14', 'V16', 'V17', 'V18']]\n",
        "\n",
        "X_test = X_test[['V3', 'V4', 'V7', 'V8', 'V9', 'V10', 'V11',\n",
        "                 'V12', 'V14', 'V16', 'V17', 'V18']]"
      ],
      "metadata": {
        "id": "-O6WI_4jOUjU"
      },
      "execution_count": 640,
      "outputs": []
    },
    {
      "cell_type": "code",
      "source": [
        "len(X_train.columns)"
      ],
      "metadata": {
        "colab": {
          "base_uri": "https://localhost:8080/"
        },
        "id": "Ney8Zsfof8F3",
        "outputId": "b01b07c5-dff6-4336-ad29-42ebaf1f6e6c"
      },
      "execution_count": 641,
      "outputs": [
        {
          "output_type": "execute_result",
          "data": {
            "text/plain": [
              "12"
            ]
          },
          "metadata": {},
          "execution_count": 641
        }
      ]
    },
    {
      "cell_type": "markdown",
      "source": [
        "## 파생 변수"
      ],
      "metadata": {
        "id": "P35An1inVLO4"
      }
    },
    {
      "cell_type": "code",
      "source": [
        "X_train['V7_V29_mean'] = (train['V7'] + train['V29']) / 2\n",
        "X_val['V7_V29_mean'] = (val['V7'] + val['V29']) / 2\n",
        "X_test['V7_V29_mean'] = (test['V7'] + test['V29']) / 2\n",
        "\n",
        "X_train['V3_V30_mean'] = (X_train['V3'] + train['V30']) / 2\n",
        "X_val['V3_V30_mean'] = (X_val['V3'] + val['V30']) / 2\n",
        "X_test['V3_V30_mean'] = (X_test['V3'] + test['V30']) / 2\n",
        "\n",
        "X_train['V5_V29_mean'] = (train['V5'] + train['V29']) / 2\n",
        "X_val['V5_V29_mean'] = (val['V5'] + val['V29']) / 2\n",
        "X_test['V5_V29_mean'] = (test['V5'] + test['V29']) / 2"
      ],
      "metadata": {
        "id": "KU3_m3cKYzAq"
      },
      "execution_count": 642,
      "outputs": []
    },
    {
      "cell_type": "code",
      "source": [
        "len(X_train.columns)"
      ],
      "metadata": {
        "colab": {
          "base_uri": "https://localhost:8080/"
        },
        "id": "ZR9_NXlhkmK2",
        "outputId": "6dd7bd41-1469-4b65-a764-5f801e0a11db"
      },
      "execution_count": 643,
      "outputs": [
        {
          "output_type": "execute_result",
          "data": {
            "text/plain": [
              "15"
            ]
          },
          "metadata": {},
          "execution_count": 643
        }
      ]
    },
    {
      "cell_type": "markdown",
      "source": [
        "## Scaling"
      ],
      "metadata": {
        "id": "Q6q9xXOhR1Kd"
      }
    },
    {
      "cell_type": "code",
      "source": [
        "#scaler = StandardScaler()\n",
        "#scaler = MinMaxScaler()\n",
        "scaler = RobustScaler(quantile_range=(45.0, 55.0))\n",
        "\n",
        "scaled_train = scaler.fit_transform(X_train)\n",
        "scaled_val = scaler.transform(X_val)\n",
        "scaled_test = scaler.transform(X_test)\n",
        "\n",
        "scaled_train = pd.DataFrame(scaled_train)\n",
        "scaled_val = pd.DataFrame(scaled_val)\n",
        "scaled_test = pd.DataFrame(scaled_test)"
      ],
      "metadata": {
        "id": "WZ9OYFonQdf1"
      },
      "execution_count": 644,
      "outputs": []
    },
    {
      "cell_type": "markdown",
      "source": [
        "## Dimension Reduction"
      ],
      "metadata": {
        "id": "vEDmeDxHSJsF"
      }
    },
    {
      "cell_type": "code",
      "source": [
        "#dimesion_reducer = PCA(n_components=15)\n",
        "dimesion_reducer = SparsePCA(n_components=15, alpha=0.01)\n",
        "#dimesion_reducer = SparseRandomProjection(n_components=15, eps=0.5, random_state=42)\n",
        "\n",
        "\n",
        "reduced_train = dimesion_reducer.fit_transform(scaled_train)\n",
        "reduced_val = dimesion_reducer.transform(scaled_val)\n",
        "reduced_test = dimesion_reducer.transform(scaled_test)\n",
        "\n",
        "reduced_train = pd.DataFrame(reduced_train)\n",
        "reduced_val = pd.DataFrame(reduced_val)\n",
        "reduced_test = pd.DataFrame(reduced_test)"
      ],
      "metadata": {
        "id": "0XOicbmGSWAB"
      },
      "execution_count": 844,
      "outputs": []
    },
    {
      "cell_type": "markdown",
      "source": [
        "## Clustering"
      ],
      "metadata": {
        "id": "fMl7yN-eTtlO"
      }
    },
    {
      "cell_type": "code",
      "source": [
        "cluster = KMeans(n_clusters=2)"
      ],
      "metadata": {
        "id": "3nzFV0oFpHI1"
      },
      "execution_count": 845,
      "outputs": []
    },
    {
      "cell_type": "code",
      "source": [
        "clusted_train_1 = cluster.fit_predict(X_train)\n",
        "clusted_val_1 = cluster.predict(X_val)\n",
        "clusted_test_1 = cluster.predict(X_test)\n",
        "\n",
        "clusted_train_1 = pd.DataFrame(clusted_train_1)\n",
        "clusted_val_1 = pd.DataFrame(clusted_val_1)\n",
        "clusted_test_1 = pd.DataFrame(clusted_test_1)"
      ],
      "metadata": {
        "id": "6EtNVeLbpPgF"
      },
      "execution_count": 846,
      "outputs": []
    },
    {
      "cell_type": "code",
      "source": [
        "clusted_train_2 = cluster.fit_predict(scaled_train)\n",
        "clusted_val_2 = cluster.predict(scaled_val)\n",
        "clusted_test_2 = cluster.predict(scaled_test)\n",
        "\n",
        "clusted_train_2 = pd.DataFrame(clusted_train_2)\n",
        "clusted_val_2 = pd.DataFrame(clusted_val_2)\n",
        "clusted_test_2 = pd.DataFrame(clusted_test_2)"
      ],
      "metadata": {
        "id": "-hZK5soPTu_q"
      },
      "execution_count": 847,
      "outputs": []
    },
    {
      "cell_type": "code",
      "source": [
        "clusted_train_3 = cluster.fit_predict(reduced_train)\n",
        "clusted_val_3 = cluster.predict(reduced_val)\n",
        "clusted_test_3 = cluster.predict(reduced_test)\n",
        "\n",
        "clusted_train_3 = pd.DataFrame(clusted_train_3)\n",
        "clusted_val_3 = pd.DataFrame(clusted_val_3)\n",
        "clusted_test_3 = pd.DataFrame(clusted_test_3)"
      ],
      "metadata": {
        "id": "y2khwN87pa4D"
      },
      "execution_count": 848,
      "outputs": []
    },
    {
      "cell_type": "code",
      "source": [
        "preprocessed_train = pd.concat([\n",
        "                                reduced_train, \n",
        "                                #clusted_train_1,\n",
        "                                clusted_train_2,\n",
        "                                #clusted_train_3\n",
        "                                ], axis=1)\n",
        "\n",
        "preprocessed_val = pd.concat([\n",
        "                              reduced_val, \n",
        "                              #clusted_val_1,\n",
        "                              clusted_val_2,\n",
        "                              #clusted_val_3\n",
        "                              ], axis=1)\n",
        "\n",
        "preprocessed_test = pd.concat([\n",
        "                               reduced_test, \n",
        "                               #clusted_test_1,\n",
        "                               clusted_test_2,\n",
        "                               #clusted_test_3\n",
        "                               ], axis=1)"
      ],
      "metadata": {
        "id": "xFfLjmAnmIWW"
      },
      "execution_count": 849,
      "outputs": []
    },
    {
      "cell_type": "code",
      "source": [
        "preprocessed_train.columns = [i for i in range(len(preprocessed_train.columns))]\n",
        "preprocessed_val.columns = [i for i in range(len(preprocessed_val.columns))]\n",
        "preprocessed_test.columns = [i for i in range(len(preprocessed_test.columns))]"
      ],
      "metadata": {
        "id": "lcaqkW8xmwuT"
      },
      "execution_count": 850,
      "outputs": []
    },
    {
      "cell_type": "markdown",
      "source": [
        "# Modeling"
      ],
      "metadata": {
        "id": "r2sOyy-yL_5h"
      }
    },
    {
      "cell_type": "code",
      "source": [
        "model = IsolationForest(n_estimators=500,\n",
        "                        max_samples=len(X_train),\n",
        "                        max_features=0.8,\n",
        "                        contamination=30/28432,\n",
        "                        random_state=42,\n",
        "                        verbose=0)"
      ],
      "metadata": {
        "id": "wTjzoklFL7Jv"
      },
      "execution_count": 863,
      "outputs": []
    },
    {
      "cell_type": "code",
      "source": [
        "model = LocalOutlierFactor(n_neighbors=10, \n",
        "                           p=1, # 민코프스키 거리 -> 1 : 맨하탄 거리와 같음 / 2 : 유클리드 거리와 같음\n",
        "                           algorithm='auto',\n",
        "                           contamination='auto',\n",
        "                           novelty=True)"
      ],
      "metadata": {
        "id": "_xoFfvRIzj8P"
      },
      "execution_count": 862,
      "outputs": []
    },
    {
      "cell_type": "code",
      "source": [
        "model.fit(preprocessed_train)"
      ],
      "metadata": {
        "colab": {
          "base_uri": "https://localhost:8080/"
        },
        "id": "Tl0se_nfMPiJ",
        "outputId": "472b3704-5900-48f5-f93d-ad491fbe3a2c"
      },
      "execution_count": 864,
      "outputs": [
        {
          "output_type": "execute_result",
          "data": {
            "text/plain": [
              "IsolationForest(contamination=0.0010551491277433877, max_features=0.8,\n",
              "                max_samples=113842, n_estimators=500, random_state=42)"
            ]
          },
          "metadata": {},
          "execution_count": 864
        }
      ]
    },
    {
      "cell_type": "markdown",
      "source": [
        "# Evaluation"
      ],
      "metadata": {
        "id": "ciepK-yCMUoM"
      }
    },
    {
      "cell_type": "code",
      "source": [
        "def get_pred_label(model_pred):\n",
        "    # IsolationForest 모델 출력 (1:정상, -1:불량(사기)) 이므로 (0:정상, 1:불량(사기))로 Label 변환\n",
        "    model_pred = np.where(model_pred == 1, 0, model_pred)\n",
        "    model_pred = np.where(model_pred == -1, 1, model_pred)\n",
        "    return model_pred"
      ],
      "metadata": {
        "id": "iRAt4uV5MSbp"
      },
      "execution_count": 865,
      "outputs": []
    },
    {
      "cell_type": "code",
      "source": [
        "pred_val = model.predict(preprocessed_val) # model prediction\n",
        "pred_val = get_pred_label(pred_val)"
      ],
      "metadata": {
        "id": "fdOlHmTeMXXc"
      },
      "execution_count": 866,
      "outputs": []
    },
    {
      "cell_type": "code",
      "source": [
        "val_score = f1_score(y_val, pred_val, average='macro')"
      ],
      "metadata": {
        "id": "01A06pL1MuY6"
      },
      "execution_count": 867,
      "outputs": []
    },
    {
      "cell_type": "code",
      "source": [
        "# 0.7879157743510873\n",
        "# 0.7928924258723169\n",
        "# 0.7980433877878794\n",
        "# 0.8089062742283302\n",
        "print(f'Validation F1 Score : [{val_score}]')\n",
        "print(classification_report(y_val, pred_val))"
      ],
      "metadata": {
        "colab": {
          "base_uri": "https://localhost:8080/"
        },
        "id": "vWgOeD0YM1F7",
        "outputId": "be139ef6-d5b2-44d3-b7e8-df2824c131eb"
      },
      "execution_count": 868,
      "outputs": [
        {
          "output_type": "stream",
          "name": "stdout",
          "text": [
            "Validation F1 Score : [0.8089062742283302]\n",
            "              precision    recall  f1-score   support\n",
            "\n",
            "           0       1.00      1.00      1.00     28432\n",
            "           1       0.68      0.57      0.62        30\n",
            "\n",
            "    accuracy                           1.00     28462\n",
            "   macro avg       0.84      0.78      0.81     28462\n",
            "weighted avg       1.00      1.00      1.00     28462\n",
            "\n"
          ]
        }
      ]
    },
    {
      "cell_type": "markdown",
      "source": [
        "# Inference"
      ],
      "metadata": {
        "id": "o8x0ffGaNHcD"
      }
    },
    {
      "cell_type": "code",
      "source": [
        "pred_test = model.predict(preprocessed_test) # model prediction\n",
        "pred_test = get_pred_label(pred_test)"
      ],
      "metadata": {
        "id": "PidDPs2JNbs7"
      },
      "execution_count": 860,
      "outputs": []
    },
    {
      "cell_type": "markdown",
      "source": [
        "# Submission"
      ],
      "metadata": {
        "id": "aCscOd_xM_ka"
      }
    },
    {
      "cell_type": "code",
      "source": [
        "submit = pd.read_csv('./sample_submission.csv')"
      ],
      "metadata": {
        "id": "w3FfeD1xM68L"
      },
      "execution_count": 463,
      "outputs": []
    },
    {
      "cell_type": "code",
      "source": [
        "submit['Class'] = pred_test\n",
        "submit.head()"
      ],
      "metadata": {
        "colab": {
          "base_uri": "https://localhost:8080/",
          "height": 206
        },
        "id": "XkUjToiZNB23",
        "outputId": "2d1fd9d3-f7d3-44a0-a5e4-dcd36255c8cd"
      },
      "execution_count": 464,
      "outputs": [
        {
          "output_type": "execute_result",
          "data": {
            "text/plain": [
              "        ID  Class\n",
              "0  AAAA0x1      0\n",
              "1  AAAA0x2      0\n",
              "2  AAAA0x5      0\n",
              "3  AAAA0x7      0\n",
              "4  AAAA0xc      0"
            ],
            "text/html": [
              "\n",
              "  <div id=\"df-8d4102d3-1cd2-4969-a1ab-037d6eae5c1e\">\n",
              "    <div class=\"colab-df-container\">\n",
              "      <div>\n",
              "<style scoped>\n",
              "    .dataframe tbody tr th:only-of-type {\n",
              "        vertical-align: middle;\n",
              "    }\n",
              "\n",
              "    .dataframe tbody tr th {\n",
              "        vertical-align: top;\n",
              "    }\n",
              "\n",
              "    .dataframe thead th {\n",
              "        text-align: right;\n",
              "    }\n",
              "</style>\n",
              "<table border=\"1\" class=\"dataframe\">\n",
              "  <thead>\n",
              "    <tr style=\"text-align: right;\">\n",
              "      <th></th>\n",
              "      <th>ID</th>\n",
              "      <th>Class</th>\n",
              "    </tr>\n",
              "  </thead>\n",
              "  <tbody>\n",
              "    <tr>\n",
              "      <th>0</th>\n",
              "      <td>AAAA0x1</td>\n",
              "      <td>0</td>\n",
              "    </tr>\n",
              "    <tr>\n",
              "      <th>1</th>\n",
              "      <td>AAAA0x2</td>\n",
              "      <td>0</td>\n",
              "    </tr>\n",
              "    <tr>\n",
              "      <th>2</th>\n",
              "      <td>AAAA0x5</td>\n",
              "      <td>0</td>\n",
              "    </tr>\n",
              "    <tr>\n",
              "      <th>3</th>\n",
              "      <td>AAAA0x7</td>\n",
              "      <td>0</td>\n",
              "    </tr>\n",
              "    <tr>\n",
              "      <th>4</th>\n",
              "      <td>AAAA0xc</td>\n",
              "      <td>0</td>\n",
              "    </tr>\n",
              "  </tbody>\n",
              "</table>\n",
              "</div>\n",
              "      <button class=\"colab-df-convert\" onclick=\"convertToInteractive('df-8d4102d3-1cd2-4969-a1ab-037d6eae5c1e')\"\n",
              "              title=\"Convert this dataframe to an interactive table.\"\n",
              "              style=\"display:none;\">\n",
              "        \n",
              "  <svg xmlns=\"http://www.w3.org/2000/svg\" height=\"24px\"viewBox=\"0 0 24 24\"\n",
              "       width=\"24px\">\n",
              "    <path d=\"M0 0h24v24H0V0z\" fill=\"none\"/>\n",
              "    <path d=\"M18.56 5.44l.94 2.06.94-2.06 2.06-.94-2.06-.94-.94-2.06-.94 2.06-2.06.94zm-11 1L8.5 8.5l.94-2.06 2.06-.94-2.06-.94L8.5 2.5l-.94 2.06-2.06.94zm10 10l.94 2.06.94-2.06 2.06-.94-2.06-.94-.94-2.06-.94 2.06-2.06.94z\"/><path d=\"M17.41 7.96l-1.37-1.37c-.4-.4-.92-.59-1.43-.59-.52 0-1.04.2-1.43.59L10.3 9.45l-7.72 7.72c-.78.78-.78 2.05 0 2.83L4 21.41c.39.39.9.59 1.41.59.51 0 1.02-.2 1.41-.59l7.78-7.78 2.81-2.81c.8-.78.8-2.07 0-2.86zM5.41 20L4 18.59l7.72-7.72 1.47 1.35L5.41 20z\"/>\n",
              "  </svg>\n",
              "      </button>\n",
              "      \n",
              "  <style>\n",
              "    .colab-df-container {\n",
              "      display:flex;\n",
              "      flex-wrap:wrap;\n",
              "      gap: 12px;\n",
              "    }\n",
              "\n",
              "    .colab-df-convert {\n",
              "      background-color: #E8F0FE;\n",
              "      border: none;\n",
              "      border-radius: 50%;\n",
              "      cursor: pointer;\n",
              "      display: none;\n",
              "      fill: #1967D2;\n",
              "      height: 32px;\n",
              "      padding: 0 0 0 0;\n",
              "      width: 32px;\n",
              "    }\n",
              "\n",
              "    .colab-df-convert:hover {\n",
              "      background-color: #E2EBFA;\n",
              "      box-shadow: 0px 1px 2px rgba(60, 64, 67, 0.3), 0px 1px 3px 1px rgba(60, 64, 67, 0.15);\n",
              "      fill: #174EA6;\n",
              "    }\n",
              "\n",
              "    [theme=dark] .colab-df-convert {\n",
              "      background-color: #3B4455;\n",
              "      fill: #D2E3FC;\n",
              "    }\n",
              "\n",
              "    [theme=dark] .colab-df-convert:hover {\n",
              "      background-color: #434B5C;\n",
              "      box-shadow: 0px 1px 3px 1px rgba(0, 0, 0, 0.15);\n",
              "      filter: drop-shadow(0px 1px 2px rgba(0, 0, 0, 0.3));\n",
              "      fill: #FFFFFF;\n",
              "    }\n",
              "  </style>\n",
              "\n",
              "      <script>\n",
              "        const buttonEl =\n",
              "          document.querySelector('#df-8d4102d3-1cd2-4969-a1ab-037d6eae5c1e button.colab-df-convert');\n",
              "        buttonEl.style.display =\n",
              "          google.colab.kernel.accessAllowed ? 'block' : 'none';\n",
              "\n",
              "        async function convertToInteractive(key) {\n",
              "          const element = document.querySelector('#df-8d4102d3-1cd2-4969-a1ab-037d6eae5c1e');\n",
              "          const dataTable =\n",
              "            await google.colab.kernel.invokeFunction('convertToInteractive',\n",
              "                                                     [key], {});\n",
              "          if (!dataTable) return;\n",
              "\n",
              "          const docLinkHtml = 'Like what you see? Visit the ' +\n",
              "            '<a target=\"_blank\" href=https://colab.research.google.com/notebooks/data_table.ipynb>data table notebook</a>'\n",
              "            + ' to learn more about interactive tables.';\n",
              "          element.innerHTML = '';\n",
              "          dataTable['output_type'] = 'display_data';\n",
              "          await google.colab.output.renderOutput(dataTable, element);\n",
              "          const docLink = document.createElement('div');\n",
              "          docLink.innerHTML = docLinkHtml;\n",
              "          element.appendChild(docLink);\n",
              "        }\n",
              "      </script>\n",
              "    </div>\n",
              "  </div>\n",
              "  "
            ]
          },
          "metadata": {},
          "execution_count": 464
        }
      ]
    },
    {
      "cell_type": "code",
      "source": [
        "submit.to_csv('./submission_0.csv', index=False)"
      ],
      "metadata": {
        "id": "fyEkwDUUNhj9"
      },
      "execution_count": 465,
      "outputs": []
    }
  ]
}