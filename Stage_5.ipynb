{
  "nbformat": 4,
  "nbformat_minor": 0,
  "metadata": {
    "colab": {
      "provenance": []
    },
    "kernelspec": {
      "name": "python3",
      "display_name": "Python 3"
    },
    "language_info": {
      "name": "python"
    }
  },
  "cells": [
    {
      "cell_type": "markdown",
      "source": [
        "# Stage 5"
      ],
      "metadata": {
        "id": "78WCOHtoI_11"
      }
    },
    {
      "cell_type": "markdown",
      "source": [
        "<br>\n",
        "\n",
        "<font color=red>**최종 학습 목표**</font>\n",
        "\n",
        "* 신용카드 사기거래 탐지 프로젝트를 통해 여러분은 이상치 감지를 훌륭히 수행할 수 있는 데이커가 되는 것에 한 발짝 더 다가가게 될 것입니다.\n",
        "\n",
        "* 이 뿐만 아니라 이번 교육을 통해 키운 역량은 다른 곳에서도 큰 도움이 될 것이라 기대합니다.<br>\n",
        "\n",
        "<br><font color=red>**Stage 5 학습 목표**</font>\n",
        "\n",
        "* 히스토그램과 박스 플랏으로 데이터 분포와 이상치 여부를 확인한다.\n",
        "\n",
        "* 산점도를 통해 상관관계를 확인한다.\n",
        "\n",
        "* 시각화를 통해 전처리 및 특징 공학에 필요한 Insight를 발견한다.\n",
        "\n",
        "\n",
        "<br>"
      ],
      "metadata": {
        "id": "68fy_EgSJCYv"
      }
    },
    {
      "cell_type": "markdown",
      "source": [
        "# Intro"
      ],
      "metadata": {
        "id": "cDnjBTPoJmZ8"
      }
    },
    {
      "cell_type": "markdown",
      "source": [
        "<br>\n",
        "\n",
        "**데이커 여러분 환영합니다.** 🤗 \n",
        "\n",
        "지난 Stage 4에서는 시각화를 통해 데이터의 비교, 분포, 구성, 관계를 확인하는 방법에 대해 배워보았습니다.\n",
        "<br><br>\n",
        "이번 Stage 5에서는 실제 데이콘에서 개최한 대회의 데이터를 시각화하여, 머신러닝 엔지니어링 성과를 높일 수 있는 **Insight 발견**에 대해 알아볼 것입니다.\n",
        "<br><br>\n",
        "오늘 우리는 다양한 그래프를 통해 <font color=blue>**데이터의 특징 별 패턴**</font>, <font color=red>**정상 거래와 사기 거래 데이터 비교**</font>, <font color=green>**데이터 셋 별 데이터 분포 확인**</font>,  <font color=#A52A2A>**적절한 전처리 및 특징 공학을 고려하기**</font>에 관하여 실습과 퀴즈를 통해 공부하게 될 것입니다.\n",
        "\n",
        "퀴즈가 있다고 당황하지 마세요. <font color=red>**Hint**</font>가 여러분을 언제나 곁에서 도와줄 것입니다. \n",
        "<br><br>\n",
        "그럼 이제 고고씽 ~ ! 🚅<br><br>"
      ],
      "metadata": {
        "id": "s0FB2n5AJnxd"
      }
    },
    {
      "cell_type": "markdown",
      "source": [
        "# 2. Stage 5에 앞서 대회 규칙 설명\n",
        "\n",
        "<br>"
      ],
      "metadata": {
        "id": "WBQL3DdJKcLE"
      }
    },
    {
      "cell_type": "code",
      "execution_count": null,
      "metadata": {
        "id": "JZpWgH0OI5N2"
      },
      "outputs": [],
      "source": []
    },
    {
      "cell_type": "markdown",
      "source": [
        "<br>\n",
        "\n",
        "# 3. Let's Start"
      ],
      "metadata": {
        "id": "KqHu2SigLvbO"
      }
    },
    {
      "cell_type": "markdown",
      "source": [
        "<br>\n",
        "\n",
        "여러분은 다시 중대한 임무를 맡게되었습니다. ⭐️\n",
        "\n",
        "다양한 시각화 기법을 적용하여 <font color=blue>**Insight 발견**</font>을 잘하기 위해 차근차근 배워봅시다."
      ],
      "metadata": {
        "id": "ENyeMHMJLx-_"
      }
    },
    {
      "cell_type": "markdown",
      "source": [
        "## 3 - 1 대회에서 제공하는 데이터 셋 불러오기"
      ],
      "metadata": {
        "id": "IESiKYFaMQU3"
      }
    },
    {
      "cell_type": "code",
      "source": [
        "import pandas as pd"
      ],
      "metadata": {
        "id": "ktOfj_hIMp2t"
      },
      "execution_count": 1,
      "outputs": []
    },
    {
      "cell_type": "code",
      "source": [
        "train = pd.read_csv('./train.csv') # 훈련 데이터 셋\n",
        "val = pd.read_csv('./val.csv') # 검증 데이터 셋\n",
        "test = pd.read_csv('./test.csv') # 테스트 데이터 셋"
      ],
      "metadata": {
        "id": "jmEGzmudLvwP"
      },
      "execution_count": 2,
      "outputs": []
    },
    {
      "cell_type": "markdown",
      "source": [
        "# 3 - 2 데이터 셋 별 기본 정보 확인하기"
      ],
      "metadata": {
        "id": "M_-JiKTmM3WN"
      }
    },
    {
      "cell_type": "markdown",
      "source": [
        "**데이터 앞부분 살펴보기**"
      ],
      "metadata": {
        "id": "YYeZI2zDOer8"
      }
    },
    {
      "cell_type": "code",
      "source": [
        "display(train.head(),\n",
        "        val.head(),\n",
        "        test.head())"
      ],
      "metadata": {
        "colab": {
          "base_uri": "https://localhost:8080/",
          "height": 735
        },
        "id": "4sdQylTRMoA2",
        "outputId": "a6f4253d-7365-4edc-8563-d451ba87f155"
      },
      "execution_count": 3,
      "outputs": [
        {
          "output_type": "display_data",
          "data": {
            "text/plain": [
              "   ID        V1        V2        V3        V4        V5        V6        V7  \\\n",
              "0   3 -1.358354 -1.340163  1.773209  0.379780 -0.503198  1.800499  0.791461   \n",
              "1   4 -0.966272 -0.185226  1.792993 -0.863291 -0.010309  1.247203  0.237609   \n",
              "2   6 -0.425966  0.960523  1.141109 -0.168252  0.420987 -0.029728  0.476201   \n",
              "3   8 -0.644269  1.417964  1.074380 -0.492199  0.948934  0.428118  1.120631   \n",
              "4   9 -0.894286  0.286157 -0.113192 -0.271526  2.669599  3.721818  0.370145   \n",
              "\n",
              "         V8        V9  ...       V21       V22       V23       V24       V25  \\\n",
              "0  0.247676 -1.514654  ...  0.247998  0.771679  0.909412 -0.689281 -0.327642   \n",
              "1  0.377436 -1.387024  ... -0.108300  0.005274 -0.190321 -1.175575  0.647376   \n",
              "2  0.260314 -0.568671  ... -0.208254 -0.559825 -0.026398 -0.371427 -0.232794   \n",
              "3 -3.807864  0.615375  ...  1.943465 -1.015455  0.057504 -0.649709 -0.415267   \n",
              "4  0.851084 -0.392048  ... -0.073425 -0.268092 -0.204233  1.011592  0.373205   \n",
              "\n",
              "        V26       V27       V28       V29       V30  \n",
              "0 -0.139097 -0.055353 -0.059752  4.983721 -0.994972  \n",
              "1 -0.221929  0.062723  0.061458  1.418291 -0.994972  \n",
              "2  0.105915  0.253844  0.081080 -0.256131 -0.994960  \n",
              "3 -0.051634 -1.206921 -1.085339  0.262698 -0.994901  \n",
              "4 -0.384157  0.011747  0.142404  0.994900 -0.994901  \n",
              "\n",
              "[5 rows x 31 columns]"
            ],
            "text/html": [
              "\n",
              "  <div id=\"df-0253be02-48ae-46d8-98b4-37dda60b1831\">\n",
              "    <div class=\"colab-df-container\">\n",
              "      <div>\n",
              "<style scoped>\n",
              "    .dataframe tbody tr th:only-of-type {\n",
              "        vertical-align: middle;\n",
              "    }\n",
              "\n",
              "    .dataframe tbody tr th {\n",
              "        vertical-align: top;\n",
              "    }\n",
              "\n",
              "    .dataframe thead th {\n",
              "        text-align: right;\n",
              "    }\n",
              "</style>\n",
              "<table border=\"1\" class=\"dataframe\">\n",
              "  <thead>\n",
              "    <tr style=\"text-align: right;\">\n",
              "      <th></th>\n",
              "      <th>ID</th>\n",
              "      <th>V1</th>\n",
              "      <th>V2</th>\n",
              "      <th>V3</th>\n",
              "      <th>V4</th>\n",
              "      <th>V5</th>\n",
              "      <th>V6</th>\n",
              "      <th>V7</th>\n",
              "      <th>V8</th>\n",
              "      <th>V9</th>\n",
              "      <th>...</th>\n",
              "      <th>V21</th>\n",
              "      <th>V22</th>\n",
              "      <th>V23</th>\n",
              "      <th>V24</th>\n",
              "      <th>V25</th>\n",
              "      <th>V26</th>\n",
              "      <th>V27</th>\n",
              "      <th>V28</th>\n",
              "      <th>V29</th>\n",
              "      <th>V30</th>\n",
              "    </tr>\n",
              "  </thead>\n",
              "  <tbody>\n",
              "    <tr>\n",
              "      <th>0</th>\n",
              "      <td>3</td>\n",
              "      <td>-1.358354</td>\n",
              "      <td>-1.340163</td>\n",
              "      <td>1.773209</td>\n",
              "      <td>0.379780</td>\n",
              "      <td>-0.503198</td>\n",
              "      <td>1.800499</td>\n",
              "      <td>0.791461</td>\n",
              "      <td>0.247676</td>\n",
              "      <td>-1.514654</td>\n",
              "      <td>...</td>\n",
              "      <td>0.247998</td>\n",
              "      <td>0.771679</td>\n",
              "      <td>0.909412</td>\n",
              "      <td>-0.689281</td>\n",
              "      <td>-0.327642</td>\n",
              "      <td>-0.139097</td>\n",
              "      <td>-0.055353</td>\n",
              "      <td>-0.059752</td>\n",
              "      <td>4.983721</td>\n",
              "      <td>-0.994972</td>\n",
              "    </tr>\n",
              "    <tr>\n",
              "      <th>1</th>\n",
              "      <td>4</td>\n",
              "      <td>-0.966272</td>\n",
              "      <td>-0.185226</td>\n",
              "      <td>1.792993</td>\n",
              "      <td>-0.863291</td>\n",
              "      <td>-0.010309</td>\n",
              "      <td>1.247203</td>\n",
              "      <td>0.237609</td>\n",
              "      <td>0.377436</td>\n",
              "      <td>-1.387024</td>\n",
              "      <td>...</td>\n",
              "      <td>-0.108300</td>\n",
              "      <td>0.005274</td>\n",
              "      <td>-0.190321</td>\n",
              "      <td>-1.175575</td>\n",
              "      <td>0.647376</td>\n",
              "      <td>-0.221929</td>\n",
              "      <td>0.062723</td>\n",
              "      <td>0.061458</td>\n",
              "      <td>1.418291</td>\n",
              "      <td>-0.994972</td>\n",
              "    </tr>\n",
              "    <tr>\n",
              "      <th>2</th>\n",
              "      <td>6</td>\n",
              "      <td>-0.425966</td>\n",
              "      <td>0.960523</td>\n",
              "      <td>1.141109</td>\n",
              "      <td>-0.168252</td>\n",
              "      <td>0.420987</td>\n",
              "      <td>-0.029728</td>\n",
              "      <td>0.476201</td>\n",
              "      <td>0.260314</td>\n",
              "      <td>-0.568671</td>\n",
              "      <td>...</td>\n",
              "      <td>-0.208254</td>\n",
              "      <td>-0.559825</td>\n",
              "      <td>-0.026398</td>\n",
              "      <td>-0.371427</td>\n",
              "      <td>-0.232794</td>\n",
              "      <td>0.105915</td>\n",
              "      <td>0.253844</td>\n",
              "      <td>0.081080</td>\n",
              "      <td>-0.256131</td>\n",
              "      <td>-0.994960</td>\n",
              "    </tr>\n",
              "    <tr>\n",
              "      <th>3</th>\n",
              "      <td>8</td>\n",
              "      <td>-0.644269</td>\n",
              "      <td>1.417964</td>\n",
              "      <td>1.074380</td>\n",
              "      <td>-0.492199</td>\n",
              "      <td>0.948934</td>\n",
              "      <td>0.428118</td>\n",
              "      <td>1.120631</td>\n",
              "      <td>-3.807864</td>\n",
              "      <td>0.615375</td>\n",
              "      <td>...</td>\n",
              "      <td>1.943465</td>\n",
              "      <td>-1.015455</td>\n",
              "      <td>0.057504</td>\n",
              "      <td>-0.649709</td>\n",
              "      <td>-0.415267</td>\n",
              "      <td>-0.051634</td>\n",
              "      <td>-1.206921</td>\n",
              "      <td>-1.085339</td>\n",
              "      <td>0.262698</td>\n",
              "      <td>-0.994901</td>\n",
              "    </tr>\n",
              "    <tr>\n",
              "      <th>4</th>\n",
              "      <td>9</td>\n",
              "      <td>-0.894286</td>\n",
              "      <td>0.286157</td>\n",
              "      <td>-0.113192</td>\n",
              "      <td>-0.271526</td>\n",
              "      <td>2.669599</td>\n",
              "      <td>3.721818</td>\n",
              "      <td>0.370145</td>\n",
              "      <td>0.851084</td>\n",
              "      <td>-0.392048</td>\n",
              "      <td>...</td>\n",
              "      <td>-0.073425</td>\n",
              "      <td>-0.268092</td>\n",
              "      <td>-0.204233</td>\n",
              "      <td>1.011592</td>\n",
              "      <td>0.373205</td>\n",
              "      <td>-0.384157</td>\n",
              "      <td>0.011747</td>\n",
              "      <td>0.142404</td>\n",
              "      <td>0.994900</td>\n",
              "      <td>-0.994901</td>\n",
              "    </tr>\n",
              "  </tbody>\n",
              "</table>\n",
              "<p>5 rows × 31 columns</p>\n",
              "</div>\n",
              "      <button class=\"colab-df-convert\" onclick=\"convertToInteractive('df-0253be02-48ae-46d8-98b4-37dda60b1831')\"\n",
              "              title=\"Convert this dataframe to an interactive table.\"\n",
              "              style=\"display:none;\">\n",
              "        \n",
              "  <svg xmlns=\"http://www.w3.org/2000/svg\" height=\"24px\"viewBox=\"0 0 24 24\"\n",
              "       width=\"24px\">\n",
              "    <path d=\"M0 0h24v24H0V0z\" fill=\"none\"/>\n",
              "    <path d=\"M18.56 5.44l.94 2.06.94-2.06 2.06-.94-2.06-.94-.94-2.06-.94 2.06-2.06.94zm-11 1L8.5 8.5l.94-2.06 2.06-.94-2.06-.94L8.5 2.5l-.94 2.06-2.06.94zm10 10l.94 2.06.94-2.06 2.06-.94-2.06-.94-.94-2.06-.94 2.06-2.06.94z\"/><path d=\"M17.41 7.96l-1.37-1.37c-.4-.4-.92-.59-1.43-.59-.52 0-1.04.2-1.43.59L10.3 9.45l-7.72 7.72c-.78.78-.78 2.05 0 2.83L4 21.41c.39.39.9.59 1.41.59.51 0 1.02-.2 1.41-.59l7.78-7.78 2.81-2.81c.8-.78.8-2.07 0-2.86zM5.41 20L4 18.59l7.72-7.72 1.47 1.35L5.41 20z\"/>\n",
              "  </svg>\n",
              "      </button>\n",
              "      \n",
              "  <style>\n",
              "    .colab-df-container {\n",
              "      display:flex;\n",
              "      flex-wrap:wrap;\n",
              "      gap: 12px;\n",
              "    }\n",
              "\n",
              "    .colab-df-convert {\n",
              "      background-color: #E8F0FE;\n",
              "      border: none;\n",
              "      border-radius: 50%;\n",
              "      cursor: pointer;\n",
              "      display: none;\n",
              "      fill: #1967D2;\n",
              "      height: 32px;\n",
              "      padding: 0 0 0 0;\n",
              "      width: 32px;\n",
              "    }\n",
              "\n",
              "    .colab-df-convert:hover {\n",
              "      background-color: #E2EBFA;\n",
              "      box-shadow: 0px 1px 2px rgba(60, 64, 67, 0.3), 0px 1px 3px 1px rgba(60, 64, 67, 0.15);\n",
              "      fill: #174EA6;\n",
              "    }\n",
              "\n",
              "    [theme=dark] .colab-df-convert {\n",
              "      background-color: #3B4455;\n",
              "      fill: #D2E3FC;\n",
              "    }\n",
              "\n",
              "    [theme=dark] .colab-df-convert:hover {\n",
              "      background-color: #434B5C;\n",
              "      box-shadow: 0px 1px 3px 1px rgba(0, 0, 0, 0.15);\n",
              "      filter: drop-shadow(0px 1px 2px rgba(0, 0, 0, 0.3));\n",
              "      fill: #FFFFFF;\n",
              "    }\n",
              "  </style>\n",
              "\n",
              "      <script>\n",
              "        const buttonEl =\n",
              "          document.querySelector('#df-0253be02-48ae-46d8-98b4-37dda60b1831 button.colab-df-convert');\n",
              "        buttonEl.style.display =\n",
              "          google.colab.kernel.accessAllowed ? 'block' : 'none';\n",
              "\n",
              "        async function convertToInteractive(key) {\n",
              "          const element = document.querySelector('#df-0253be02-48ae-46d8-98b4-37dda60b1831');\n",
              "          const dataTable =\n",
              "            await google.colab.kernel.invokeFunction('convertToInteractive',\n",
              "                                                     [key], {});\n",
              "          if (!dataTable) return;\n",
              "\n",
              "          const docLinkHtml = 'Like what you see? Visit the ' +\n",
              "            '<a target=\"_blank\" href=https://colab.research.google.com/notebooks/data_table.ipynb>data table notebook</a>'\n",
              "            + ' to learn more about interactive tables.';\n",
              "          element.innerHTML = '';\n",
              "          dataTable['output_type'] = 'display_data';\n",
              "          await google.colab.output.renderOutput(dataTable, element);\n",
              "          const docLink = document.createElement('div');\n",
              "          docLink.innerHTML = docLinkHtml;\n",
              "          element.appendChild(docLink);\n",
              "        }\n",
              "      </script>\n",
              "    </div>\n",
              "  </div>\n",
              "  "
            ]
          },
          "metadata": {}
        },
        {
          "output_type": "display_data",
          "data": {
            "text/plain": [
              "   ID        V1        V2        V3        V4        V5        V6        V7  \\\n",
              "0  10 -0.338262  1.119593  1.044367 -0.222187  0.499361 -0.246761  0.651583   \n",
              "1  22  0.962496  0.328461 -0.171479  2.109204  1.129566  1.696038  0.107712   \n",
              "2  63  1.145524  0.575068  0.194008  2.598192 -0.092210 -1.044430  0.531588   \n",
              "3  69  0.927060 -0.323684  0.387585  0.544474  0.246787  1.650358 -0.427576   \n",
              "4  83 -3.005237  2.600138  1.483691 -2.418473  0.306326 -0.824575  2.065426   \n",
              "\n",
              "         V8        V9  ...       V22       V23       V24       V25       V26  \\\n",
              "0  0.069539 -0.736727  ... -0.633753 -0.120794 -0.385050 -0.069733  0.094199   \n",
              "1  0.521502 -1.191311  ...  0.402492 -0.048508 -1.371866  0.390814  0.199964   \n",
              "2 -0.241888 -0.896287  ... -0.119703 -0.076510  0.691320  0.633984  0.048741   \n",
              "3  0.615371  0.226278  ...  0.079359  0.096632 -0.992569  0.085096  0.377447   \n",
              "4 -1.829347  4.009259  ... -0.181268 -0.163747  0.515821  0.136318  0.460054   \n",
              "\n",
              "        V27       V28       V29       V30  Class  \n",
              "0  0.246219  0.083076 -0.255991 -0.994878      0  \n",
              "1  0.016371 -0.014605  0.168937 -0.994784      0  \n",
              "2 -0.053192  0.016251  0.169496 -0.994502      0  \n",
              "3  0.036096 -0.005960  0.331307 -0.994467      0  \n",
              "4 -0.251259 -1.105751 -0.287012 -0.994373      0  \n",
              "\n",
              "[5 rows x 32 columns]"
            ],
            "text/html": [
              "\n",
              "  <div id=\"df-363f88b4-7796-428b-9f2c-84bf7dd24422\">\n",
              "    <div class=\"colab-df-container\">\n",
              "      <div>\n",
              "<style scoped>\n",
              "    .dataframe tbody tr th:only-of-type {\n",
              "        vertical-align: middle;\n",
              "    }\n",
              "\n",
              "    .dataframe tbody tr th {\n",
              "        vertical-align: top;\n",
              "    }\n",
              "\n",
              "    .dataframe thead th {\n",
              "        text-align: right;\n",
              "    }\n",
              "</style>\n",
              "<table border=\"1\" class=\"dataframe\">\n",
              "  <thead>\n",
              "    <tr style=\"text-align: right;\">\n",
              "      <th></th>\n",
              "      <th>ID</th>\n",
              "      <th>V1</th>\n",
              "      <th>V2</th>\n",
              "      <th>V3</th>\n",
              "      <th>V4</th>\n",
              "      <th>V5</th>\n",
              "      <th>V6</th>\n",
              "      <th>V7</th>\n",
              "      <th>V8</th>\n",
              "      <th>V9</th>\n",
              "      <th>...</th>\n",
              "      <th>V22</th>\n",
              "      <th>V23</th>\n",
              "      <th>V24</th>\n",
              "      <th>V25</th>\n",
              "      <th>V26</th>\n",
              "      <th>V27</th>\n",
              "      <th>V28</th>\n",
              "      <th>V29</th>\n",
              "      <th>V30</th>\n",
              "      <th>Class</th>\n",
              "    </tr>\n",
              "  </thead>\n",
              "  <tbody>\n",
              "    <tr>\n",
              "      <th>0</th>\n",
              "      <td>10</td>\n",
              "      <td>-0.338262</td>\n",
              "      <td>1.119593</td>\n",
              "      <td>1.044367</td>\n",
              "      <td>-0.222187</td>\n",
              "      <td>0.499361</td>\n",
              "      <td>-0.246761</td>\n",
              "      <td>0.651583</td>\n",
              "      <td>0.069539</td>\n",
              "      <td>-0.736727</td>\n",
              "      <td>...</td>\n",
              "      <td>-0.633753</td>\n",
              "      <td>-0.120794</td>\n",
              "      <td>-0.385050</td>\n",
              "      <td>-0.069733</td>\n",
              "      <td>0.094199</td>\n",
              "      <td>0.246219</td>\n",
              "      <td>0.083076</td>\n",
              "      <td>-0.255991</td>\n",
              "      <td>-0.994878</td>\n",
              "      <td>0</td>\n",
              "    </tr>\n",
              "    <tr>\n",
              "      <th>1</th>\n",
              "      <td>22</td>\n",
              "      <td>0.962496</td>\n",
              "      <td>0.328461</td>\n",
              "      <td>-0.171479</td>\n",
              "      <td>2.109204</td>\n",
              "      <td>1.129566</td>\n",
              "      <td>1.696038</td>\n",
              "      <td>0.107712</td>\n",
              "      <td>0.521502</td>\n",
              "      <td>-1.191311</td>\n",
              "      <td>...</td>\n",
              "      <td>0.402492</td>\n",
              "      <td>-0.048508</td>\n",
              "      <td>-1.371866</td>\n",
              "      <td>0.390814</td>\n",
              "      <td>0.199964</td>\n",
              "      <td>0.016371</td>\n",
              "      <td>-0.014605</td>\n",
              "      <td>0.168937</td>\n",
              "      <td>-0.994784</td>\n",
              "      <td>0</td>\n",
              "    </tr>\n",
              "    <tr>\n",
              "      <th>2</th>\n",
              "      <td>63</td>\n",
              "      <td>1.145524</td>\n",
              "      <td>0.575068</td>\n",
              "      <td>0.194008</td>\n",
              "      <td>2.598192</td>\n",
              "      <td>-0.092210</td>\n",
              "      <td>-1.044430</td>\n",
              "      <td>0.531588</td>\n",
              "      <td>-0.241888</td>\n",
              "      <td>-0.896287</td>\n",
              "      <td>...</td>\n",
              "      <td>-0.119703</td>\n",
              "      <td>-0.076510</td>\n",
              "      <td>0.691320</td>\n",
              "      <td>0.633984</td>\n",
              "      <td>0.048741</td>\n",
              "      <td>-0.053192</td>\n",
              "      <td>0.016251</td>\n",
              "      <td>0.169496</td>\n",
              "      <td>-0.994502</td>\n",
              "      <td>0</td>\n",
              "    </tr>\n",
              "    <tr>\n",
              "      <th>3</th>\n",
              "      <td>69</td>\n",
              "      <td>0.927060</td>\n",
              "      <td>-0.323684</td>\n",
              "      <td>0.387585</td>\n",
              "      <td>0.544474</td>\n",
              "      <td>0.246787</td>\n",
              "      <td>1.650358</td>\n",
              "      <td>-0.427576</td>\n",
              "      <td>0.615371</td>\n",
              "      <td>0.226278</td>\n",
              "      <td>...</td>\n",
              "      <td>0.079359</td>\n",
              "      <td>0.096632</td>\n",
              "      <td>-0.992569</td>\n",
              "      <td>0.085096</td>\n",
              "      <td>0.377447</td>\n",
              "      <td>0.036096</td>\n",
              "      <td>-0.005960</td>\n",
              "      <td>0.331307</td>\n",
              "      <td>-0.994467</td>\n",
              "      <td>0</td>\n",
              "    </tr>\n",
              "    <tr>\n",
              "      <th>4</th>\n",
              "      <td>83</td>\n",
              "      <td>-3.005237</td>\n",
              "      <td>2.600138</td>\n",
              "      <td>1.483691</td>\n",
              "      <td>-2.418473</td>\n",
              "      <td>0.306326</td>\n",
              "      <td>-0.824575</td>\n",
              "      <td>2.065426</td>\n",
              "      <td>-1.829347</td>\n",
              "      <td>4.009259</td>\n",
              "      <td>...</td>\n",
              "      <td>-0.181268</td>\n",
              "      <td>-0.163747</td>\n",
              "      <td>0.515821</td>\n",
              "      <td>0.136318</td>\n",
              "      <td>0.460054</td>\n",
              "      <td>-0.251259</td>\n",
              "      <td>-1.105751</td>\n",
              "      <td>-0.287012</td>\n",
              "      <td>-0.994373</td>\n",
              "      <td>0</td>\n",
              "    </tr>\n",
              "  </tbody>\n",
              "</table>\n",
              "<p>5 rows × 32 columns</p>\n",
              "</div>\n",
              "      <button class=\"colab-df-convert\" onclick=\"convertToInteractive('df-363f88b4-7796-428b-9f2c-84bf7dd24422')\"\n",
              "              title=\"Convert this dataframe to an interactive table.\"\n",
              "              style=\"display:none;\">\n",
              "        \n",
              "  <svg xmlns=\"http://www.w3.org/2000/svg\" height=\"24px\"viewBox=\"0 0 24 24\"\n",
              "       width=\"24px\">\n",
              "    <path d=\"M0 0h24v24H0V0z\" fill=\"none\"/>\n",
              "    <path d=\"M18.56 5.44l.94 2.06.94-2.06 2.06-.94-2.06-.94-.94-2.06-.94 2.06-2.06.94zm-11 1L8.5 8.5l.94-2.06 2.06-.94-2.06-.94L8.5 2.5l-.94 2.06-2.06.94zm10 10l.94 2.06.94-2.06 2.06-.94-2.06-.94-.94-2.06-.94 2.06-2.06.94z\"/><path d=\"M17.41 7.96l-1.37-1.37c-.4-.4-.92-.59-1.43-.59-.52 0-1.04.2-1.43.59L10.3 9.45l-7.72 7.72c-.78.78-.78 2.05 0 2.83L4 21.41c.39.39.9.59 1.41.59.51 0 1.02-.2 1.41-.59l7.78-7.78 2.81-2.81c.8-.78.8-2.07 0-2.86zM5.41 20L4 18.59l7.72-7.72 1.47 1.35L5.41 20z\"/>\n",
              "  </svg>\n",
              "      </button>\n",
              "      \n",
              "  <style>\n",
              "    .colab-df-container {\n",
              "      display:flex;\n",
              "      flex-wrap:wrap;\n",
              "      gap: 12px;\n",
              "    }\n",
              "\n",
              "    .colab-df-convert {\n",
              "      background-color: #E8F0FE;\n",
              "      border: none;\n",
              "      border-radius: 50%;\n",
              "      cursor: pointer;\n",
              "      display: none;\n",
              "      fill: #1967D2;\n",
              "      height: 32px;\n",
              "      padding: 0 0 0 0;\n",
              "      width: 32px;\n",
              "    }\n",
              "\n",
              "    .colab-df-convert:hover {\n",
              "      background-color: #E2EBFA;\n",
              "      box-shadow: 0px 1px 2px rgba(60, 64, 67, 0.3), 0px 1px 3px 1px rgba(60, 64, 67, 0.15);\n",
              "      fill: #174EA6;\n",
              "    }\n",
              "\n",
              "    [theme=dark] .colab-df-convert {\n",
              "      background-color: #3B4455;\n",
              "      fill: #D2E3FC;\n",
              "    }\n",
              "\n",
              "    [theme=dark] .colab-df-convert:hover {\n",
              "      background-color: #434B5C;\n",
              "      box-shadow: 0px 1px 3px 1px rgba(0, 0, 0, 0.15);\n",
              "      filter: drop-shadow(0px 1px 2px rgba(0, 0, 0, 0.3));\n",
              "      fill: #FFFFFF;\n",
              "    }\n",
              "  </style>\n",
              "\n",
              "      <script>\n",
              "        const buttonEl =\n",
              "          document.querySelector('#df-363f88b4-7796-428b-9f2c-84bf7dd24422 button.colab-df-convert');\n",
              "        buttonEl.style.display =\n",
              "          google.colab.kernel.accessAllowed ? 'block' : 'none';\n",
              "\n",
              "        async function convertToInteractive(key) {\n",
              "          const element = document.querySelector('#df-363f88b4-7796-428b-9f2c-84bf7dd24422');\n",
              "          const dataTable =\n",
              "            await google.colab.kernel.invokeFunction('convertToInteractive',\n",
              "                                                     [key], {});\n",
              "          if (!dataTable) return;\n",
              "\n",
              "          const docLinkHtml = 'Like what you see? Visit the ' +\n",
              "            '<a target=\"_blank\" href=https://colab.research.google.com/notebooks/data_table.ipynb>data table notebook</a>'\n",
              "            + ' to learn more about interactive tables.';\n",
              "          element.innerHTML = '';\n",
              "          dataTable['output_type'] = 'display_data';\n",
              "          await google.colab.output.renderOutput(dataTable, element);\n",
              "          const docLink = document.createElement('div');\n",
              "          docLink.innerHTML = docLinkHtml;\n",
              "          element.appendChild(docLink);\n",
              "        }\n",
              "      </script>\n",
              "    </div>\n",
              "  </div>\n",
              "  "
            ]
          },
          "metadata": {}
        },
        {
          "output_type": "display_data",
          "data": {
            "text/plain": [
              "        ID        V1        V2        V3        V4        V5        V6  \\\n",
              "0  AAAA0x1 -1.359807 -0.072781  2.536347  1.378155 -0.338321  0.462388   \n",
              "1  AAAA0x2  1.191857  0.266151  0.166480  0.448154  0.060018 -0.082361   \n",
              "2  AAAA0x5 -1.158233  0.877737  1.548718  0.403034 -0.407193  0.095921   \n",
              "3  AAAA0x7  1.229658  0.141004  0.045371  1.202613  0.191881  0.272708   \n",
              "4  AAAA0xc  0.384978  0.616109 -0.874300 -0.094019  2.924584  3.317027   \n",
              "\n",
              "         V7        V8        V9  ...       V21       V22       V23       V24  \\\n",
              "0  0.239599  0.098698  0.363787  ... -0.018307  0.277838 -0.110474  0.066928   \n",
              "1 -0.078803  0.085102 -0.255425  ... -0.225775 -0.638672  0.101288 -0.339846   \n",
              "2  0.592941 -0.270533  0.817739  ... -0.009431  0.798278 -0.137458  0.141267   \n",
              "3 -0.005159  0.081213  0.464960  ... -0.167716 -0.270710 -0.154104 -0.780055   \n",
              "4  0.470455  0.538247 -0.558895  ...  0.049924  0.238422  0.009130  0.996710   \n",
              "\n",
              "        V25       V26       V27       V28       V29       V30  \n",
              "0  0.128539 -0.189115  0.133558 -0.021053  1.783274 -0.994983  \n",
              "1  0.167170  0.125895 -0.008983  0.014724 -0.269825 -0.994983  \n",
              "2 -0.206010  0.502292  0.219422  0.215153  0.670579 -0.994960  \n",
              "3  0.750137 -0.257237  0.034507  0.005168 -0.237686 -0.994937  \n",
              "4 -0.767315 -0.492208  0.042472 -0.054337 -0.167819 -0.994866  \n",
              "\n",
              "[5 rows x 31 columns]"
            ],
            "text/html": [
              "\n",
              "  <div id=\"df-73635ccf-2774-42a2-ab84-3a10217da500\">\n",
              "    <div class=\"colab-df-container\">\n",
              "      <div>\n",
              "<style scoped>\n",
              "    .dataframe tbody tr th:only-of-type {\n",
              "        vertical-align: middle;\n",
              "    }\n",
              "\n",
              "    .dataframe tbody tr th {\n",
              "        vertical-align: top;\n",
              "    }\n",
              "\n",
              "    .dataframe thead th {\n",
              "        text-align: right;\n",
              "    }\n",
              "</style>\n",
              "<table border=\"1\" class=\"dataframe\">\n",
              "  <thead>\n",
              "    <tr style=\"text-align: right;\">\n",
              "      <th></th>\n",
              "      <th>ID</th>\n",
              "      <th>V1</th>\n",
              "      <th>V2</th>\n",
              "      <th>V3</th>\n",
              "      <th>V4</th>\n",
              "      <th>V5</th>\n",
              "      <th>V6</th>\n",
              "      <th>V7</th>\n",
              "      <th>V8</th>\n",
              "      <th>V9</th>\n",
              "      <th>...</th>\n",
              "      <th>V21</th>\n",
              "      <th>V22</th>\n",
              "      <th>V23</th>\n",
              "      <th>V24</th>\n",
              "      <th>V25</th>\n",
              "      <th>V26</th>\n",
              "      <th>V27</th>\n",
              "      <th>V28</th>\n",
              "      <th>V29</th>\n",
              "      <th>V30</th>\n",
              "    </tr>\n",
              "  </thead>\n",
              "  <tbody>\n",
              "    <tr>\n",
              "      <th>0</th>\n",
              "      <td>AAAA0x1</td>\n",
              "      <td>-1.359807</td>\n",
              "      <td>-0.072781</td>\n",
              "      <td>2.536347</td>\n",
              "      <td>1.378155</td>\n",
              "      <td>-0.338321</td>\n",
              "      <td>0.462388</td>\n",
              "      <td>0.239599</td>\n",
              "      <td>0.098698</td>\n",
              "      <td>0.363787</td>\n",
              "      <td>...</td>\n",
              "      <td>-0.018307</td>\n",
              "      <td>0.277838</td>\n",
              "      <td>-0.110474</td>\n",
              "      <td>0.066928</td>\n",
              "      <td>0.128539</td>\n",
              "      <td>-0.189115</td>\n",
              "      <td>0.133558</td>\n",
              "      <td>-0.021053</td>\n",
              "      <td>1.783274</td>\n",
              "      <td>-0.994983</td>\n",
              "    </tr>\n",
              "    <tr>\n",
              "      <th>1</th>\n",
              "      <td>AAAA0x2</td>\n",
              "      <td>1.191857</td>\n",
              "      <td>0.266151</td>\n",
              "      <td>0.166480</td>\n",
              "      <td>0.448154</td>\n",
              "      <td>0.060018</td>\n",
              "      <td>-0.082361</td>\n",
              "      <td>-0.078803</td>\n",
              "      <td>0.085102</td>\n",
              "      <td>-0.255425</td>\n",
              "      <td>...</td>\n",
              "      <td>-0.225775</td>\n",
              "      <td>-0.638672</td>\n",
              "      <td>0.101288</td>\n",
              "      <td>-0.339846</td>\n",
              "      <td>0.167170</td>\n",
              "      <td>0.125895</td>\n",
              "      <td>-0.008983</td>\n",
              "      <td>0.014724</td>\n",
              "      <td>-0.269825</td>\n",
              "      <td>-0.994983</td>\n",
              "    </tr>\n",
              "    <tr>\n",
              "      <th>2</th>\n",
              "      <td>AAAA0x5</td>\n",
              "      <td>-1.158233</td>\n",
              "      <td>0.877737</td>\n",
              "      <td>1.548718</td>\n",
              "      <td>0.403034</td>\n",
              "      <td>-0.407193</td>\n",
              "      <td>0.095921</td>\n",
              "      <td>0.592941</td>\n",
              "      <td>-0.270533</td>\n",
              "      <td>0.817739</td>\n",
              "      <td>...</td>\n",
              "      <td>-0.009431</td>\n",
              "      <td>0.798278</td>\n",
              "      <td>-0.137458</td>\n",
              "      <td>0.141267</td>\n",
              "      <td>-0.206010</td>\n",
              "      <td>0.502292</td>\n",
              "      <td>0.219422</td>\n",
              "      <td>0.215153</td>\n",
              "      <td>0.670579</td>\n",
              "      <td>-0.994960</td>\n",
              "    </tr>\n",
              "    <tr>\n",
              "      <th>3</th>\n",
              "      <td>AAAA0x7</td>\n",
              "      <td>1.229658</td>\n",
              "      <td>0.141004</td>\n",
              "      <td>0.045371</td>\n",
              "      <td>1.202613</td>\n",
              "      <td>0.191881</td>\n",
              "      <td>0.272708</td>\n",
              "      <td>-0.005159</td>\n",
              "      <td>0.081213</td>\n",
              "      <td>0.464960</td>\n",
              "      <td>...</td>\n",
              "      <td>-0.167716</td>\n",
              "      <td>-0.270710</td>\n",
              "      <td>-0.154104</td>\n",
              "      <td>-0.780055</td>\n",
              "      <td>0.750137</td>\n",
              "      <td>-0.257237</td>\n",
              "      <td>0.034507</td>\n",
              "      <td>0.005168</td>\n",
              "      <td>-0.237686</td>\n",
              "      <td>-0.994937</td>\n",
              "    </tr>\n",
              "    <tr>\n",
              "      <th>4</th>\n",
              "      <td>AAAA0xc</td>\n",
              "      <td>0.384978</td>\n",
              "      <td>0.616109</td>\n",
              "      <td>-0.874300</td>\n",
              "      <td>-0.094019</td>\n",
              "      <td>2.924584</td>\n",
              "      <td>3.317027</td>\n",
              "      <td>0.470455</td>\n",
              "      <td>0.538247</td>\n",
              "      <td>-0.558895</td>\n",
              "      <td>...</td>\n",
              "      <td>0.049924</td>\n",
              "      <td>0.238422</td>\n",
              "      <td>0.009130</td>\n",
              "      <td>0.996710</td>\n",
              "      <td>-0.767315</td>\n",
              "      <td>-0.492208</td>\n",
              "      <td>0.042472</td>\n",
              "      <td>-0.054337</td>\n",
              "      <td>-0.167819</td>\n",
              "      <td>-0.994866</td>\n",
              "    </tr>\n",
              "  </tbody>\n",
              "</table>\n",
              "<p>5 rows × 31 columns</p>\n",
              "</div>\n",
              "      <button class=\"colab-df-convert\" onclick=\"convertToInteractive('df-73635ccf-2774-42a2-ab84-3a10217da500')\"\n",
              "              title=\"Convert this dataframe to an interactive table.\"\n",
              "              style=\"display:none;\">\n",
              "        \n",
              "  <svg xmlns=\"http://www.w3.org/2000/svg\" height=\"24px\"viewBox=\"0 0 24 24\"\n",
              "       width=\"24px\">\n",
              "    <path d=\"M0 0h24v24H0V0z\" fill=\"none\"/>\n",
              "    <path d=\"M18.56 5.44l.94 2.06.94-2.06 2.06-.94-2.06-.94-.94-2.06-.94 2.06-2.06.94zm-11 1L8.5 8.5l.94-2.06 2.06-.94-2.06-.94L8.5 2.5l-.94 2.06-2.06.94zm10 10l.94 2.06.94-2.06 2.06-.94-2.06-.94-.94-2.06-.94 2.06-2.06.94z\"/><path d=\"M17.41 7.96l-1.37-1.37c-.4-.4-.92-.59-1.43-.59-.52 0-1.04.2-1.43.59L10.3 9.45l-7.72 7.72c-.78.78-.78 2.05 0 2.83L4 21.41c.39.39.9.59 1.41.59.51 0 1.02-.2 1.41-.59l7.78-7.78 2.81-2.81c.8-.78.8-2.07 0-2.86zM5.41 20L4 18.59l7.72-7.72 1.47 1.35L5.41 20z\"/>\n",
              "  </svg>\n",
              "      </button>\n",
              "      \n",
              "  <style>\n",
              "    .colab-df-container {\n",
              "      display:flex;\n",
              "      flex-wrap:wrap;\n",
              "      gap: 12px;\n",
              "    }\n",
              "\n",
              "    .colab-df-convert {\n",
              "      background-color: #E8F0FE;\n",
              "      border: none;\n",
              "      border-radius: 50%;\n",
              "      cursor: pointer;\n",
              "      display: none;\n",
              "      fill: #1967D2;\n",
              "      height: 32px;\n",
              "      padding: 0 0 0 0;\n",
              "      width: 32px;\n",
              "    }\n",
              "\n",
              "    .colab-df-convert:hover {\n",
              "      background-color: #E2EBFA;\n",
              "      box-shadow: 0px 1px 2px rgba(60, 64, 67, 0.3), 0px 1px 3px 1px rgba(60, 64, 67, 0.15);\n",
              "      fill: #174EA6;\n",
              "    }\n",
              "\n",
              "    [theme=dark] .colab-df-convert {\n",
              "      background-color: #3B4455;\n",
              "      fill: #D2E3FC;\n",
              "    }\n",
              "\n",
              "    [theme=dark] .colab-df-convert:hover {\n",
              "      background-color: #434B5C;\n",
              "      box-shadow: 0px 1px 3px 1px rgba(0, 0, 0, 0.15);\n",
              "      filter: drop-shadow(0px 1px 2px rgba(0, 0, 0, 0.3));\n",
              "      fill: #FFFFFF;\n",
              "    }\n",
              "  </style>\n",
              "\n",
              "      <script>\n",
              "        const buttonEl =\n",
              "          document.querySelector('#df-73635ccf-2774-42a2-ab84-3a10217da500 button.colab-df-convert');\n",
              "        buttonEl.style.display =\n",
              "          google.colab.kernel.accessAllowed ? 'block' : 'none';\n",
              "\n",
              "        async function convertToInteractive(key) {\n",
              "          const element = document.querySelector('#df-73635ccf-2774-42a2-ab84-3a10217da500');\n",
              "          const dataTable =\n",
              "            await google.colab.kernel.invokeFunction('convertToInteractive',\n",
              "                                                     [key], {});\n",
              "          if (!dataTable) return;\n",
              "\n",
              "          const docLinkHtml = 'Like what you see? Visit the ' +\n",
              "            '<a target=\"_blank\" href=https://colab.research.google.com/notebooks/data_table.ipynb>data table notebook</a>'\n",
              "            + ' to learn more about interactive tables.';\n",
              "          element.innerHTML = '';\n",
              "          dataTable['output_type'] = 'display_data';\n",
              "          await google.colab.output.renderOutput(dataTable, element);\n",
              "          const docLink = document.createElement('div');\n",
              "          docLink.innerHTML = docLinkHtml;\n",
              "          element.appendChild(docLink);\n",
              "        }\n",
              "      </script>\n",
              "    </div>\n",
              "  </div>\n",
              "  "
            ]
          },
          "metadata": {}
        }
      ]
    },
    {
      "cell_type": "markdown",
      "source": [
        "**데이터의 수 및 칼럼 개수 확인하기**"
      ],
      "metadata": {
        "id": "GUiZKY17OkA-"
      }
    },
    {
      "cell_type": "code",
      "source": [
        "print(train.shape,\n",
        "      val.shape,\n",
        "      test.shape)"
      ],
      "metadata": {
        "colab": {
          "base_uri": "https://localhost:8080/"
        },
        "id": "mF7X2fMfMuM0",
        "outputId": "c6d99876-b1a4-49d0-abd4-fb9d70ec1583"
      },
      "execution_count": 4,
      "outputs": [
        {
          "output_type": "stream",
          "name": "stdout",
          "text": [
            "(113842, 31) (28462, 32) (142503, 31)\n"
          ]
        }
      ]
    },
    {
      "cell_type": "markdown",
      "source": [
        "**결측치 확인하기**"
      ],
      "metadata": {
        "id": "Ott1bmUZOojm"
      }
    },
    {
      "cell_type": "code",
      "source": [
        "print(train.isnull().sum().sum(),\n",
        "      val.isnull().sum().sum(),\n",
        "      test.isnull().sum().sum())"
      ],
      "metadata": {
        "colab": {
          "base_uri": "https://localhost:8080/"
        },
        "id": "Mvk6IHa5M9nK",
        "outputId": "62e90747-57fd-4db2-f2b2-a39b98b13949"
      },
      "execution_count": 5,
      "outputs": [
        {
          "output_type": "stream",
          "name": "stdout",
          "text": [
            "0 0 0\n"
          ]
        }
      ]
    },
    {
      "cell_type": "markdown",
      "source": [
        "**데이터 셋 통계값 확인하기**"
      ],
      "metadata": {
        "id": "zsyWtfafOqqn"
      }
    },
    {
      "cell_type": "code",
      "source": [
        "display(train.drop(columns='ID').describe(),\n",
        "        val.drop(columns=['ID', 'Class']).describe())"
      ],
      "metadata": {
        "colab": {
          "base_uri": "https://localhost:8080/",
          "height": 705
        },
        "id": "R0Bb3su6NGPO",
        "outputId": "b40c333f-892c-4113-a631-b7b810a7fbc8"
      },
      "execution_count": 6,
      "outputs": [
        {
          "output_type": "display_data",
          "data": {
            "text/plain": [
              "                  V1             V2             V3             V4  \\\n",
              "count  113842.000000  113842.000000  113842.000000  113842.000000   \n",
              "mean        0.000197       0.001289       0.009717      -0.004169   \n",
              "std         1.951060       1.651064       1.496916       1.412633   \n",
              "min       -56.407510     -72.715728     -32.454198      -5.600607   \n",
              "25%        -0.923479      -0.595602      -0.883877      -0.853728   \n",
              "50%         0.012074       0.066390       0.183868      -0.019359   \n",
              "75%         1.315373       0.801687       1.037120       0.742208   \n",
              "max         2.454930      21.467203       4.187811      16.491217   \n",
              "\n",
              "                  V5             V6             V7             V8  \\\n",
              "count  113842.000000  113842.000000  113842.000000  113842.000000   \n",
              "mean        0.000475       0.005141       0.005769      -0.002451   \n",
              "std         1.367533       1.330583       1.204111       1.185504   \n",
              "min       -42.147898     -26.160506     -41.506796     -50.943369   \n",
              "25%        -0.689853      -0.766094      -0.552071      -0.209492   \n",
              "50%        -0.054060      -0.272436       0.039036       0.020970   \n",
              "75%         0.614214       0.405285       0.568750       0.328303   \n",
              "max        34.801666      23.917837      44.054461      20.007208   \n",
              "\n",
              "                  V9            V10  ...            V21           V22  \\\n",
              "count  113842.000000  113842.000000  ...  113842.000000  1.138420e+05   \n",
              "mean       -0.002107       0.005209  ...      -0.001242  4.088347e-07   \n",
              "std         1.095415       1.071337  ...       0.722001  7.238291e-01   \n",
              "min       -13.434066     -24.403185  ...     -22.757540 -8.887017e+00   \n",
              "25%        -0.647477      -0.533477  ...      -0.229710 -5.402665e-01   \n",
              "50%        -0.052157      -0.090810  ...      -0.030281  8.345807e-03   \n",
              "75%         0.590705       0.455287  ...       0.186001  5.287508e-01   \n",
              "max        10.392889      15.331742  ...      27.202839  8.361985e+00   \n",
              "\n",
              "                 V23            V24            V25            V26  \\\n",
              "count  113842.000000  113842.000000  113842.000000  113842.000000   \n",
              "mean       -0.001317      -0.000884       0.001680      -0.000293   \n",
              "std         0.636061       0.605854       0.520069       0.480979   \n",
              "min       -44.807735      -2.824849     -10.295397      -1.855355   \n",
              "25%        -0.162180      -0.355582      -0.315470      -0.326160   \n",
              "50%        -0.012261       0.040573       0.018278      -0.052815   \n",
              "75%         0.147474       0.438225       0.353989       0.240838   \n",
              "max        22.528412       4.022866       7.519589       3.119295   \n",
              "\n",
              "                 V27            V28            V29            V30  \n",
              "count  113842.000000  113842.000000  113842.000000  113842.000000  \n",
              "mean       -0.000234      -0.000508       0.927253       0.116232  \n",
              "std         0.399505       0.356130       3.412933       0.558161  \n",
              "min        -9.895244      -9.617915      -0.307413      -0.994972  \n",
              "25%        -0.070847      -0.053249      -0.230560      -0.360304  \n",
              "50%         0.001502       0.011158      -0.000699      -0.002590  \n",
              "75%         0.091279       0.077851       0.768532       0.640653  \n",
              "max        11.135740      33.847808     180.101027       1.034951  \n",
              "\n",
              "[8 rows x 30 columns]"
            ],
            "text/html": [
              "\n",
              "  <div id=\"df-73d15ebb-39ee-4854-b70f-242d4b358397\">\n",
              "    <div class=\"colab-df-container\">\n",
              "      <div>\n",
              "<style scoped>\n",
              "    .dataframe tbody tr th:only-of-type {\n",
              "        vertical-align: middle;\n",
              "    }\n",
              "\n",
              "    .dataframe tbody tr th {\n",
              "        vertical-align: top;\n",
              "    }\n",
              "\n",
              "    .dataframe thead th {\n",
              "        text-align: right;\n",
              "    }\n",
              "</style>\n",
              "<table border=\"1\" class=\"dataframe\">\n",
              "  <thead>\n",
              "    <tr style=\"text-align: right;\">\n",
              "      <th></th>\n",
              "      <th>V1</th>\n",
              "      <th>V2</th>\n",
              "      <th>V3</th>\n",
              "      <th>V4</th>\n",
              "      <th>V5</th>\n",
              "      <th>V6</th>\n",
              "      <th>V7</th>\n",
              "      <th>V8</th>\n",
              "      <th>V9</th>\n",
              "      <th>V10</th>\n",
              "      <th>...</th>\n",
              "      <th>V21</th>\n",
              "      <th>V22</th>\n",
              "      <th>V23</th>\n",
              "      <th>V24</th>\n",
              "      <th>V25</th>\n",
              "      <th>V26</th>\n",
              "      <th>V27</th>\n",
              "      <th>V28</th>\n",
              "      <th>V29</th>\n",
              "      <th>V30</th>\n",
              "    </tr>\n",
              "  </thead>\n",
              "  <tbody>\n",
              "    <tr>\n",
              "      <th>count</th>\n",
              "      <td>113842.000000</td>\n",
              "      <td>113842.000000</td>\n",
              "      <td>113842.000000</td>\n",
              "      <td>113842.000000</td>\n",
              "      <td>113842.000000</td>\n",
              "      <td>113842.000000</td>\n",
              "      <td>113842.000000</td>\n",
              "      <td>113842.000000</td>\n",
              "      <td>113842.000000</td>\n",
              "      <td>113842.000000</td>\n",
              "      <td>...</td>\n",
              "      <td>113842.000000</td>\n",
              "      <td>1.138420e+05</td>\n",
              "      <td>113842.000000</td>\n",
              "      <td>113842.000000</td>\n",
              "      <td>113842.000000</td>\n",
              "      <td>113842.000000</td>\n",
              "      <td>113842.000000</td>\n",
              "      <td>113842.000000</td>\n",
              "      <td>113842.000000</td>\n",
              "      <td>113842.000000</td>\n",
              "    </tr>\n",
              "    <tr>\n",
              "      <th>mean</th>\n",
              "      <td>0.000197</td>\n",
              "      <td>0.001289</td>\n",
              "      <td>0.009717</td>\n",
              "      <td>-0.004169</td>\n",
              "      <td>0.000475</td>\n",
              "      <td>0.005141</td>\n",
              "      <td>0.005769</td>\n",
              "      <td>-0.002451</td>\n",
              "      <td>-0.002107</td>\n",
              "      <td>0.005209</td>\n",
              "      <td>...</td>\n",
              "      <td>-0.001242</td>\n",
              "      <td>4.088347e-07</td>\n",
              "      <td>-0.001317</td>\n",
              "      <td>-0.000884</td>\n",
              "      <td>0.001680</td>\n",
              "      <td>-0.000293</td>\n",
              "      <td>-0.000234</td>\n",
              "      <td>-0.000508</td>\n",
              "      <td>0.927253</td>\n",
              "      <td>0.116232</td>\n",
              "    </tr>\n",
              "    <tr>\n",
              "      <th>std</th>\n",
              "      <td>1.951060</td>\n",
              "      <td>1.651064</td>\n",
              "      <td>1.496916</td>\n",
              "      <td>1.412633</td>\n",
              "      <td>1.367533</td>\n",
              "      <td>1.330583</td>\n",
              "      <td>1.204111</td>\n",
              "      <td>1.185504</td>\n",
              "      <td>1.095415</td>\n",
              "      <td>1.071337</td>\n",
              "      <td>...</td>\n",
              "      <td>0.722001</td>\n",
              "      <td>7.238291e-01</td>\n",
              "      <td>0.636061</td>\n",
              "      <td>0.605854</td>\n",
              "      <td>0.520069</td>\n",
              "      <td>0.480979</td>\n",
              "      <td>0.399505</td>\n",
              "      <td>0.356130</td>\n",
              "      <td>3.412933</td>\n",
              "      <td>0.558161</td>\n",
              "    </tr>\n",
              "    <tr>\n",
              "      <th>min</th>\n",
              "      <td>-56.407510</td>\n",
              "      <td>-72.715728</td>\n",
              "      <td>-32.454198</td>\n",
              "      <td>-5.600607</td>\n",
              "      <td>-42.147898</td>\n",
              "      <td>-26.160506</td>\n",
              "      <td>-41.506796</td>\n",
              "      <td>-50.943369</td>\n",
              "      <td>-13.434066</td>\n",
              "      <td>-24.403185</td>\n",
              "      <td>...</td>\n",
              "      <td>-22.757540</td>\n",
              "      <td>-8.887017e+00</td>\n",
              "      <td>-44.807735</td>\n",
              "      <td>-2.824849</td>\n",
              "      <td>-10.295397</td>\n",
              "      <td>-1.855355</td>\n",
              "      <td>-9.895244</td>\n",
              "      <td>-9.617915</td>\n",
              "      <td>-0.307413</td>\n",
              "      <td>-0.994972</td>\n",
              "    </tr>\n",
              "    <tr>\n",
              "      <th>25%</th>\n",
              "      <td>-0.923479</td>\n",
              "      <td>-0.595602</td>\n",
              "      <td>-0.883877</td>\n",
              "      <td>-0.853728</td>\n",
              "      <td>-0.689853</td>\n",
              "      <td>-0.766094</td>\n",
              "      <td>-0.552071</td>\n",
              "      <td>-0.209492</td>\n",
              "      <td>-0.647477</td>\n",
              "      <td>-0.533477</td>\n",
              "      <td>...</td>\n",
              "      <td>-0.229710</td>\n",
              "      <td>-5.402665e-01</td>\n",
              "      <td>-0.162180</td>\n",
              "      <td>-0.355582</td>\n",
              "      <td>-0.315470</td>\n",
              "      <td>-0.326160</td>\n",
              "      <td>-0.070847</td>\n",
              "      <td>-0.053249</td>\n",
              "      <td>-0.230560</td>\n",
              "      <td>-0.360304</td>\n",
              "    </tr>\n",
              "    <tr>\n",
              "      <th>50%</th>\n",
              "      <td>0.012074</td>\n",
              "      <td>0.066390</td>\n",
              "      <td>0.183868</td>\n",
              "      <td>-0.019359</td>\n",
              "      <td>-0.054060</td>\n",
              "      <td>-0.272436</td>\n",
              "      <td>0.039036</td>\n",
              "      <td>0.020970</td>\n",
              "      <td>-0.052157</td>\n",
              "      <td>-0.090810</td>\n",
              "      <td>...</td>\n",
              "      <td>-0.030281</td>\n",
              "      <td>8.345807e-03</td>\n",
              "      <td>-0.012261</td>\n",
              "      <td>0.040573</td>\n",
              "      <td>0.018278</td>\n",
              "      <td>-0.052815</td>\n",
              "      <td>0.001502</td>\n",
              "      <td>0.011158</td>\n",
              "      <td>-0.000699</td>\n",
              "      <td>-0.002590</td>\n",
              "    </tr>\n",
              "    <tr>\n",
              "      <th>75%</th>\n",
              "      <td>1.315373</td>\n",
              "      <td>0.801687</td>\n",
              "      <td>1.037120</td>\n",
              "      <td>0.742208</td>\n",
              "      <td>0.614214</td>\n",
              "      <td>0.405285</td>\n",
              "      <td>0.568750</td>\n",
              "      <td>0.328303</td>\n",
              "      <td>0.590705</td>\n",
              "      <td>0.455287</td>\n",
              "      <td>...</td>\n",
              "      <td>0.186001</td>\n",
              "      <td>5.287508e-01</td>\n",
              "      <td>0.147474</td>\n",
              "      <td>0.438225</td>\n",
              "      <td>0.353989</td>\n",
              "      <td>0.240838</td>\n",
              "      <td>0.091279</td>\n",
              "      <td>0.077851</td>\n",
              "      <td>0.768532</td>\n",
              "      <td>0.640653</td>\n",
              "    </tr>\n",
              "    <tr>\n",
              "      <th>max</th>\n",
              "      <td>2.454930</td>\n",
              "      <td>21.467203</td>\n",
              "      <td>4.187811</td>\n",
              "      <td>16.491217</td>\n",
              "      <td>34.801666</td>\n",
              "      <td>23.917837</td>\n",
              "      <td>44.054461</td>\n",
              "      <td>20.007208</td>\n",
              "      <td>10.392889</td>\n",
              "      <td>15.331742</td>\n",
              "      <td>...</td>\n",
              "      <td>27.202839</td>\n",
              "      <td>8.361985e+00</td>\n",
              "      <td>22.528412</td>\n",
              "      <td>4.022866</td>\n",
              "      <td>7.519589</td>\n",
              "      <td>3.119295</td>\n",
              "      <td>11.135740</td>\n",
              "      <td>33.847808</td>\n",
              "      <td>180.101027</td>\n",
              "      <td>1.034951</td>\n",
              "    </tr>\n",
              "  </tbody>\n",
              "</table>\n",
              "<p>8 rows × 30 columns</p>\n",
              "</div>\n",
              "      <button class=\"colab-df-convert\" onclick=\"convertToInteractive('df-73d15ebb-39ee-4854-b70f-242d4b358397')\"\n",
              "              title=\"Convert this dataframe to an interactive table.\"\n",
              "              style=\"display:none;\">\n",
              "        \n",
              "  <svg xmlns=\"http://www.w3.org/2000/svg\" height=\"24px\"viewBox=\"0 0 24 24\"\n",
              "       width=\"24px\">\n",
              "    <path d=\"M0 0h24v24H0V0z\" fill=\"none\"/>\n",
              "    <path d=\"M18.56 5.44l.94 2.06.94-2.06 2.06-.94-2.06-.94-.94-2.06-.94 2.06-2.06.94zm-11 1L8.5 8.5l.94-2.06 2.06-.94-2.06-.94L8.5 2.5l-.94 2.06-2.06.94zm10 10l.94 2.06.94-2.06 2.06-.94-2.06-.94-.94-2.06-.94 2.06-2.06.94z\"/><path d=\"M17.41 7.96l-1.37-1.37c-.4-.4-.92-.59-1.43-.59-.52 0-1.04.2-1.43.59L10.3 9.45l-7.72 7.72c-.78.78-.78 2.05 0 2.83L4 21.41c.39.39.9.59 1.41.59.51 0 1.02-.2 1.41-.59l7.78-7.78 2.81-2.81c.8-.78.8-2.07 0-2.86zM5.41 20L4 18.59l7.72-7.72 1.47 1.35L5.41 20z\"/>\n",
              "  </svg>\n",
              "      </button>\n",
              "      \n",
              "  <style>\n",
              "    .colab-df-container {\n",
              "      display:flex;\n",
              "      flex-wrap:wrap;\n",
              "      gap: 12px;\n",
              "    }\n",
              "\n",
              "    .colab-df-convert {\n",
              "      background-color: #E8F0FE;\n",
              "      border: none;\n",
              "      border-radius: 50%;\n",
              "      cursor: pointer;\n",
              "      display: none;\n",
              "      fill: #1967D2;\n",
              "      height: 32px;\n",
              "      padding: 0 0 0 0;\n",
              "      width: 32px;\n",
              "    }\n",
              "\n",
              "    .colab-df-convert:hover {\n",
              "      background-color: #E2EBFA;\n",
              "      box-shadow: 0px 1px 2px rgba(60, 64, 67, 0.3), 0px 1px 3px 1px rgba(60, 64, 67, 0.15);\n",
              "      fill: #174EA6;\n",
              "    }\n",
              "\n",
              "    [theme=dark] .colab-df-convert {\n",
              "      background-color: #3B4455;\n",
              "      fill: #D2E3FC;\n",
              "    }\n",
              "\n",
              "    [theme=dark] .colab-df-convert:hover {\n",
              "      background-color: #434B5C;\n",
              "      box-shadow: 0px 1px 3px 1px rgba(0, 0, 0, 0.15);\n",
              "      filter: drop-shadow(0px 1px 2px rgba(0, 0, 0, 0.3));\n",
              "      fill: #FFFFFF;\n",
              "    }\n",
              "  </style>\n",
              "\n",
              "      <script>\n",
              "        const buttonEl =\n",
              "          document.querySelector('#df-73d15ebb-39ee-4854-b70f-242d4b358397 button.colab-df-convert');\n",
              "        buttonEl.style.display =\n",
              "          google.colab.kernel.accessAllowed ? 'block' : 'none';\n",
              "\n",
              "        async function convertToInteractive(key) {\n",
              "          const element = document.querySelector('#df-73d15ebb-39ee-4854-b70f-242d4b358397');\n",
              "          const dataTable =\n",
              "            await google.colab.kernel.invokeFunction('convertToInteractive',\n",
              "                                                     [key], {});\n",
              "          if (!dataTable) return;\n",
              "\n",
              "          const docLinkHtml = 'Like what you see? Visit the ' +\n",
              "            '<a target=\"_blank\" href=https://colab.research.google.com/notebooks/data_table.ipynb>data table notebook</a>'\n",
              "            + ' to learn more about interactive tables.';\n",
              "          element.innerHTML = '';\n",
              "          dataTable['output_type'] = 'display_data';\n",
              "          await google.colab.output.renderOutput(dataTable, element);\n",
              "          const docLink = document.createElement('div');\n",
              "          docLink.innerHTML = docLinkHtml;\n",
              "          element.appendChild(docLink);\n",
              "        }\n",
              "      </script>\n",
              "    </div>\n",
              "  </div>\n",
              "  "
            ]
          },
          "metadata": {}
        },
        {
          "output_type": "display_data",
          "data": {
            "text/plain": [
              "                 V1            V2            V3            V4            V5  \\\n",
              "count  28462.000000  28462.000000  28462.000000  28462.000000  28462.000000   \n",
              "mean       0.004967      0.002014      0.001414      0.001893     -0.003969   \n",
              "std        1.930640      1.605198      1.499749      1.405139      1.335147   \n",
              "min      -29.516123    -38.305310    -30.177317     -5.071241    -21.577019   \n",
              "25%       -0.915525     -0.598053     -0.873022     -0.852444     -0.698010   \n",
              "50%        0.023586      0.075470      0.175784     -0.021619     -0.052780   \n",
              "75%        1.315578      0.803463      1.011563      0.739044      0.598712   \n",
              "max        2.411769     16.497472      4.226108     12.114672     24.345310   \n",
              "\n",
              "                 V6            V7            V8            V9           V10  \\\n",
              "count  28462.000000  28462.000000  28462.000000  28462.000000  28462.000000   \n",
              "mean      -0.017730      0.005556      0.009023     -0.004905     -0.002299   \n",
              "std        1.292214      1.165132      1.103538      1.090843      1.084560   \n",
              "min      -16.172614    -31.197329    -26.278007     -9.462573    -22.187089   \n",
              "25%       -0.774920     -0.546290     -0.210941     -0.642760     -0.540463   \n",
              "50%       -0.280742      0.046280      0.022622     -0.066623     -0.099386   \n",
              "75%        0.377266      0.566825      0.323836      0.596308      0.452763   \n",
              "max       12.128950     26.237722     12.431140      7.937413     12.161890   \n",
              "\n",
              "       ...           V21           V22           V23           V24  \\\n",
              "count  ...  28462.000000  28462.000000  28462.000000  28462.000000   \n",
              "mean   ...      0.000013      0.001224      0.001490      0.001355   \n",
              "std    ...      0.700859      0.721350      0.588076      0.603181   \n",
              "min    ...    -14.004410     -8.555808    -25.356744     -2.807897   \n",
              "25%    ...     -0.226196     -0.542624     -0.160418     -0.352310   \n",
              "50%    ...     -0.029430      0.008401     -0.011372      0.040076   \n",
              "75%    ...      0.186905      0.528163      0.146094      0.441402   \n",
              "max    ...     22.599543      6.090514     18.946734      3.658746   \n",
              "\n",
              "                V25           V26           V27           V28           V29  \\\n",
              "count  28462.000000  28462.000000  28462.000000  28462.000000  28462.000000   \n",
              "mean       0.002284      0.000520     -0.000520     -0.000265      0.924010   \n",
              "std        0.526864      0.484804      0.394235      0.304284      3.347555   \n",
              "min       -6.035054     -1.596493     -9.793568     -8.364853     -0.307413   \n",
              "25%       -0.322098     -0.328638     -0.071787     -0.052361     -0.226927   \n",
              "50%        0.016684     -0.049583      0.000488      0.012138      0.005589   \n",
              "75%        0.352930      0.241051      0.089100      0.080822      0.778278   \n",
              "max        5.525093      3.067907      8.708972     15.726807    165.948299   \n",
              "\n",
              "                V30  \n",
              "count  28462.000000  \n",
              "mean       0.119916  \n",
              "std        0.558246  \n",
              "min       -0.994878  \n",
              "25%       -0.357884  \n",
              "50%        0.002156  \n",
              "75%        0.641828  \n",
              "max        1.034975  \n",
              "\n",
              "[8 rows x 30 columns]"
            ],
            "text/html": [
              "\n",
              "  <div id=\"df-fef13a12-6965-43a7-9545-41288d27d174\">\n",
              "    <div class=\"colab-df-container\">\n",
              "      <div>\n",
              "<style scoped>\n",
              "    .dataframe tbody tr th:only-of-type {\n",
              "        vertical-align: middle;\n",
              "    }\n",
              "\n",
              "    .dataframe tbody tr th {\n",
              "        vertical-align: top;\n",
              "    }\n",
              "\n",
              "    .dataframe thead th {\n",
              "        text-align: right;\n",
              "    }\n",
              "</style>\n",
              "<table border=\"1\" class=\"dataframe\">\n",
              "  <thead>\n",
              "    <tr style=\"text-align: right;\">\n",
              "      <th></th>\n",
              "      <th>V1</th>\n",
              "      <th>V2</th>\n",
              "      <th>V3</th>\n",
              "      <th>V4</th>\n",
              "      <th>V5</th>\n",
              "      <th>V6</th>\n",
              "      <th>V7</th>\n",
              "      <th>V8</th>\n",
              "      <th>V9</th>\n",
              "      <th>V10</th>\n",
              "      <th>...</th>\n",
              "      <th>V21</th>\n",
              "      <th>V22</th>\n",
              "      <th>V23</th>\n",
              "      <th>V24</th>\n",
              "      <th>V25</th>\n",
              "      <th>V26</th>\n",
              "      <th>V27</th>\n",
              "      <th>V28</th>\n",
              "      <th>V29</th>\n",
              "      <th>V30</th>\n",
              "    </tr>\n",
              "  </thead>\n",
              "  <tbody>\n",
              "    <tr>\n",
              "      <th>count</th>\n",
              "      <td>28462.000000</td>\n",
              "      <td>28462.000000</td>\n",
              "      <td>28462.000000</td>\n",
              "      <td>28462.000000</td>\n",
              "      <td>28462.000000</td>\n",
              "      <td>28462.000000</td>\n",
              "      <td>28462.000000</td>\n",
              "      <td>28462.000000</td>\n",
              "      <td>28462.000000</td>\n",
              "      <td>28462.000000</td>\n",
              "      <td>...</td>\n",
              "      <td>28462.000000</td>\n",
              "      <td>28462.000000</td>\n",
              "      <td>28462.000000</td>\n",
              "      <td>28462.000000</td>\n",
              "      <td>28462.000000</td>\n",
              "      <td>28462.000000</td>\n",
              "      <td>28462.000000</td>\n",
              "      <td>28462.000000</td>\n",
              "      <td>28462.000000</td>\n",
              "      <td>28462.000000</td>\n",
              "    </tr>\n",
              "    <tr>\n",
              "      <th>mean</th>\n",
              "      <td>0.004967</td>\n",
              "      <td>0.002014</td>\n",
              "      <td>0.001414</td>\n",
              "      <td>0.001893</td>\n",
              "      <td>-0.003969</td>\n",
              "      <td>-0.017730</td>\n",
              "      <td>0.005556</td>\n",
              "      <td>0.009023</td>\n",
              "      <td>-0.004905</td>\n",
              "      <td>-0.002299</td>\n",
              "      <td>...</td>\n",
              "      <td>0.000013</td>\n",
              "      <td>0.001224</td>\n",
              "      <td>0.001490</td>\n",
              "      <td>0.001355</td>\n",
              "      <td>0.002284</td>\n",
              "      <td>0.000520</td>\n",
              "      <td>-0.000520</td>\n",
              "      <td>-0.000265</td>\n",
              "      <td>0.924010</td>\n",
              "      <td>0.119916</td>\n",
              "    </tr>\n",
              "    <tr>\n",
              "      <th>std</th>\n",
              "      <td>1.930640</td>\n",
              "      <td>1.605198</td>\n",
              "      <td>1.499749</td>\n",
              "      <td>1.405139</td>\n",
              "      <td>1.335147</td>\n",
              "      <td>1.292214</td>\n",
              "      <td>1.165132</td>\n",
              "      <td>1.103538</td>\n",
              "      <td>1.090843</td>\n",
              "      <td>1.084560</td>\n",
              "      <td>...</td>\n",
              "      <td>0.700859</td>\n",
              "      <td>0.721350</td>\n",
              "      <td>0.588076</td>\n",
              "      <td>0.603181</td>\n",
              "      <td>0.526864</td>\n",
              "      <td>0.484804</td>\n",
              "      <td>0.394235</td>\n",
              "      <td>0.304284</td>\n",
              "      <td>3.347555</td>\n",
              "      <td>0.558246</td>\n",
              "    </tr>\n",
              "    <tr>\n",
              "      <th>min</th>\n",
              "      <td>-29.516123</td>\n",
              "      <td>-38.305310</td>\n",
              "      <td>-30.177317</td>\n",
              "      <td>-5.071241</td>\n",
              "      <td>-21.577019</td>\n",
              "      <td>-16.172614</td>\n",
              "      <td>-31.197329</td>\n",
              "      <td>-26.278007</td>\n",
              "      <td>-9.462573</td>\n",
              "      <td>-22.187089</td>\n",
              "      <td>...</td>\n",
              "      <td>-14.004410</td>\n",
              "      <td>-8.555808</td>\n",
              "      <td>-25.356744</td>\n",
              "      <td>-2.807897</td>\n",
              "      <td>-6.035054</td>\n",
              "      <td>-1.596493</td>\n",
              "      <td>-9.793568</td>\n",
              "      <td>-8.364853</td>\n",
              "      <td>-0.307413</td>\n",
              "      <td>-0.994878</td>\n",
              "    </tr>\n",
              "    <tr>\n",
              "      <th>25%</th>\n",
              "      <td>-0.915525</td>\n",
              "      <td>-0.598053</td>\n",
              "      <td>-0.873022</td>\n",
              "      <td>-0.852444</td>\n",
              "      <td>-0.698010</td>\n",
              "      <td>-0.774920</td>\n",
              "      <td>-0.546290</td>\n",
              "      <td>-0.210941</td>\n",
              "      <td>-0.642760</td>\n",
              "      <td>-0.540463</td>\n",
              "      <td>...</td>\n",
              "      <td>-0.226196</td>\n",
              "      <td>-0.542624</td>\n",
              "      <td>-0.160418</td>\n",
              "      <td>-0.352310</td>\n",
              "      <td>-0.322098</td>\n",
              "      <td>-0.328638</td>\n",
              "      <td>-0.071787</td>\n",
              "      <td>-0.052361</td>\n",
              "      <td>-0.226927</td>\n",
              "      <td>-0.357884</td>\n",
              "    </tr>\n",
              "    <tr>\n",
              "      <th>50%</th>\n",
              "      <td>0.023586</td>\n",
              "      <td>0.075470</td>\n",
              "      <td>0.175784</td>\n",
              "      <td>-0.021619</td>\n",
              "      <td>-0.052780</td>\n",
              "      <td>-0.280742</td>\n",
              "      <td>0.046280</td>\n",
              "      <td>0.022622</td>\n",
              "      <td>-0.066623</td>\n",
              "      <td>-0.099386</td>\n",
              "      <td>...</td>\n",
              "      <td>-0.029430</td>\n",
              "      <td>0.008401</td>\n",
              "      <td>-0.011372</td>\n",
              "      <td>0.040076</td>\n",
              "      <td>0.016684</td>\n",
              "      <td>-0.049583</td>\n",
              "      <td>0.000488</td>\n",
              "      <td>0.012138</td>\n",
              "      <td>0.005589</td>\n",
              "      <td>0.002156</td>\n",
              "    </tr>\n",
              "    <tr>\n",
              "      <th>75%</th>\n",
              "      <td>1.315578</td>\n",
              "      <td>0.803463</td>\n",
              "      <td>1.011563</td>\n",
              "      <td>0.739044</td>\n",
              "      <td>0.598712</td>\n",
              "      <td>0.377266</td>\n",
              "      <td>0.566825</td>\n",
              "      <td>0.323836</td>\n",
              "      <td>0.596308</td>\n",
              "      <td>0.452763</td>\n",
              "      <td>...</td>\n",
              "      <td>0.186905</td>\n",
              "      <td>0.528163</td>\n",
              "      <td>0.146094</td>\n",
              "      <td>0.441402</td>\n",
              "      <td>0.352930</td>\n",
              "      <td>0.241051</td>\n",
              "      <td>0.089100</td>\n",
              "      <td>0.080822</td>\n",
              "      <td>0.778278</td>\n",
              "      <td>0.641828</td>\n",
              "    </tr>\n",
              "    <tr>\n",
              "      <th>max</th>\n",
              "      <td>2.411769</td>\n",
              "      <td>16.497472</td>\n",
              "      <td>4.226108</td>\n",
              "      <td>12.114672</td>\n",
              "      <td>24.345310</td>\n",
              "      <td>12.128950</td>\n",
              "      <td>26.237722</td>\n",
              "      <td>12.431140</td>\n",
              "      <td>7.937413</td>\n",
              "      <td>12.161890</td>\n",
              "      <td>...</td>\n",
              "      <td>22.599543</td>\n",
              "      <td>6.090514</td>\n",
              "      <td>18.946734</td>\n",
              "      <td>3.658746</td>\n",
              "      <td>5.525093</td>\n",
              "      <td>3.067907</td>\n",
              "      <td>8.708972</td>\n",
              "      <td>15.726807</td>\n",
              "      <td>165.948299</td>\n",
              "      <td>1.034975</td>\n",
              "    </tr>\n",
              "  </tbody>\n",
              "</table>\n",
              "<p>8 rows × 30 columns</p>\n",
              "</div>\n",
              "      <button class=\"colab-df-convert\" onclick=\"convertToInteractive('df-fef13a12-6965-43a7-9545-41288d27d174')\"\n",
              "              title=\"Convert this dataframe to an interactive table.\"\n",
              "              style=\"display:none;\">\n",
              "        \n",
              "  <svg xmlns=\"http://www.w3.org/2000/svg\" height=\"24px\"viewBox=\"0 0 24 24\"\n",
              "       width=\"24px\">\n",
              "    <path d=\"M0 0h24v24H0V0z\" fill=\"none\"/>\n",
              "    <path d=\"M18.56 5.44l.94 2.06.94-2.06 2.06-.94-2.06-.94-.94-2.06-.94 2.06-2.06.94zm-11 1L8.5 8.5l.94-2.06 2.06-.94-2.06-.94L8.5 2.5l-.94 2.06-2.06.94zm10 10l.94 2.06.94-2.06 2.06-.94-2.06-.94-.94-2.06-.94 2.06-2.06.94z\"/><path d=\"M17.41 7.96l-1.37-1.37c-.4-.4-.92-.59-1.43-.59-.52 0-1.04.2-1.43.59L10.3 9.45l-7.72 7.72c-.78.78-.78 2.05 0 2.83L4 21.41c.39.39.9.59 1.41.59.51 0 1.02-.2 1.41-.59l7.78-7.78 2.81-2.81c.8-.78.8-2.07 0-2.86zM5.41 20L4 18.59l7.72-7.72 1.47 1.35L5.41 20z\"/>\n",
              "  </svg>\n",
              "      </button>\n",
              "      \n",
              "  <style>\n",
              "    .colab-df-container {\n",
              "      display:flex;\n",
              "      flex-wrap:wrap;\n",
              "      gap: 12px;\n",
              "    }\n",
              "\n",
              "    .colab-df-convert {\n",
              "      background-color: #E8F0FE;\n",
              "      border: none;\n",
              "      border-radius: 50%;\n",
              "      cursor: pointer;\n",
              "      display: none;\n",
              "      fill: #1967D2;\n",
              "      height: 32px;\n",
              "      padding: 0 0 0 0;\n",
              "      width: 32px;\n",
              "    }\n",
              "\n",
              "    .colab-df-convert:hover {\n",
              "      background-color: #E2EBFA;\n",
              "      box-shadow: 0px 1px 2px rgba(60, 64, 67, 0.3), 0px 1px 3px 1px rgba(60, 64, 67, 0.15);\n",
              "      fill: #174EA6;\n",
              "    }\n",
              "\n",
              "    [theme=dark] .colab-df-convert {\n",
              "      background-color: #3B4455;\n",
              "      fill: #D2E3FC;\n",
              "    }\n",
              "\n",
              "    [theme=dark] .colab-df-convert:hover {\n",
              "      background-color: #434B5C;\n",
              "      box-shadow: 0px 1px 3px 1px rgba(0, 0, 0, 0.15);\n",
              "      filter: drop-shadow(0px 1px 2px rgba(0, 0, 0, 0.3));\n",
              "      fill: #FFFFFF;\n",
              "    }\n",
              "  </style>\n",
              "\n",
              "      <script>\n",
              "        const buttonEl =\n",
              "          document.querySelector('#df-fef13a12-6965-43a7-9545-41288d27d174 button.colab-df-convert');\n",
              "        buttonEl.style.display =\n",
              "          google.colab.kernel.accessAllowed ? 'block' : 'none';\n",
              "\n",
              "        async function convertToInteractive(key) {\n",
              "          const element = document.querySelector('#df-fef13a12-6965-43a7-9545-41288d27d174');\n",
              "          const dataTable =\n",
              "            await google.colab.kernel.invokeFunction('convertToInteractive',\n",
              "                                                     [key], {});\n",
              "          if (!dataTable) return;\n",
              "\n",
              "          const docLinkHtml = 'Like what you see? Visit the ' +\n",
              "            '<a target=\"_blank\" href=https://colab.research.google.com/notebooks/data_table.ipynb>data table notebook</a>'\n",
              "            + ' to learn more about interactive tables.';\n",
              "          element.innerHTML = '';\n",
              "          dataTable['output_type'] = 'display_data';\n",
              "          await google.colab.output.renderOutput(dataTable, element);\n",
              "          const docLink = document.createElement('div');\n",
              "          docLink.innerHTML = docLinkHtml;\n",
              "          element.appendChild(docLink);\n",
              "        }\n",
              "      </script>\n",
              "    </div>\n",
              "  </div>\n",
              "  "
            ]
          },
          "metadata": {}
        }
      ]
    },
    {
      "cell_type": "markdown",
      "source": [
        "**검증 데이터 셋 라벨 수 비교하기**"
      ],
      "metadata": {
        "id": "YTBVPahZOtXR"
      }
    },
    {
      "cell_type": "code",
      "source": [
        "cond = (val['Class']==0)\n",
        "\n",
        "val.loc[cond, 'Class'] = 'Normal'\n",
        "val.loc[~cond, 'Class'] = 'Anomaly'\n",
        "\n",
        "print(val['Class'].value_counts())"
      ],
      "metadata": {
        "colab": {
          "base_uri": "https://localhost:8080/"
        },
        "id": "ahZfYnvvNKfZ",
        "outputId": "3f5d5ad9-327a-4a95-b87a-2adf8dfa5000"
      },
      "execution_count": 7,
      "outputs": [
        {
          "output_type": "stream",
          "name": "stdout",
          "text": [
            "Normal     28432\n",
            "Anomaly       30\n",
            "Name: Class, dtype: int64\n"
          ]
        }
      ]
    },
    {
      "cell_type": "markdown",
      "source": [
        "## 3 - 2 데이터 셋 별 시각화"
      ],
      "metadata": {
        "id": "gxkqCIo9O7iK"
      }
    },
    {
      "cell_type": "markdown",
      "source": [
        "### 3 - 2 -1 Train 데이터 셋 시각화"
      ],
      "metadata": {
        "id": "fa9lC8agPG5c"
      }
    },
    {
      "cell_type": "markdown",
      "source": [
        "#### 각 칼럼 별 통계값 출력하기"
      ],
      "metadata": {
        "id": "1fIfz66RPNNP"
      }
    },
    {
      "cell_type": "code",
      "source": [
        "def print_statistics_1(data, col):\n",
        "\n",
        "  max = data[col].max()\n",
        "  min = data[col].min()\n",
        "  mean = data[col].mean()\n",
        "  median = data[col].median()\n",
        "  std = data[col].std()\n",
        "\n",
        "  print(f'\\n{col}의 최대값 : {max}')\n",
        "  print(f'{col}의 최소값 : {min}')\n",
        "  print(f'{col}의 평균값 : {mean}')\n",
        "  print(f'{col}의 중앙값 : {median}')\n",
        "  print(f'{col}의 표준편차 : {std}\\n')"
      ],
      "metadata": {
        "id": "gNMjK1gFOyvE"
      },
      "execution_count": 8,
      "outputs": []
    },
    {
      "cell_type": "code",
      "source": [
        "print_statistics_1(train, 'V1')"
      ],
      "metadata": {
        "colab": {
          "base_uri": "https://localhost:8080/"
        },
        "id": "zzyD5OKGPSV9",
        "outputId": "9f1283e1-4b27-48e9-df95-e552b7ef370a"
      },
      "execution_count": 9,
      "outputs": [
        {
          "output_type": "stream",
          "name": "stdout",
          "text": [
            "\n",
            "V1의 최대값 : 2.45492999121121\n",
            "V1의 최소값 : -56.407509631329\n",
            "V1의 평균값 : 0.00019729098661136333\n",
            "V1의 중앙값 : 0.01207362136827825\n",
            "V1의 표준편차 : 1.9510604522492707\n",
            "\n"
          ]
        }
      ]
    },
    {
      "cell_type": "markdown",
      "source": [
        "#### 상관 관계를 나타내주는 Heat Map 시각화"
      ],
      "metadata": {
        "id": "MYtydl0SPsYx"
      }
    },
    {
      "cell_type": "code",
      "source": [
        "# 각 칼럼 별 상관 계수가 한 눈에 들어오지 않습니다.\n",
        "display(train.corr().head(10))"
      ],
      "metadata": {
        "colab": {
          "base_uri": "https://localhost:8080/",
          "height": 456
        },
        "id": "_0h53BAVQzG4",
        "outputId": "5341fefe-974e-47b4-8267-d15bdbe46059"
      },
      "execution_count": 28,
      "outputs": [
        {
          "output_type": "display_data",
          "data": {
            "text/plain": [
              "          ID        V1        V2        V3        V4        V5        V6  \\\n",
              "ID  1.000000  0.112910  0.000845 -0.414916 -0.100227  0.171102 -0.061731   \n",
              "V1  0.112910  1.000000  0.015507 -0.015559  0.005334 -0.009902 -0.000177   \n",
              "V2  0.000845  0.015507  1.000000  0.015350 -0.004632  0.005220  0.004119   \n",
              "V3 -0.414916 -0.015559  0.015350  1.000000  0.014562 -0.021869 -0.000392   \n",
              "V4 -0.100227  0.005334 -0.004632  0.014562  1.000000  0.009886  0.001191   \n",
              "V5  0.171102 -0.009902  0.005220 -0.021869  0.009886  1.000000 -0.000701   \n",
              "V6 -0.061731 -0.000177  0.004119 -0.000392  0.001191 -0.000701  1.000000   \n",
              "V7  0.081595 -0.021839  0.020025 -0.023424  0.011269 -0.012571 -0.010017   \n",
              "V8 -0.034201  0.003626  0.002628  0.002836  0.000271 -0.000730  0.008153   \n",
              "V9 -0.002427 -0.009599  0.001865 -0.017386  0.008993 -0.006367 -0.004149   \n",
              "\n",
              "          V7        V8        V9  ...       V21       V22       V23       V24  \\\n",
              "ID  0.081595 -0.034201 -0.002427  ...  0.042039  0.134033  0.050219 -0.013915   \n",
              "V1 -0.021839  0.003626 -0.009599  ...  0.000829 -0.001097  0.017551 -0.001289   \n",
              "V2  0.020025  0.002628  0.001865  ...  0.010194  0.003269  0.015923 -0.004967   \n",
              "V3 -0.023424  0.002836 -0.017386  ... -0.001319  0.004616  0.001575  0.003254   \n",
              "V4  0.011269  0.000271  0.008993  ... -0.000008 -0.002732 -0.004866  0.001741   \n",
              "V5 -0.012571 -0.000730 -0.006367  ... -0.013559  0.004033 -0.009856  0.004302   \n",
              "V6 -0.010017  0.008153 -0.004149  ...  0.006419 -0.004982  0.004990 -0.001185   \n",
              "V7  1.000000  0.000813 -0.009075  ...  0.008721 -0.000123  0.011034 -0.001084   \n",
              "V8  0.000813  1.000000 -0.003052  ...  0.001672  0.000508  0.013885  0.000094   \n",
              "V9 -0.009075 -0.003052  1.000000  ... -0.007212 -0.002725 -0.008715  0.002114   \n",
              "\n",
              "         V25       V26       V27       V28       V29       V30  \n",
              "ID -0.225939 -0.039474 -0.003649 -0.007565 -0.017644  0.993388  \n",
              "V1  0.002329 -0.002013  0.004085 -0.044459 -0.231744  0.118519  \n",
              "V2 -0.003145  0.000796  0.005265 -0.056137 -0.530737 -0.008336  \n",
              "V3  0.000031  0.000671  0.003680 -0.022925 -0.207185 -0.429787  \n",
              "V4  0.001838  0.002832 -0.007131  0.025828  0.091913 -0.103017  \n",
              "V5 -0.001611 -0.000664  0.020649 -0.004484 -0.382747  0.175038  \n",
              "V6 -0.000470 -0.003615 -0.011486  0.000046  0.210381 -0.061977  \n",
              "V7  0.000420  0.004651 -0.033952  0.006749  0.391239  0.084646  \n",
              "V8 -0.003231  0.003217 -0.006134 -0.014922 -0.102777 -0.036350  \n",
              "V9 -0.001449  0.001348 -0.001733  0.008454 -0.041503 -0.007580  \n",
              "\n",
              "[10 rows x 31 columns]"
            ],
            "text/html": [
              "\n",
              "  <div id=\"df-0a277ea4-3941-4db3-aba5-2449a6a2e8bb\">\n",
              "    <div class=\"colab-df-container\">\n",
              "      <div>\n",
              "<style scoped>\n",
              "    .dataframe tbody tr th:only-of-type {\n",
              "        vertical-align: middle;\n",
              "    }\n",
              "\n",
              "    .dataframe tbody tr th {\n",
              "        vertical-align: top;\n",
              "    }\n",
              "\n",
              "    .dataframe thead th {\n",
              "        text-align: right;\n",
              "    }\n",
              "</style>\n",
              "<table border=\"1\" class=\"dataframe\">\n",
              "  <thead>\n",
              "    <tr style=\"text-align: right;\">\n",
              "      <th></th>\n",
              "      <th>ID</th>\n",
              "      <th>V1</th>\n",
              "      <th>V2</th>\n",
              "      <th>V3</th>\n",
              "      <th>V4</th>\n",
              "      <th>V5</th>\n",
              "      <th>V6</th>\n",
              "      <th>V7</th>\n",
              "      <th>V8</th>\n",
              "      <th>V9</th>\n",
              "      <th>...</th>\n",
              "      <th>V21</th>\n",
              "      <th>V22</th>\n",
              "      <th>V23</th>\n",
              "      <th>V24</th>\n",
              "      <th>V25</th>\n",
              "      <th>V26</th>\n",
              "      <th>V27</th>\n",
              "      <th>V28</th>\n",
              "      <th>V29</th>\n",
              "      <th>V30</th>\n",
              "    </tr>\n",
              "  </thead>\n",
              "  <tbody>\n",
              "    <tr>\n",
              "      <th>ID</th>\n",
              "      <td>1.000000</td>\n",
              "      <td>0.112910</td>\n",
              "      <td>0.000845</td>\n",
              "      <td>-0.414916</td>\n",
              "      <td>-0.100227</td>\n",
              "      <td>0.171102</td>\n",
              "      <td>-0.061731</td>\n",
              "      <td>0.081595</td>\n",
              "      <td>-0.034201</td>\n",
              "      <td>-0.002427</td>\n",
              "      <td>...</td>\n",
              "      <td>0.042039</td>\n",
              "      <td>0.134033</td>\n",
              "      <td>0.050219</td>\n",
              "      <td>-0.013915</td>\n",
              "      <td>-0.225939</td>\n",
              "      <td>-0.039474</td>\n",
              "      <td>-0.003649</td>\n",
              "      <td>-0.007565</td>\n",
              "      <td>-0.017644</td>\n",
              "      <td>0.993388</td>\n",
              "    </tr>\n",
              "    <tr>\n",
              "      <th>V1</th>\n",
              "      <td>0.112910</td>\n",
              "      <td>1.000000</td>\n",
              "      <td>0.015507</td>\n",
              "      <td>-0.015559</td>\n",
              "      <td>0.005334</td>\n",
              "      <td>-0.009902</td>\n",
              "      <td>-0.000177</td>\n",
              "      <td>-0.021839</td>\n",
              "      <td>0.003626</td>\n",
              "      <td>-0.009599</td>\n",
              "      <td>...</td>\n",
              "      <td>0.000829</td>\n",
              "      <td>-0.001097</td>\n",
              "      <td>0.017551</td>\n",
              "      <td>-0.001289</td>\n",
              "      <td>0.002329</td>\n",
              "      <td>-0.002013</td>\n",
              "      <td>0.004085</td>\n",
              "      <td>-0.044459</td>\n",
              "      <td>-0.231744</td>\n",
              "      <td>0.118519</td>\n",
              "    </tr>\n",
              "    <tr>\n",
              "      <th>V2</th>\n",
              "      <td>0.000845</td>\n",
              "      <td>0.015507</td>\n",
              "      <td>1.000000</td>\n",
              "      <td>0.015350</td>\n",
              "      <td>-0.004632</td>\n",
              "      <td>0.005220</td>\n",
              "      <td>0.004119</td>\n",
              "      <td>0.020025</td>\n",
              "      <td>0.002628</td>\n",
              "      <td>0.001865</td>\n",
              "      <td>...</td>\n",
              "      <td>0.010194</td>\n",
              "      <td>0.003269</td>\n",
              "      <td>0.015923</td>\n",
              "      <td>-0.004967</td>\n",
              "      <td>-0.003145</td>\n",
              "      <td>0.000796</td>\n",
              "      <td>0.005265</td>\n",
              "      <td>-0.056137</td>\n",
              "      <td>-0.530737</td>\n",
              "      <td>-0.008336</td>\n",
              "    </tr>\n",
              "    <tr>\n",
              "      <th>V3</th>\n",
              "      <td>-0.414916</td>\n",
              "      <td>-0.015559</td>\n",
              "      <td>0.015350</td>\n",
              "      <td>1.000000</td>\n",
              "      <td>0.014562</td>\n",
              "      <td>-0.021869</td>\n",
              "      <td>-0.000392</td>\n",
              "      <td>-0.023424</td>\n",
              "      <td>0.002836</td>\n",
              "      <td>-0.017386</td>\n",
              "      <td>...</td>\n",
              "      <td>-0.001319</td>\n",
              "      <td>0.004616</td>\n",
              "      <td>0.001575</td>\n",
              "      <td>0.003254</td>\n",
              "      <td>0.000031</td>\n",
              "      <td>0.000671</td>\n",
              "      <td>0.003680</td>\n",
              "      <td>-0.022925</td>\n",
              "      <td>-0.207185</td>\n",
              "      <td>-0.429787</td>\n",
              "    </tr>\n",
              "    <tr>\n",
              "      <th>V4</th>\n",
              "      <td>-0.100227</td>\n",
              "      <td>0.005334</td>\n",
              "      <td>-0.004632</td>\n",
              "      <td>0.014562</td>\n",
              "      <td>1.000000</td>\n",
              "      <td>0.009886</td>\n",
              "      <td>0.001191</td>\n",
              "      <td>0.011269</td>\n",
              "      <td>0.000271</td>\n",
              "      <td>0.008993</td>\n",
              "      <td>...</td>\n",
              "      <td>-0.000008</td>\n",
              "      <td>-0.002732</td>\n",
              "      <td>-0.004866</td>\n",
              "      <td>0.001741</td>\n",
              "      <td>0.001838</td>\n",
              "      <td>0.002832</td>\n",
              "      <td>-0.007131</td>\n",
              "      <td>0.025828</td>\n",
              "      <td>0.091913</td>\n",
              "      <td>-0.103017</td>\n",
              "    </tr>\n",
              "    <tr>\n",
              "      <th>V5</th>\n",
              "      <td>0.171102</td>\n",
              "      <td>-0.009902</td>\n",
              "      <td>0.005220</td>\n",
              "      <td>-0.021869</td>\n",
              "      <td>0.009886</td>\n",
              "      <td>1.000000</td>\n",
              "      <td>-0.000701</td>\n",
              "      <td>-0.012571</td>\n",
              "      <td>-0.000730</td>\n",
              "      <td>-0.006367</td>\n",
              "      <td>...</td>\n",
              "      <td>-0.013559</td>\n",
              "      <td>0.004033</td>\n",
              "      <td>-0.009856</td>\n",
              "      <td>0.004302</td>\n",
              "      <td>-0.001611</td>\n",
              "      <td>-0.000664</td>\n",
              "      <td>0.020649</td>\n",
              "      <td>-0.004484</td>\n",
              "      <td>-0.382747</td>\n",
              "      <td>0.175038</td>\n",
              "    </tr>\n",
              "    <tr>\n",
              "      <th>V6</th>\n",
              "      <td>-0.061731</td>\n",
              "      <td>-0.000177</td>\n",
              "      <td>0.004119</td>\n",
              "      <td>-0.000392</td>\n",
              "      <td>0.001191</td>\n",
              "      <td>-0.000701</td>\n",
              "      <td>1.000000</td>\n",
              "      <td>-0.010017</td>\n",
              "      <td>0.008153</td>\n",
              "      <td>-0.004149</td>\n",
              "      <td>...</td>\n",
              "      <td>0.006419</td>\n",
              "      <td>-0.004982</td>\n",
              "      <td>0.004990</td>\n",
              "      <td>-0.001185</td>\n",
              "      <td>-0.000470</td>\n",
              "      <td>-0.003615</td>\n",
              "      <td>-0.011486</td>\n",
              "      <td>0.000046</td>\n",
              "      <td>0.210381</td>\n",
              "      <td>-0.061977</td>\n",
              "    </tr>\n",
              "    <tr>\n",
              "      <th>V7</th>\n",
              "      <td>0.081595</td>\n",
              "      <td>-0.021839</td>\n",
              "      <td>0.020025</td>\n",
              "      <td>-0.023424</td>\n",
              "      <td>0.011269</td>\n",
              "      <td>-0.012571</td>\n",
              "      <td>-0.010017</td>\n",
              "      <td>1.000000</td>\n",
              "      <td>0.000813</td>\n",
              "      <td>-0.009075</td>\n",
              "      <td>...</td>\n",
              "      <td>0.008721</td>\n",
              "      <td>-0.000123</td>\n",
              "      <td>0.011034</td>\n",
              "      <td>-0.001084</td>\n",
              "      <td>0.000420</td>\n",
              "      <td>0.004651</td>\n",
              "      <td>-0.033952</td>\n",
              "      <td>0.006749</td>\n",
              "      <td>0.391239</td>\n",
              "      <td>0.084646</td>\n",
              "    </tr>\n",
              "    <tr>\n",
              "      <th>V8</th>\n",
              "      <td>-0.034201</td>\n",
              "      <td>0.003626</td>\n",
              "      <td>0.002628</td>\n",
              "      <td>0.002836</td>\n",
              "      <td>0.000271</td>\n",
              "      <td>-0.000730</td>\n",
              "      <td>0.008153</td>\n",
              "      <td>0.000813</td>\n",
              "      <td>1.000000</td>\n",
              "      <td>-0.003052</td>\n",
              "      <td>...</td>\n",
              "      <td>0.001672</td>\n",
              "      <td>0.000508</td>\n",
              "      <td>0.013885</td>\n",
              "      <td>0.000094</td>\n",
              "      <td>-0.003231</td>\n",
              "      <td>0.003217</td>\n",
              "      <td>-0.006134</td>\n",
              "      <td>-0.014922</td>\n",
              "      <td>-0.102777</td>\n",
              "      <td>-0.036350</td>\n",
              "    </tr>\n",
              "    <tr>\n",
              "      <th>V9</th>\n",
              "      <td>-0.002427</td>\n",
              "      <td>-0.009599</td>\n",
              "      <td>0.001865</td>\n",
              "      <td>-0.017386</td>\n",
              "      <td>0.008993</td>\n",
              "      <td>-0.006367</td>\n",
              "      <td>-0.004149</td>\n",
              "      <td>-0.009075</td>\n",
              "      <td>-0.003052</td>\n",
              "      <td>1.000000</td>\n",
              "      <td>...</td>\n",
              "      <td>-0.007212</td>\n",
              "      <td>-0.002725</td>\n",
              "      <td>-0.008715</td>\n",
              "      <td>0.002114</td>\n",
              "      <td>-0.001449</td>\n",
              "      <td>0.001348</td>\n",
              "      <td>-0.001733</td>\n",
              "      <td>0.008454</td>\n",
              "      <td>-0.041503</td>\n",
              "      <td>-0.007580</td>\n",
              "    </tr>\n",
              "  </tbody>\n",
              "</table>\n",
              "<p>10 rows × 31 columns</p>\n",
              "</div>\n",
              "      <button class=\"colab-df-convert\" onclick=\"convertToInteractive('df-0a277ea4-3941-4db3-aba5-2449a6a2e8bb')\"\n",
              "              title=\"Convert this dataframe to an interactive table.\"\n",
              "              style=\"display:none;\">\n",
              "        \n",
              "  <svg xmlns=\"http://www.w3.org/2000/svg\" height=\"24px\"viewBox=\"0 0 24 24\"\n",
              "       width=\"24px\">\n",
              "    <path d=\"M0 0h24v24H0V0z\" fill=\"none\"/>\n",
              "    <path d=\"M18.56 5.44l.94 2.06.94-2.06 2.06-.94-2.06-.94-.94-2.06-.94 2.06-2.06.94zm-11 1L8.5 8.5l.94-2.06 2.06-.94-2.06-.94L8.5 2.5l-.94 2.06-2.06.94zm10 10l.94 2.06.94-2.06 2.06-.94-2.06-.94-.94-2.06-.94 2.06-2.06.94z\"/><path d=\"M17.41 7.96l-1.37-1.37c-.4-.4-.92-.59-1.43-.59-.52 0-1.04.2-1.43.59L10.3 9.45l-7.72 7.72c-.78.78-.78 2.05 0 2.83L4 21.41c.39.39.9.59 1.41.59.51 0 1.02-.2 1.41-.59l7.78-7.78 2.81-2.81c.8-.78.8-2.07 0-2.86zM5.41 20L4 18.59l7.72-7.72 1.47 1.35L5.41 20z\"/>\n",
              "  </svg>\n",
              "      </button>\n",
              "      \n",
              "  <style>\n",
              "    .colab-df-container {\n",
              "      display:flex;\n",
              "      flex-wrap:wrap;\n",
              "      gap: 12px;\n",
              "    }\n",
              "\n",
              "    .colab-df-convert {\n",
              "      background-color: #E8F0FE;\n",
              "      border: none;\n",
              "      border-radius: 50%;\n",
              "      cursor: pointer;\n",
              "      display: none;\n",
              "      fill: #1967D2;\n",
              "      height: 32px;\n",
              "      padding: 0 0 0 0;\n",
              "      width: 32px;\n",
              "    }\n",
              "\n",
              "    .colab-df-convert:hover {\n",
              "      background-color: #E2EBFA;\n",
              "      box-shadow: 0px 1px 2px rgba(60, 64, 67, 0.3), 0px 1px 3px 1px rgba(60, 64, 67, 0.15);\n",
              "      fill: #174EA6;\n",
              "    }\n",
              "\n",
              "    [theme=dark] .colab-df-convert {\n",
              "      background-color: #3B4455;\n",
              "      fill: #D2E3FC;\n",
              "    }\n",
              "\n",
              "    [theme=dark] .colab-df-convert:hover {\n",
              "      background-color: #434B5C;\n",
              "      box-shadow: 0px 1px 3px 1px rgba(0, 0, 0, 0.15);\n",
              "      filter: drop-shadow(0px 1px 2px rgba(0, 0, 0, 0.3));\n",
              "      fill: #FFFFFF;\n",
              "    }\n",
              "  </style>\n",
              "\n",
              "      <script>\n",
              "        const buttonEl =\n",
              "          document.querySelector('#df-0a277ea4-3941-4db3-aba5-2449a6a2e8bb button.colab-df-convert');\n",
              "        buttonEl.style.display =\n",
              "          google.colab.kernel.accessAllowed ? 'block' : 'none';\n",
              "\n",
              "        async function convertToInteractive(key) {\n",
              "          const element = document.querySelector('#df-0a277ea4-3941-4db3-aba5-2449a6a2e8bb');\n",
              "          const dataTable =\n",
              "            await google.colab.kernel.invokeFunction('convertToInteractive',\n",
              "                                                     [key], {});\n",
              "          if (!dataTable) return;\n",
              "\n",
              "          const docLinkHtml = 'Like what you see? Visit the ' +\n",
              "            '<a target=\"_blank\" href=https://colab.research.google.com/notebooks/data_table.ipynb>data table notebook</a>'\n",
              "            + ' to learn more about interactive tables.';\n",
              "          element.innerHTML = '';\n",
              "          dataTable['output_type'] = 'display_data';\n",
              "          await google.colab.output.renderOutput(dataTable, element);\n",
              "          const docLink = document.createElement('div');\n",
              "          docLink.innerHTML = docLinkHtml;\n",
              "          element.appendChild(docLink);\n",
              "        }\n",
              "      </script>\n",
              "    </div>\n",
              "  </div>\n",
              "  "
            ]
          },
          "metadata": {}
        }
      ]
    },
    {
      "cell_type": "code",
      "source": [
        "import numpy as np\n",
        "import matplotlib.pyplot as plt"
      ],
      "metadata": {
        "id": "E-9spJIdP1BK"
      },
      "execution_count": 29,
      "outputs": []
    },
    {
      "cell_type": "code",
      "source": [
        "# 상관 관계를 Heat Map으로 시각화합니다.\n",
        "\n",
        "def Heat_Map(data, # 사용할 데이터 셋\n",
        "             drop_columns, # 제거할 칼럼\n",
        "             data_name # 이미지 제목으로 설정한 데이터 셋 이름\n",
        "             ):\n",
        "\n",
        "  # 불필요한 칼럼을 제거합니다.\n",
        "  data = data.drop(columns=drop_columns)\n",
        "\n",
        "  # 도화지의 크기를 설정합니다.\n",
        "  fig, ax = plt.subplots(figsize=(16, 10))\n",
        "\n",
        "  # 상관계수 값을 Heat Map으로 시각화합니다.\n",
        "  plt.pcolor(data.corr())\n",
        "\n",
        "  # X축와 Y축을 설정합니다.\n",
        "  plt.xticks(np.arange(0.5, len(data.columns), 1), data.columns)\n",
        "  plt.yticks(np.arange(0.5, len(data.columns), 1), data.columns)\n",
        "\n",
        "  # Heat Map 색깔의 의미를 나타내는 막대를 표기합니다.\n",
        "  plt.colorbar()\n",
        "\n",
        "  # 시각화한 이미지의 제목을 설정합니다.\n",
        "  ax.set_title(f\"{data_name} Heat Map\")\n",
        "\n",
        "  plt.show()"
      ],
      "metadata": {
        "id": "5iPNAqujPXjF"
      },
      "execution_count": 33,
      "outputs": []
    },
    {
      "cell_type": "code",
      "source": [
        "Heat_Map(data=train,\n",
        "         drop_columns=['ID'],\n",
        "         data_name='Train')"
      ],
      "metadata": {
        "colab": {
          "base_uri": "https://localhost:8080/",
          "height": 512
        },
        "id": "Lg4t59l9P-1T",
        "outputId": "a20e71de-5a43-4314-e8e9-0396e394e022"
      },
      "execution_count": 32,
      "outputs": [
        {
          "output_type": "display_data",
          "data": {
            "text/plain": [
              "<Figure size 1152x720 with 2 Axes>"
            ],
            "image/png": "[encoded data removed]"
          },
          "metadata": {
            "needs_background": "light"
          }
        }
      ]
    },
    {
      "cell_type": "markdown",
      "source": [
        "유의미한 상관 관계를 보이는 칼럼은 보이지 않습니다.\n",
        "\n",
        "그래도 상대적으로 유의미한 상관 관계를 나타내는 칼럼을 자세히 살펴봅시다."
      ],
      "metadata": {
        "id": "A4uGHWbiRwM8"
      }
    },
    {
      "cell_type": "markdown",
      "source": [
        "#### 산점도를 통한 양의 상관관계를 칼럼들을 시각화"
      ],
      "metadata": {
        "id": "R4_LPGuyR_q6"
      }
    },
    {
      "cell_type": "code",
      "source": [
        "# 두 칼럼을 통해 산점도로 시각화합니다.\n",
        "\n",
        "def scatter_plot(data, # 사용할 데이터 셋\n",
        "                 x, # X축에 표기할 칼럼\n",
        "                 y, # Y축에 표기할 칼럼\n",
        "                 hue # 'Class' 칼럼을 표기할 여부\n",
        "                 ):\n",
        "\n",
        "  # 두 칼럼 간의 상관 관계를 출력합니다.\n",
        "  corr = np.corrcoef(data[x], data[y])[0, 1]\n",
        "  print(f'\\n상관계수 : {corr}\\n')\n",
        "  \n",
        "   # 'Class' 칼럼을 표기하지 않을 경우\n",
        "  if hue == False:\n",
        "\n",
        "    # 도화지 크기를 설정합니다.\n",
        "    fig, ax = plt.subplots(figsize=(10, 6))\n",
        "  \n",
        "    # 두 칼럼의 관계를 산점도로 표현합니다.\n",
        "    plt.scatter(x=data[x], y=data[y])\n",
        "\n",
        "    # 그래프의 제목을 설정합니다.\n",
        "    ax.set_title(f\"{x} & {y} Scatter\")\n",
        "\n",
        "  # 'Class' 칼럼을 표기할 경우\n",
        "  if hue == True:\n",
        "    \n",
        "    # 도화지 크기를 설정합니다.\n",
        "    fig, ax = plt.subplots(figsize=(10, 6))\n",
        "    \n",
        "    # Class 별 색상을 설정합니다.\n",
        "    color = {'Anomaly':'red', 'Normal':'blue'}\n",
        "    \n",
        "    # 두 칼럼의 관계를 산점도로 표현합니다.\n",
        "    ax.scatter(data[x], data[y], c=data['Class'].map(color))\n",
        "\n",
        "    # 그래프의 제목을 설정합니다.\n",
        "    ax.set_title(f\"{x} & {y} Scatter\")\n",
        "\n",
        "  plt.show()"
      ],
      "metadata": {
        "id": "_RRRy_KlSI8N"
      },
      "execution_count": 48,
      "outputs": []
    },
    {
      "cell_type": "code",
      "source": [
        "# V7 & V29\n",
        "scatter_plot(data=train, x='V7', y='V29', hue=False)"
      ],
      "metadata": {
        "colab": {
          "base_uri": "https://localhost:8080/",
          "height": 444
        },
        "id": "dZtdVMvfQEYN",
        "outputId": "ebc8cd7d-8878-49ff-d09c-8a88c54519fe"
      },
      "execution_count": 49,
      "outputs": [
        {
          "output_type": "stream",
          "name": "stdout",
          "text": [
            "\n",
            "상관계수 : 0.39123942177039084\n",
            "\n"
          ]
        },
        {
          "output_type": "display_data",
          "data": {
            "text/plain": [
              "<Figure size 720x432 with 1 Axes>"
            ],
            "image/png": "[encoded data removed]"
          },
          "metadata": {
            "needs_background": "light"
          }
        }
      ]
    },
    {
      "cell_type": "code",
      "source": [
        "# V20 & V29\n",
        "scatter_plot(data=train, x='V20', y='V29', hue=False)"
      ],
      "metadata": {
        "colab": {
          "base_uri": "https://localhost:8080/",
          "height": 444
        },
        "id": "sOTykQ4UTB-e",
        "outputId": "e11d9a1c-62ac-4a48-cd2f-0e7555195ef0"
      },
      "execution_count": 50,
      "outputs": [
        {
          "output_type": "stream",
          "name": "stdout",
          "text": [
            "\n",
            "상관계수 : 0.3482192636898068\n",
            "\n"
          ]
        },
        {
          "output_type": "display_data",
          "data": {
            "text/plain": [
              "<Figure size 720x432 with 1 Axes>"
            ],
            "image/png": "[encoded data removed]"
          },
          "metadata": {
            "needs_background": "light"
          }
        }
      ]
    },
    {
      "cell_type": "markdown",
      "source": [
        "#### 산점도를 통한 음의 상관관계를 칼럼들을 시각화"
      ],
      "metadata": {
        "id": "mMl5Hqy4V8VK"
      }
    },
    {
      "cell_type": "code",
      "source": [
        "# V2 & V29\n",
        "scatter_plot(data=train, x='V2', y='V29', hue=False)"
      ],
      "metadata": {
        "colab": {
          "base_uri": "https://localhost:8080/",
          "height": 444
        },
        "id": "tb65Ka29V0MZ",
        "outputId": "af8a6538-99bf-4eae-b5a6-34066276bac3"
      },
      "execution_count": 51,
      "outputs": [
        {
          "output_type": "stream",
          "name": "stdout",
          "text": [
            "\n",
            "상관계수 : -0.5307373283987076\n",
            "\n"
          ]
        },
        {
          "output_type": "display_data",
          "data": {
            "text/plain": [
              "<Figure size 720x432 with 1 Axes>"
            ],
            "image/png": "[encoded data removed]"
          },
          "metadata": {
            "needs_background": "light"
          }
        }
      ]
    },
    {
      "cell_type": "code",
      "source": [
        "# V3 & V30\n",
        "scatter_plot(data=train, x='V3', y='V30', hue=False)"
      ],
      "metadata": {
        "colab": {
          "base_uri": "https://localhost:8080/",
          "height": 444
        },
        "id": "ick7pGFLWB_C",
        "outputId": "2a15396d-7fb6-4a91-e671-1c00380e247b"
      },
      "execution_count": 52,
      "outputs": [
        {
          "output_type": "stream",
          "name": "stdout",
          "text": [
            "\n",
            "상관계수 : -0.4297866482472341\n",
            "\n"
          ]
        },
        {
          "output_type": "display_data",
          "data": {
            "text/plain": [
              "<Figure size 720x432 with 1 Axes>"
            ],
            "image/png": "[encoded data removed]"
          },
          "metadata": {
            "needs_background": "light"
          }
        }
      ]
    },
    {
      "cell_type": "code",
      "source": [
        "# V5 & V29\n",
        "scatter_plot(data=train, x='V5', y='V29', hue=False)"
      ],
      "metadata": {
        "colab": {
          "base_uri": "https://localhost:8080/",
          "height": 444
        },
        "id": "3vHu2ry_WI4-",
        "outputId": "2c8ee587-7b99-4038-a3dc-9c67757a3c14"
      },
      "execution_count": 53,
      "outputs": [
        {
          "output_type": "stream",
          "name": "stdout",
          "text": [
            "\n",
            "상관계수 : -0.38274706592548874\n",
            "\n"
          ]
        },
        {
          "output_type": "display_data",
          "data": {
            "text/plain": [
              "<Figure size 720x432 with 1 Axes>"
            ],
            "image/png": "[encoded data removed]"
          },
          "metadata": {
            "needs_background": "light"
          }
        }
      ]
    },
    {
      "cell_type": "markdown",
      "source": [
        "**약한 상관 관계를 보이기에 두 칼럼 간 일정한 패턴이 있다는 것을 확인하는 것은 어려웠습니다.**<br><br>\n",
        "\n",
        "**그러나 두 칼럼 간의 데이터 특정 한 부분을 중심으로 모여있는 것을 확인할 수 있습니다.**<br><br>\n",
        "\n",
        "**우리는 정상 거래는 특정 한 부분에 모여있을 것이고 사기 거래는 특정 한 부분으로 부터 멀리 떨어져 있을 것이라고 가정할 수 있습니다.**<br><br>"
      ],
      "metadata": {
        "id": "-vaZMhDDWStu"
      }
    },
    {
      "cell_type": "markdown",
      "source": [
        "#### 히스토그램과 박스 플랏을 통한 데이터 분포 확인하기"
      ],
      "metadata": {
        "id": "V7mvRsw8XWYZ"
      }
    },
    {
      "cell_type": "code",
      "source": [
        "# 각 칼럼 별 히스토그램과 박스 플랏 시각화 \n",
        "\n",
        "def EDA_Data_Set_1(data, # 사용할 데이터 셋\n",
        "                   drop_columns # 사용하지 않을 칼럼\n",
        "                   ):\n",
        "\n",
        "  # 데이터 셋의 각각의 칼럼을 불러옵니다.\n",
        "  for col in data.drop(columns=drop_columns).columns:\n",
        "\n",
        "    # 각 칼럼의 통계값을 출력합니다.\n",
        "    print_statistics_1(data, col)\n",
        "\n",
        "    # 두 개의 도화지를 준비합니다.\n",
        "    fig, ax = plt.subplots(ncols=2, figsize=(15, 3))\n",
        "\n",
        "    # 히스토그램을 표현합니다.\n",
        "    ax[0].hist(x=data[col], bins=100)\n",
        "    ax[0].set_title(f\"{col}'s Histogram\")\n",
        "\n",
        "    # 박스 플랏을 표현합니다.\n",
        "    ax[1].boxplot(x=data[col], vert=False)\n",
        "    ax[1].set_title(f\"{col}'s Box Plot\")\n",
        "\n",
        "    plt.show()"
      ],
      "metadata": {
        "id": "N_nFogKPWM8v"
      },
      "execution_count": 72,
      "outputs": []
    },
    {
      "cell_type": "code",
      "source": [
        "EDA_Data_Set_1(data=train, drop_columns=['ID'])"
      ],
      "metadata": {
        "colab": {
          "base_uri": "https://localhost:8080/",
          "height": 1000
        },
        "id": "bT-SbrdvXutL",
        "outputId": "747fa26e-b24c-47c5-d33b-e12ae3e0706c"
      },
      "execution_count": 73,
      "outputs": [
        {
          "output_type": "stream",
          "name": "stdout",
          "text": [
            "\n",
            "V1의 최대값 : 2.45492999121121\n",
            "V1의 최소값 : -56.407509631329\n",
            "V1의 평균값 : 0.00019729098661136333\n",
            "V1의 중앙값 : 0.01207362136827825\n",
            "V1의 표준편차 : 1.9510604522492707\n",
            "\n"
          ]
        },
        {
          "output_type": "display_data",
          "data": {
            "text/plain": [
              "<Figure size 1080x216 with 2 Axes>"
            ],
            "image/png": "[encoded data removed]"
          },
          "metadata": {
            "needs_background": "light"
          }
        },
        {
          "output_type": "stream",
          "name": "stdout",
          "text": [
            "\n",
            "V2의 최대값 : 21.4672029942752\n",
            "V2의 최소값 : -72.7157275629303\n",
            "V2의 평균값 : 0.0012887947752847964\n",
            "V2의 중앙값 : 0.06639026082044969\n",
            "V2의 표준편차 : 1.6510635788198469\n",
            "\n"
          ]
        },
        {
          "output_type": "display_data",
          "data": {
            "text/plain": [
              "<Figure size 1080x216 with 2 Axes>"
            ],
            "image/png": "[encoded data removed]"
          },
          "metadata": {
            "needs_background": "light"
          }
        },
        {
          "output_type": "stream",
          "name": "stdout",
          "text": [
            "\n",
            "V3의 최대값 : 4.18781059904763\n",
            "V3의 최소값 : -32.4541981862547\n",
            "V3의 평균값 : 0.009717362937767754\n",
            "V3의 중앙값 : 0.183867815323936\n",
            "V3의 표준편차 : 1.4969157270583686\n",
            "\n"
          ]
        },
        {
          "output_type": "display_data",
          "data": {
            "text/plain": [
              "<Figure size 1080x216 with 2 Axes>"
            ],
            "image/png": "[encoded data removed]"
          },
          "metadata": {
            "needs_background": "light"
          }
        },
        {
          "output_type": "stream",
          "name": "stdout",
          "text": [
            "\n",
            "V4의 최대값 : 16.4912171736623\n",
            "V4의 최소값 : -5.6006071412151\n",
            "V4의 평균값 : -0.004169208277632673\n",
            "V4의 중앙값 : -0.019359487922923302\n",
            "V4의 표준편차 : 1.412633171594734\n",
            "\n"
          ]
        },
        {
          "output_type": "display_data",
          "data": {
            "text/plain": [
              "<Figure size 1080x216 with 2 Axes>"
            ],
            "image/png": "[encoded data removed]"
          },
          "metadata": {
            "needs_background": "light"
          }
        },
        {
          "output_type": "stream",
          "name": "stdout",
          "text": [
            "\n",
            "V5의 최대값 : 34.8016658766686\n",
            "V5의 최소값 : -42.1478983728015\n",
            "V5의 평균값 : 0.00047499618187236547\n",
            "V5의 중앙값 : -0.054059608935735054\n",
            "V5의 표준편차 : 1.367533486735317\n",
            "\n"
          ]
        },
        {
          "output_type": "display_data",
          "data": {
            "text/plain": [
              "<Figure size 1080x216 with 2 Axes>"
            ],
            "image/png": "[encoded data removed]"
          },
          "metadata": {
            "needs_background": "light"
          }
        },
        {
          "output_type": "stream",
          "name": "stdout",
          "text": [
            "\n",
            "V6의 최대값 : 23.9178371266367\n",
            "V6의 최소값 : -26.1605059358433\n",
            "V6의 평균값 : 0.005141157690735944\n",
            "V6의 중앙값 : -0.272435589201947\n",
            "V6의 표준편차 : 1.3305827734281754\n",
            "\n"
          ]
        },
        {
          "output_type": "display_data",
          "data": {
            "text/plain": [
              "<Figure size 1080x216 with 2 Axes>"
            ],
            "image/png": "[encoded data removed]"
          },
          "metadata": {
            "needs_background": "light"
          }
        },
        {
          "output_type": "stream",
          "name": "stdout",
          "text": [
            "\n",
            "V7의 최대값 : 44.0544613631638\n",
            "V7의 최소값 : -41.5067960832574\n",
            "V7의 평균값 : 0.0057690238842603115\n",
            "V7의 중앙값 : 0.039036187676720846\n",
            "V7의 표준편차 : 1.2041108132981733\n",
            "\n"
          ]
        },
        {
          "output_type": "display_data",
          "data": {
            "text/plain": [
              "<Figure size 1080x216 with 2 Axes>"
            ],
            "image/png": "[encoded data removed]"
          },
          "metadata": {
            "needs_background": "light"
          }
        },
        {
          "output_type": "stream",
          "name": "stdout",
          "text": [
            "\n",
            "V8의 최대값 : 20.0072083651213\n",
            "V8의 최소값 : -50.9433688677023\n",
            "V8의 평균값 : -0.0024505883004975835\n",
            "V8의 중앙값 : 0.0209696520444015\n",
            "V8의 표준편차 : 1.1855042538309344\n",
            "\n"
          ]
        },
        {
          "output_type": "display_data",
          "data": {
            "text/plain": [
              "<Figure size 1080x216 with 2 Axes>"
            ],
            "image/png": "[encoded data removed]"
          },
          "metadata": {
            "needs_background": "light"
          }
        },
        {
          "output_type": "stream",
          "name": "stdout",
          "text": [
            "\n",
            "V9의 최대값 : 10.3928888246785\n",
            "V9의 최소값 : -13.4340663182301\n",
            "V9의 평균값 : -0.002107068687996854\n",
            "V9의 중앙값 : -0.0521569296307329\n",
            "V9의 표준편차 : 1.0954151622035642\n",
            "\n"
          ]
        },
        {
          "output_type": "display_data",
          "data": {
            "text/plain": [
              "<Figure size 1080x216 with 2 Axes>"
            ],
            "image/png": "[encoded data removed]"
          },
          "metadata": {
            "needs_background": "light"
          }
        },
        {
          "output_type": "stream",
          "name": "stdout",
          "text": [
            "\n",
            "V10의 최대값 : 15.3317415557881\n",
            "V10의 최소값 : -24.4031849699728\n",
            "V10의 평균값 : 0.005209412662028898\n",
            "V10의 중앙값 : -0.0908096855072013\n",
            "V10의 표준편차 : 1.0713372717719878\n",
            "\n"
          ]
        },
        {
          "output_type": "display_data",
          "data": {
            "text/plain": [
              "<Figure size 1080x216 with 2 Axes>"
            ],
            "image/png": "[encoded data removed]"
          },
          "metadata": {
            "needs_background": "light"
          }
        },
        {
          "output_type": "stream",
          "name": "stdout",
          "text": [
            "\n",
            "V11의 최대값 : 10.446846814514\n",
            "V11의 최소값 : -4.68293054765276\n",
            "V11의 평균값 : -0.0016864005258888273\n",
            "V11의 중앙값 : -0.03440545072255165\n",
            "V11의 표준편차 : 1.01468861204786\n",
            "\n"
          ]
        },
        {
          "output_type": "display_data",
          "data": {
            "text/plain": [
              "<Figure size 1080x216 with 2 Axes>"
            ],
            "image/png": "[encoded data removed]"
          },
          "metadata": {
            "needs_background": "light"
          }
        },
        {
          "output_type": "stream",
          "name": "stdout",
          "text": [
            "\n",
            "V12의 최대값 : 4.31807083997779\n",
            "V12의 최소값 : -18.5536970096458\n",
            "V12의 평균값 : 0.003944336708458373\n",
            "V12의 중앙값 : 0.14143396998729552\n",
            "V12의 표준편차 : 0.9770393721889566\n",
            "\n"
          ]
        },
        {
          "output_type": "display_data",
          "data": {
            "text/plain": [
              "<Figure size 1080x216 with 2 Axes>"
            ],
            "image/png": "[encoded data removed]"
          },
          "metadata": {
            "needs_background": "light"
          }
        },
        {
          "output_type": "stream",
          "name": "stdout",
          "text": [
            "\n",
            "V13의 최대값 : 4.56900895856606\n",
            "V13의 최소값 : -3.84497361209561\n",
            "V13의 평균값 : 0.0020432913532953444\n",
            "V13의 중앙값 : -0.010846694558323149\n",
            "V13의 표준편차 : 0.9949080604768155\n",
            "\n"
          ]
        },
        {
          "output_type": "display_data",
          "data": {
            "text/plain": [
              "<Figure size 1080x216 with 2 Axes>"
            ],
            "image/png": "[encoded data removed]"
          },
          "metadata": {
            "needs_background": "light"
          }
        },
        {
          "output_type": "stream",
          "name": "stdout",
          "text": [
            "\n",
            "V14의 최대값 : 7.51840278124594\n",
            "V14의 최소값 : -15.6231873302985\n",
            "V14의 평균값 : 0.004397322699922775\n",
            "V14의 중앙값 : 0.0521569486240506\n",
            "V14의 표준편차 : 0.9337533293727834\n",
            "\n"
          ]
        },
        {
          "output_type": "display_data",
          "data": {
            "text/plain": [
              "<Figure size 1080x216 with 2 Axes>"
            ],
            "image/png": "[encoded data removed]"
          },
          "metadata": {
            "needs_background": "light"
          }
        },
        {
          "output_type": "stream",
          "name": "stdout",
          "text": [
            "\n",
            "V15의 최대값 : 5.78451388962946\n",
            "V15의 최소값 : -4.15253175950472\n",
            "V15의 평균값 : -0.0005004147332574053\n",
            "V15의 중앙값 : 0.048524452221400144\n",
            "V15의 표준편차 : 0.9156656449739775\n",
            "\n"
          ]
        },
        {
          "output_type": "display_data",
          "data": {
            "text/plain": [
              "<Figure size 1080x216 with 2 Axes>"
            ],
            "image/png": "[encoded data removed]"
          },
          "metadata": {
            "needs_background": "light"
          }
        },
        {
          "output_type": "stream",
          "name": "stdout",
          "text": [
            "\n",
            "V16의 최대값 : 8.28988955954619\n",
            "V16의 최소값 : -13.30388757707\n",
            "V16의 평균값 : 0.002905432082529999\n",
            "V16의 중앙값 : 0.0664341250021616\n",
            "V16의 표준편차 : 0.8649033262281823\n",
            "\n"
          ]
        },
        {
          "output_type": "display_data",
          "data": {
            "text/plain": [
              "<Figure size 1080x216 with 2 Axes>"
            ],
            "image/png": "[encoded data removed]"
          },
          "metadata": {
            "needs_background": "light"
          }
        },
        {
          "output_type": "stream",
          "name": "stdout",
          "text": [
            "\n",
            "V17의 최대값 : 9.25352625047285\n",
            "V17의 최소값 : -21.2979057823155\n",
            "V17의 평균값 : 0.003397329184032439\n",
            "V17의 중앙값 : -0.06693894995534486\n",
            "V17의 표준편차 : 0.80855207696864\n",
            "\n"
          ]
        },
        {
          "output_type": "display_data",
          "data": {
            "text/plain": [
              "<Figure size 1080x216 with 2 Axes>"
            ],
            "image/png": "[encoded data removed]"
          },
          "metadata": {
            "needs_background": "light"
          }
        },
        {
          "output_type": "stream",
          "name": "stdout",
          "text": [
            "\n",
            "V18의 최대값 : 4.2956482344645\n",
            "V18의 최소값 : -8.66881519685045\n",
            "V18의 평균값 : 0.0011144019564926022\n",
            "V18의 중앙값 : -0.0046325153441596\n",
            "V18의 표준편차 : 0.8307631372452877\n",
            "\n"
          ]
        },
        {
          "output_type": "display_data",
          "data": {
            "text/plain": [
              "<Figure size 1080x216 with 2 Axes>"
            ],
            "image/png": "[encoded data removed]"
          },
          "metadata": {
            "needs_background": "light"
          }
        },
        {
          "output_type": "stream",
          "name": "stdout",
          "text": [
            "\n",
            "V19의 최대값 : 4.71514167078375\n",
            "V19의 최소값 : -4.93273305547833\n",
            "V19의 평균값 : 0.0003000597969664966\n",
            "V19의 중앙값 : 0.00465697882936915\n",
            "V19의 표준편차 : 0.8145423008581303\n",
            "\n"
          ]
        },
        {
          "output_type": "display_data",
          "data": {
            "text/plain": [
              "<Figure size 1080x216 with 2 Axes>"
            ],
            "image/png": "[encoded data removed]"
          },
          "metadata": {
            "needs_background": "light"
          }
        },
        {
          "output_type": "stream",
          "name": "stdout",
          "text": [
            "\n",
            "V20의 최대값 : 26.2373907895659\n",
            "V20의 최소값 : -28.009635333749\n",
            "V20의 평균값 : -0.0004995680282647515\n",
            "V20의 중앙값 : -0.0628905006924982\n",
            "V20의 표준편차 : 0.7633262147916938\n",
            "\n"
          ]
        },
        {
          "output_type": "display_data",
          "data": {
            "text/plain": [
              "<Figure size 1080x216 with 2 Axes>"
            ],
            "image/png": "[encoded data removed]"
          },
          "metadata": {
            "needs_background": "light"
          }
        },
        {
          "output_type": "stream",
          "name": "stdout",
          "text": [
            "\n",
            "V21의 최대값 : 27.2028391573154\n",
            "V21의 최소값 : -22.7575398590576\n",
            "V21의 평균값 : -0.0012424691313204178\n",
            "V21의 중앙값 : -0.030281477600194097\n",
            "V21의 표준편차 : 0.7220012926392156\n",
            "\n"
          ]
        },
        {
          "output_type": "display_data",
          "data": {
            "text/plain": [
              "<Figure size 1080x216 with 2 Axes>"
            ],
            "image/png": "[encoded data removed]"
          },
          "metadata": {
            "needs_background": "light"
          }
        },
        {
          "output_type": "stream",
          "name": "stdout",
          "text": [
            "\n",
            "V22의 최대값 : 8.36198519168435\n",
            "V22의 최소값 : -8.88701714094871\n",
            "V22의 평균값 : 4.0883465609378427e-07\n",
            "V22의 중앙값 : 0.00834580698293555\n",
            "V22의 표준편차 : 0.723829061858326\n",
            "\n"
          ]
        },
        {
          "output_type": "display_data",
          "data": {
            "text/plain": [
              "<Figure size 1080x216 with 2 Axes>"
            ],
            "image/png": "[encoded data removed]"
          },
          "metadata": {
            "needs_background": "light"
          }
        },
        {
          "output_type": "stream",
          "name": "stdout",
          "text": [
            "\n",
            "V23의 최대값 : 22.5284116897749\n",
            "V23의 최소값 : -44.8077352037913\n",
            "V23의 평균값 : -0.0013174176267935621\n",
            "V23의 중앙값 : -0.012260984700957801\n",
            "V23의 표준편차 : 0.6360608348896047\n",
            "\n"
          ]
        },
        {
          "output_type": "display_data",
          "data": {
            "text/plain": [
              "<Figure size 1080x216 with 2 Axes>"
            ],
            "image/png": "[encoded data removed]"
          },
          "metadata": {
            "needs_background": "light"
          }
        },
        {
          "output_type": "stream",
          "name": "stdout",
          "text": [
            "\n",
            "V24의 최대값 : 4.02286589044732\n",
            "V24의 최소값 : -2.82484890293617\n",
            "V24의 평균값 : -0.0008841493522409324\n",
            "V24의 중앙값 : 0.04057349018340555\n",
            "V24의 표준편차 : 0.6058543652030749\n",
            "\n"
          ]
        },
        {
          "output_type": "display_data",
          "data": {
            "text/plain": [
              "<Figure size 1080x216 with 2 Axes>"
            ],
            "image/png": "[encoded data removed]"
          },
          "metadata": {
            "needs_background": "light"
          }
        },
        {
          "output_type": "stream",
          "name": "stdout",
          "text": [
            "\n",
            "V25의 최대값 : 7.51958867870916\n",
            "V25의 최소값 : -10.2953970749851\n",
            "V25의 평균값 : 0.001680153622333995\n",
            "V25의 중앙값 : 0.018278021175428\n",
            "V25의 표준편차 : 0.5200694419728161\n",
            "\n"
          ]
        },
        {
          "output_type": "display_data",
          "data": {
            "text/plain": [
              "<Figure size 1080x216 with 2 Axes>"
            ],
            "image/png": "[encoded data removed]"
          },
          "metadata": {
            "needs_background": "light"
          }
        },
        {
          "output_type": "stream",
          "name": "stdout",
          "text": [
            "\n",
            "V26의 최대값 : 3.11929452903772\n",
            "V26의 최소값 : -1.8553553377608\n",
            "V26의 평균값 : -0.00029337012564088164\n",
            "V26의 중앙값 : -0.052815375709404755\n",
            "V26의 표준편차 : 0.48097857889866485\n",
            "\n"
          ]
        },
        {
          "output_type": "display_data",
          "data": {
            "text/plain": [
              "<Figure size 1080x216 with 2 Axes>"
            ],
            "image/png": "[encoded data removed]"
          },
          "metadata": {
            "needs_background": "light"
          }
        },
        {
          "output_type": "stream",
          "name": "stdout",
          "text": [
            "\n",
            "V27의 최대값 : 11.1357398445742\n",
            "V27의 최소값 : -9.89524404755692\n",
            "V27의 평균값 : -0.00023371284253036214\n",
            "V27의 중앙값 : 0.00150188492327435\n",
            "V27의 표준편차 : 0.39950548833452487\n",
            "\n"
          ]
        },
        {
          "output_type": "display_data",
          "data": {
            "text/plain": [
              "<Figure size 1080x216 with 2 Axes>"
            ],
            "image/png": "[encoded data removed]"
          },
          "metadata": {
            "needs_background": "light"
          }
        },
        {
          "output_type": "stream",
          "name": "stdout",
          "text": [
            "\n",
            "V28의 최대값 : 33.8478078188831\n",
            "V28의 최소값 : -9.61791545238239\n",
            "V28의 평균값 : -0.0005080545516753246\n",
            "V28의 중앙값 : 0.011158211260897648\n",
            "V28의 표준편차 : 0.3561296472138799\n",
            "\n"
          ]
        },
        {
          "output_type": "display_data",
          "data": {
            "text/plain": [
              "<Figure size 1080x216 with 2 Axes>"
            ],
            "image/png": "[encoded data removed]"
          },
          "metadata": {
            "needs_background": "light"
          }
        },
        {
          "output_type": "stream",
          "name": "stdout",
          "text": [
            "\n",
            "V29의 최대값 : 180.10102703835676\n",
            "V29의 최소값 : -0.3074128414727869\n",
            "V29의 평균값 : 0.9272530174662471\n",
            "V29의 중앙값 : -0.0006986655488017\n",
            "V29의 표준편차 : 3.4129328932881196\n",
            "\n"
          ]
        },
        {
          "output_type": "display_data",
          "data": {
            "text/plain": [
              "<Figure size 1080x216 with 2 Axes>"
            ],
            "image/png": "[encoded data removed]"
          },
          "metadata": {
            "needs_background": "light"
          }
        },
        {
          "output_type": "stream",
          "name": "stdout",
          "text": [
            "\n",
            "V30의 최대값 : 1.0349510685040944\n",
            "V30의 최소값 : -0.9949717454387388\n",
            "V30의 평균값 : 0.11623154312648176\n",
            "V30의 중앙값 : -0.00259049095971515\n",
            "V30의 표준편차 : 0.558160863013255\n",
            "\n"
          ]
        },
        {
          "output_type": "display_data",
          "data": {
            "text/plain": [
              "<Figure size 1080x216 with 2 Axes>"
            ],
            "image/png": "[encoded data removed]"
          },
          "metadata": {
            "needs_background": "light"
          }
        }
      ]
    },
    {
      "cell_type": "markdown",
      "source": [
        "**대부분의 칼럼에서 0을 중심으로 모여있으며 각기 다른 이상값을 가지고 있음을 확인할 수 있습니다.**<br><br>\n",
        "\n",
        "**실제로 평균값과 중앙값 차이가 큰 칼럼이 있으며, 최대값과 최소값이 중심으로 크게 떨어져 있음을 확인할 수 있습니다.**<br><br>\n",
        "\n",
        "**표준편차는 상대적으로 적은 것으로 보아 이상치인 데이터는 극소수 인 것으로 추정됩니다.**<br><br>"
      ],
      "metadata": {
        "id": "zZX8_kEHZc82"
      }
    },
    {
      "cell_type": "code",
      "source": [],
      "metadata": {
        "id": "_C8oAXnlXylb"
      },
      "execution_count": null,
      "outputs": []
    }
  ]
}