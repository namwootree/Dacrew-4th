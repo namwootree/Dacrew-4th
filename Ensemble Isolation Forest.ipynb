{
 "cells": [
  {
   "cell_type": "markdown",
   "id": "7f04510b",
   "metadata": {},
   "source": [
    "# Setting"
   ]
  },
  {
   "cell_type": "markdown",
   "id": "27c67edc",
   "metadata": {},
   "source": [
    "## Library"
   ]
  },
  {
   "cell_type": "code",
   "execution_count": 1,
   "id": "3938b240",
   "metadata": {},
   "outputs": [],
   "source": [
    "# 데이터 다루기\n",
    "import pandas as pd\n",
    "import numpy as np\n",
    "from itertools import combinations\n",
    "\n",
    "# 전처리\n",
    "from sklearn.preprocessing import StandardScaler, MinMaxScaler, RobustScaler\n",
    "from sklearn.decomposition import PCA, KernelPCA, SparsePCA, TruncatedSVD, FastICA\n",
    "from sklearn.cluster import KMeans\n",
    "from sklearn.random_projection import GaussianRandomProjection, SparseRandomProjection\n",
    "\n",
    "# 모델링\n",
    "from sklearn.ensemble import IsolationForest\n",
    "from sklearn.neighbors import LocalOutlierFactor\n",
    "from sklearn.covariance import EllipticEnvelope\n",
    "\n",
    "from sklearn.metrics import f1_score\n",
    "from sklearn.metrics import recall_score # 재현율\n",
    "from sklearn.metrics import precision_score # 정밀도\n",
    "from sklearn.metrics import confusion_matrix\n",
    "from sklearn.metrics import classification_report\n",
    "\n",
    "# 기타\n",
    "import os\n",
    "import random"
   ]
  },
  {
   "cell_type": "code",
   "execution_count": 2,
   "id": "0d88558f",
   "metadata": {},
   "outputs": [],
   "source": [
    "import matplotlib.pyplot as plt\n",
    "import seaborn as sns"
   ]
  },
  {
   "cell_type": "code",
   "execution_count": 3,
   "id": "b01d2eb6",
   "metadata": {},
   "outputs": [],
   "source": [
    "import warnings\n",
    "warnings.filterwarnings(action='ignore')"
   ]
  },
  {
   "cell_type": "markdown",
   "id": "2fac7edc",
   "metadata": {},
   "source": [
    "## Fixed Random Seed"
   ]
  },
  {
   "cell_type": "code",
   "execution_count": 4,
   "id": "ebc67db8",
   "metadata": {},
   "outputs": [],
   "source": [
    "def seed_everything(seed):\n",
    "    random.seed(seed)\n",
    "    os.environ['PYTHONHASHSEED'] = str(seed)\n",
    "    np.random.seed(seed)\n",
    "\n",
    "seed_everything(42) # Seed 고정"
   ]
  },
  {
   "cell_type": "markdown",
   "id": "cd42696f",
   "metadata": {},
   "source": [
    "# Load Data Set"
   ]
  },
  {
   "cell_type": "markdown",
   "id": "4f6dc7bb",
   "metadata": {},
   "source": [
    "## Read CSV"
   ]
  },
  {
   "cell_type": "code",
   "execution_count": 5,
   "id": "9f6f3dc9",
   "metadata": {},
   "outputs": [],
   "source": [
    "train = pd.read_csv('./train.csv')\n",
    "val = pd.read_csv('./val.csv')\n",
    "test = pd.read_csv('./test.csv')"
   ]
  },
  {
   "cell_type": "code",
   "execution_count": 6,
   "id": "8016d126",
   "metadata": {},
   "outputs": [
    {
     "data": {
      "text/plain": [
       "0    28432\n",
       "1       30\n",
       "Name: Class, dtype: int64"
      ]
     },
     "execution_count": 6,
     "metadata": {},
     "output_type": "execute_result"
    }
   ],
   "source": [
    "val['Class'].value_counts()"
   ]
  },
  {
   "cell_type": "markdown",
   "id": "dc6dae52",
   "metadata": {},
   "source": [
    "# Preprocessing"
   ]
  },
  {
   "cell_type": "markdown",
   "id": "76c86c4f",
   "metadata": {},
   "source": [
    "## Feature Selection"
   ]
  },
  {
   "cell_type": "code",
   "execution_count": 7,
   "id": "7f1cd8a5",
   "metadata": {},
   "outputs": [],
   "source": [
    "X_train = train.drop(columns=['ID']) \n",
    "\n",
    "X_val = val.drop(columns=['ID', 'Class']) \n",
    "y_val = val['Class']\n",
    "\n",
    "X_test = test.drop(columns=['ID'])"
   ]
  },
  {
   "cell_type": "code",
   "execution_count": 8,
   "id": "a47e9acd",
   "metadata": {},
   "outputs": [],
   "source": [
    "X_train = X_train[['V3', 'V4', 'V9', 'V10', 'V11',\n",
    "                   'V12', 'V14', 'V16', 'V17', 'V18']]\n",
    "\n",
    "X_val = X_val[['V3', 'V4', 'V9', 'V10', 'V11',\n",
    "               'V12', 'V14', 'V16', 'V17', 'V18']]\n",
    "\n",
    "X_test = X_test[['V3', 'V4', 'V9', 'V10', 'V11',\n",
    "                 'V12', 'V14', 'V16', 'V17', 'V18']]"
   ]
  },
  {
   "cell_type": "code",
   "execution_count": 9,
   "id": "179abaee",
   "metadata": {},
   "outputs": [
    {
     "data": {
      "text/plain": [
       "10"
      ]
     },
     "execution_count": 9,
     "metadata": {},
     "output_type": "execute_result"
    }
   ],
   "source": [
    "len(X_train.columns)"
   ]
  },
  {
   "cell_type": "markdown",
   "id": "1f3df6da",
   "metadata": {},
   "source": [
    "## Scaling"
   ]
  },
  {
   "cell_type": "code",
   "execution_count": 10,
   "id": "7490c29d",
   "metadata": {},
   "outputs": [],
   "source": [
    "#scaler = StandardScaler()\n",
    "#scaler = MinMaxScaler()\n",
    "scaler = RobustScaler(quantile_range=(25.0, 75.0))\n",
    "\n",
    "scaled_train = scaler.fit_transform(X_train)\n",
    "scaled_val = scaler.transform(X_val)\n",
    "scaled_test = scaler.transform(X_test)\n",
    "\n",
    "scaled_train = pd.DataFrame(scaled_train)\n",
    "scaled_val = pd.DataFrame(scaled_val)\n",
    "scaled_test = pd.DataFrame(scaled_test)"
   ]
  },
  {
   "cell_type": "code",
   "execution_count": 11,
   "id": "3d825502",
   "metadata": {},
   "outputs": [],
   "source": [
    "#scaler = StandardScaler()\n",
    "scaler = MinMaxScaler()\n",
    "#scaler = RobustScaler(quantile_range=(45.0, 55.0))\n",
    "\n",
    "scaled_train = scaler.fit_transform(scaled_train)\n",
    "scaled_val = scaler.transform(scaled_val)\n",
    "scaled_test = scaler.transform(scaled_test)\n",
    "\n",
    "scaled_train = pd.DataFrame(scaled_train)\n",
    "scaled_val = pd.DataFrame(scaled_val)\n",
    "scaled_test = pd.DataFrame(scaled_test)"
   ]
  },
  {
   "cell_type": "markdown",
   "id": "9514abe2",
   "metadata": {},
   "source": [
    "## 파생 변수"
   ]
  },
  {
   "cell_type": "code",
   "execution_count": 12,
   "id": "395a1e3f",
   "metadata": {},
   "outputs": [
    {
     "name": "stdout",
     "output_type": "stream",
     "text": [
      "252\n"
     ]
    }
   ],
   "source": [
    "main_columns = list(scaled_train.columns)\n",
    "\n",
    "com_main = list(combinations(main_columns, 5))\n",
    "print(len(com_main))"
   ]
  },
  {
   "cell_type": "code",
   "execution_count": 13,
   "id": "3853c367",
   "metadata": {},
   "outputs": [],
   "source": [
    "for com in com_main:\n",
    "\n",
    "  x = com[0]\n",
    "  y = com[1]\n",
    "  z = com[2]\n",
    "  w = com[3]\n",
    "  v = com[-1]\n",
    "\n",
    "  scaled_train[f'{x}_{y}_{z}_{w}_{v}_mean'] = (scaled_train[x] + \\\n",
    "                                               scaled_train[y] + \\\n",
    "                                               scaled_train[z] + \\\n",
    "                                               scaled_train[w] + \\\n",
    "                                               scaled_train[v]) / 5\n",
    "    \n",
    "  scaled_val[f'{x}_{y}_{z}_{w}_{v}_mean'] = (scaled_val[x] + \\\n",
    "                                             scaled_val[y] + \\\n",
    "                                             scaled_val[z] + \\\n",
    "                                             scaled_val[w] + \\\n",
    "                                             scaled_val[v]) / 5\n",
    "\n",
    "  scaled_test[f'{x}_{y}_{z}_{w}_{v}_mean'] = (scaled_test[x] + \\\n",
    "                                              scaled_test[y] + \\\n",
    "                                              scaled_test[z] + \\\n",
    "                                              scaled_test[w] + \\\n",
    "                                              scaled_test[v]) / 5"
   ]
  },
  {
   "cell_type": "code",
   "execution_count": 14,
   "id": "79e9c06e",
   "metadata": {},
   "outputs": [
    {
     "name": "stdout",
     "output_type": "stream",
     "text": [
      "262\n"
     ]
    }
   ],
   "source": [
    "print(len(scaled_train.columns))\n",
    "n_components = len(scaled_train.columns)"
   ]
  },
  {
   "cell_type": "markdown",
   "id": "b7832b4c",
   "metadata": {},
   "source": [
    "## 차원 축소"
   ]
  },
  {
   "cell_type": "code",
   "execution_count": 32,
   "id": "5239656f",
   "metadata": {},
   "outputs": [],
   "source": [
    "def dimension_isolate_forest(train, val, test, random_state):\n",
    "\n",
    "  dimesion_reducer = SparsePCA(n_components=128,\n",
    "                             alpha=0.001,\n",
    "                             random_state=random_state)\n",
    "\n",
    "  PCA_train = dimesion_reducer.fit_transform(train)\n",
    "  PCA_val = dimesion_reducer.transform(val)\n",
    "  PCA_test = dimesion_reducer.transform(test)\n",
    "\n",
    "  PCA_train = pd.DataFrame(PCA_train) \n",
    "  PCA_val = pd.DataFrame(PCA_val)\n",
    "  PCA_test = pd.DataFrame(PCA_test)\n",
    "\n",
    "  dimesion_reducer = SparseRandomProjection(n_components=128,\n",
    "                                          eps=0.1,\n",
    "                                          random_state=42)\n",
    "\n",
    "  SRP_train = dimesion_reducer.fit_transform(train)\n",
    "  SRP_val = dimesion_reducer.transform(val)\n",
    "  SRP_test = dimesion_reducer.transform(test)\n",
    "\n",
    "  SRP_train = pd.DataFrame(SRP_train)\n",
    "  SRP_val = pd.DataFrame(SRP_val)\n",
    "  SRP_test = pd.DataFrame(SRP_test)\n",
    "  \n",
    "  dimesion_reducer = FastICA(n_components=128,\n",
    "                           algorithm='parallel',\n",
    "                           whiten=True,\n",
    "                           max_iter=150,\n",
    "                           random_state=42)\n",
    "\n",
    "  ICA_train = dimesion_reducer.fit_transform(train)\n",
    "  ICA_val = dimesion_reducer.transform(val)\n",
    "  ICA_test = dimesion_reducer.transform(test)\n",
    "\n",
    "  ICA_train = pd.DataFrame(ICA_train)\n",
    "  ICA_val = pd.DataFrame(ICA_val)\n",
    "  ICA_test = pd.DataFrame(ICA_test)\n",
    "    \n",
    "  preprocessed_train = pd.concat([PCA_train,\n",
    "                                  SRP_train,\n",
    "                                  ICA_train],\n",
    "                                 axis=1)\n",
    "\n",
    "  preprocessed_val = pd.concat([PCA_val,\n",
    "                                SRP_val,\n",
    "                                ICA_val],\n",
    "                               axis=1)\n",
    "    \n",
    "  preprocessed_test = pd.concat([PCA_test,\n",
    "                                 SRP_test,\n",
    "                                 ICA_test],\n",
    "                                axis=1)\n",
    "\n",
    "  preprocessed_train.columns = [i for i in range(len(preprocessed_train.columns))]\n",
    "  preprocessed_val.columns = [i for i in range(len(preprocessed_val.columns))]\n",
    "  preprocessed_test.columns = [i for i in range(len(preprocessed_test.columns))]\n",
    "    \n",
    "\n",
    "  return preprocessed_train, preprocessed_val, preprocessed_test"
   ]
  },
  {
   "cell_type": "markdown",
   "id": "0e2c469c",
   "metadata": {},
   "source": [
    "# Modeling"
   ]
  },
  {
   "cell_type": "code",
   "execution_count": 33,
   "id": "85d0859f",
   "metadata": {},
   "outputs": [],
   "source": [
    "def get_pred_label(model_pred):\n",
    "    # IsolationForest 모델 출력 (1:정상, -1:불량(사기)) 이므로 (0:정상, 1:불량(사기))로 Label 변환\n",
    "    model_pred = np.where(model_pred == 1, 0, model_pred)\n",
    "    model_pred = np.where(model_pred == -1, 1, model_pred)\n",
    "    return model_pred"
   ]
  },
  {
   "cell_type": "code",
   "execution_count": 34,
   "id": "002c008e",
   "metadata": {},
   "outputs": [
    {
     "name": "stdout",
     "output_type": "stream",
     "text": [
      "\"0\" Marco F1 Score : 0.8460131793934016\n",
      "\"1\" Marco F1 Score : 0.8331750776625051\n",
      "\"2\" Marco F1 Score : 0.8331750776625051\n",
      "\"3\" Marco F1 Score : 0.8394731804484362\n",
      "\"4\" Marco F1 Score : 0.8394731804484362\n",
      "\"5\" Marco F1 Score : 0.8460131793934016\n",
      "\"6\" Marco F1 Score : 0.8460131793934016\n",
      "\"7\" Marco F1 Score : 0.8528093037014359\n",
      "\"8\" Marco F1 Score : 0.8460131793934016\n",
      "\"9\" Marco F1 Score : 0.8331750776625051\n"
     ]
    }
   ],
   "source": [
    "result_val = np.zeros(val.shape[0])\n",
    "result_test = np.zeros(test.shape[0])\n",
    "\n",
    "for rs in range(10):\n",
    "\n",
    "  reduced_train, reduced_val, reduced_test = dimension_isolate_forest(scaled_train,\n",
    "                                                                      scaled_val,\n",
    "                                                                      scaled_test,\n",
    "                                                                      rs)\n",
    "  \n",
    "  model = IsolationForest(n_estimators=100,\n",
    "                          max_samples=0.80,\n",
    "                          max_features=0.4,\n",
    "                          contamination=30/28432,\n",
    "                          random_state=rs,\n",
    "                          verbose=0,\n",
    "                          n_jobs=-1)\n",
    "  \n",
    "  model.fit(reduced_train)\n",
    "\n",
    "  pred_val = model.predict(reduced_val) # model prediction\n",
    "  pred_val = get_pred_label(pred_val)\n",
    "\n",
    "  result_val += pred_val\n",
    "\n",
    "\n",
    "  pred_test = model.predict(reduced_test) # model prediction\n",
    "  pred_test = get_pred_label(pred_test)\n",
    "\n",
    "  result_test += pred_test\n",
    "\n",
    "  val_score = f1_score(y_val, pred_val, average='macro')\n",
    "\n",
    "  print(f'\"{rs}\" Marco F1 Score : {val_score}')"
   ]
  },
  {
   "cell_type": "markdown",
   "id": "0d1248ab",
   "metadata": {},
   "source": [
    "## Evalution"
   ]
  },
  {
   "cell_type": "code",
   "execution_count": 35,
   "id": "9aee52b0",
   "metadata": {},
   "outputs": [],
   "source": [
    "def check(result, ts, val):\n",
    "\n",
    "  pred_result = []\n",
    "\n",
    "  for i in result:\n",
    "\n",
    "    if i >= ts:\n",
    "\n",
    "      i = 1\n",
    "\n",
    "    else:\n",
    "\n",
    "      i = 0\n",
    "\n",
    "    pred_result.append(i)\n",
    "\n",
    "  if val == True:\n",
    "\n",
    "    val_score = f1_score(y_val, pred_result, average='macro')\n",
    "    recall = recall_score(y_val, pred_result)\n",
    "    precision = precision_score(y_val, pred_result)\n",
    "\n",
    "    print(f'Marco F1 Score : {val_score}\\n')\n",
    "    print(f'Recall : {recall}\\n')\n",
    "    print(f'Precision : {precision}\\n')\n",
    "\n",
    "    print(classification_report(y_val, pred_result))\n",
    "\n",
    "  return pred_result"
   ]
  },
  {
   "cell_type": "code",
   "execution_count": 54,
   "id": "0ae21aed",
   "metadata": {
    "scrolled": true
   },
   "outputs": [
    {
     "name": "stdout",
     "output_type": "stream",
     "text": [
      "Marco F1 Score : 0.8598769209128951\n",
      "\n",
      "Recall : 0.6\n",
      "\n",
      "Precision : 0.9\n",
      "\n",
      "              precision    recall  f1-score   support\n",
      "\n",
      "           0       1.00      1.00      1.00     28432\n",
      "           1       0.90      0.60      0.72        30\n",
      "\n",
      "    accuracy                           1.00     28462\n",
      "   macro avg       0.95      0.80      0.86     28462\n",
      "weighted avg       1.00      1.00      1.00     28462\n",
      "\n"
     ]
    }
   ],
   "source": [
    "pred_val = check(result_val, 9, val=True)"
   ]
  },
  {
   "cell_type": "code",
   "execution_count": 55,
   "id": "6e79bba6",
   "metadata": {},
   "outputs": [
    {
     "data": {
      "image/png": "[encoded data removed]",
      "text/plain": [
       "<Figure size 432x288 with 2 Axes>"
      ]
     },
     "metadata": {
      "needs_background": "light"
     },
     "output_type": "display_data"
    }
   ],
   "source": [
    "cf_matrix = confusion_matrix(y_val, pred_val)\n",
    "sns.heatmap(cf_matrix, annot=True)\n",
    "plt.show()"
   ]
  },
  {
   "cell_type": "markdown",
   "id": "370f2d97",
   "metadata": {},
   "source": [
    "## Inference"
   ]
  },
  {
   "cell_type": "code",
   "execution_count": 56,
   "id": "dc034209",
   "metadata": {},
   "outputs": [],
   "source": [
    "pred_test = check(result_test, 9, val=False)"
   ]
  },
  {
   "cell_type": "markdown",
   "id": "9f2f8cc7",
   "metadata": {},
   "source": [
    "# Submission"
   ]
  },
  {
   "cell_type": "code",
   "execution_count": 57,
   "id": "6bfa0b14",
   "metadata": {},
   "outputs": [],
   "source": [
    "submit = pd.read_csv('./sample_submission.csv')"
   ]
  },
  {
   "cell_type": "code",
   "execution_count": 58,
   "id": "d8873096",
   "metadata": {},
   "outputs": [
    {
     "data": {
      "text/html": [
       "<div>\n",
       "<style scoped>\n",
       "    .dataframe tbody tr th:only-of-type {\n",
       "        vertical-align: middle;\n",
       "    }\n",
       "\n",
       "    .dataframe tbody tr th {\n",
       "        vertical-align: top;\n",
       "    }\n",
       "\n",
       "    .dataframe thead th {\n",
       "        text-align: right;\n",
       "    }\n",
       "</style>\n",
       "<table border=\"1\" class=\"dataframe\">\n",
       "  <thead>\n",
       "    <tr style=\"text-align: right;\">\n",
       "      <th></th>\n",
       "      <th>ID</th>\n",
       "      <th>Class</th>\n",
       "    </tr>\n",
       "  </thead>\n",
       "  <tbody>\n",
       "    <tr>\n",
       "      <th>0</th>\n",
       "      <td>AAAA0x1</td>\n",
       "      <td>0</td>\n",
       "    </tr>\n",
       "    <tr>\n",
       "      <th>1</th>\n",
       "      <td>AAAA0x2</td>\n",
       "      <td>0</td>\n",
       "    </tr>\n",
       "    <tr>\n",
       "      <th>2</th>\n",
       "      <td>AAAA0x5</td>\n",
       "      <td>0</td>\n",
       "    </tr>\n",
       "    <tr>\n",
       "      <th>3</th>\n",
       "      <td>AAAA0x7</td>\n",
       "      <td>0</td>\n",
       "    </tr>\n",
       "    <tr>\n",
       "      <th>4</th>\n",
       "      <td>AAAA0xc</td>\n",
       "      <td>0</td>\n",
       "    </tr>\n",
       "  </tbody>\n",
       "</table>\n",
       "</div>"
      ],
      "text/plain": [
       "        ID  Class\n",
       "0  AAAA0x1      0\n",
       "1  AAAA0x2      0\n",
       "2  AAAA0x5      0\n",
       "3  AAAA0x7      0\n",
       "4  AAAA0xc      0"
      ]
     },
     "execution_count": 58,
     "metadata": {},
     "output_type": "execute_result"
    }
   ],
   "source": [
    "submit['Class'] = pred_test\n",
    "submit.head()"
   ]
  },
  {
   "cell_type": "code",
   "execution_count": 59,
   "id": "6d81ca16",
   "metadata": {},
   "outputs": [],
   "source": [
    "submit.to_csv('./submission_22.csv', index=False)"
   ]
  },
  {
   "cell_type": "code",
   "execution_count": null,
   "id": "89d89893",
   "metadata": {},
   "outputs": [],
   "source": []
  }
 ],
 "metadata": {
  "kernelspec": {
   "display_name": "Python 3 (ipykernel)",
   "language": "python",
   "name": "python3"
  },
  "language_info": {
   "codemirror_mode": {
    "name": "ipython",
    "version": 3
   },
   "file_extension": ".py",
   "mimetype": "text/x-python",
   "name": "python",
   "nbconvert_exporter": "python",
   "pygments_lexer": "ipython3",
   "version": "3.9.12"
  }
 },
 "nbformat": 4,
 "nbformat_minor": 5
}
