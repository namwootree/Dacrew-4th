{
  "nbformat": 4,
  "nbformat_minor": 0,
  "metadata": {
    "colab": {
      "provenance": []
    },
    "kernelspec": {
      "name": "python3",
      "display_name": "Python 3"
    },
    "language_info": {
      "name": "python"
    }
  },
  "cells": [
    {
      "cell_type": "markdown",
      "source": [
        "# Setting"
      ],
      "metadata": {
        "id": "JdAtq5mbLJ6T"
      }
    },
    {
      "cell_type": "markdown",
      "source": [
        "## Library"
      ],
      "metadata": {
        "id": "LpzRbxF8LLF1"
      }
    },
    {
      "cell_type": "code",
      "execution_count": null,
      "metadata": {
        "id": "4lA5ZR29K-Ec"
      },
      "outputs": [],
      "source": [
        "# 데이터 다루기\n",
        "import pandas as pd\n",
        "import numpy as np\n",
        "from itertools import combinations\n",
        "\n",
        "# 전처리\n",
        "from sklearn.preprocessing import StandardScaler, MinMaxScaler, RobustScaler\n",
        "from sklearn.decomposition import PCA, KernelPCA, SparsePCA, TruncatedSVD, IncrementalPCA\n",
        "from sklearn.cluster import KMeans\n",
        "from sklearn.random_projection import GaussianRandomProjection, SparseRandomProjection\n",
        "\n",
        "# 모델링\n",
        "from sklearn.ensemble import IsolationForest\n",
        "from sklearn.neighbors import LocalOutlierFactor\n",
        "from sklearn.covariance import EllipticEnvelope\n",
        "from sklearn.metrics import f1_score\n",
        "from sklearn.metrics import classification_report\n",
        "\n",
        "# 기타\n",
        "import os\n",
        "import random"
      ]
    },
    {
      "cell_type": "code",
      "source": [
        "import warnings\n",
        "warnings.filterwarnings(action='ignore')"
      ],
      "metadata": {
        "id": "t5Jlc229LOB6"
      },
      "execution_count": null,
      "outputs": []
    },
    {
      "cell_type": "markdown",
      "source": [
        "## Fixed Random Seed"
      ],
      "metadata": {
        "id": "RAlVaaC_LS1M"
      }
    },
    {
      "cell_type": "code",
      "source": [
        "def seed_everything(seed):\n",
        "    random.seed(seed)\n",
        "    os.environ['PYTHONHASHSEED'] = str(seed)\n",
        "    np.random.seed(seed)\n",
        "\n",
        "seed_everything(42) # Seed 고정"
      ],
      "metadata": {
        "id": "S0bKBShiLREc"
      },
      "execution_count": null,
      "outputs": []
    },
    {
      "cell_type": "markdown",
      "source": [
        "# Load Data Set"
      ],
      "metadata": {
        "id": "pzNq6q70LY34"
      }
    },
    {
      "cell_type": "markdown",
      "source": [
        "## Googel Drive Mount"
      ],
      "metadata": {
        "id": "aP8Z0AMzLbCl"
      }
    },
    {
      "cell_type": "code",
      "source": [
        "from google.colab import drive\n",
        "drive.mount('/content/drive')"
      ],
      "metadata": {
        "colab": {
          "base_uri": "https://localhost:8080/"
        },
        "id": "dTDPQ6ipLYMN",
        "outputId": "c4d11e3c-d33d-4e9c-f8d2-889cc379f538"
      },
      "execution_count": null,
      "outputs": [
        {
          "output_type": "stream",
          "name": "stdout",
          "text": [
            "Mounted at /content/drive\n"
          ]
        }
      ]
    },
    {
      "cell_type": "markdown",
      "source": [
        "## Unzip File"
      ],
      "metadata": {
        "id": "tMfGxw7WLlFM"
      }
    },
    {
      "cell_type": "code",
      "source": [
        "!unzip --qq '/content/drive/MyDrive/머신러닝 엔지니어링/데이콘/사기거래/data/사기거래.zip'"
      ],
      "metadata": {
        "id": "CH2iRFNbLdcd"
      },
      "execution_count": null,
      "outputs": []
    },
    {
      "cell_type": "markdown",
      "source": [
        "## Load Train / Val / Test Set"
      ],
      "metadata": {
        "id": "jcIJmupMLpBu"
      }
    },
    {
      "cell_type": "code",
      "source": [
        "train = pd.read_csv('/content/train.csv')\n",
        "val = pd.read_csv('/content/val.csv')\n",
        "test = pd.read_csv('/content/test.csv')"
      ],
      "metadata": {
        "id": "oNdbFSuoLoiJ"
      },
      "execution_count": null,
      "outputs": []
    },
    {
      "cell_type": "code",
      "source": [
        "val['Class'].value_counts()"
      ],
      "metadata": {
        "colab": {
          "base_uri": "https://localhost:8080/"
        },
        "id": "E5fV_viiMIJD",
        "outputId": "ee4d0757-7b24-4f4f-9ac3-a0dc7e7aded0"
      },
      "execution_count": null,
      "outputs": [
        {
          "output_type": "execute_result",
          "data": {
            "text/plain": [
              "0    28432\n",
              "1       30\n",
              "Name: Class, dtype: int64"
            ]
          },
          "metadata": {},
          "execution_count": 7
        }
      ]
    },
    {
      "cell_type": "markdown",
      "source": [
        "# Preprocessing"
      ],
      "metadata": {
        "id": "AU3zE34BL3Oi"
      }
    },
    {
      "cell_type": "markdown",
      "source": [
        "## Feature Selection"
      ],
      "metadata": {
        "id": "o4fKPoX5VJJm"
      }
    },
    {
      "cell_type": "code",
      "source": [
        "X_train = train.drop(columns=['ID']) \n",
        "\n",
        "X_val = val.drop(columns=['ID', 'Class']) \n",
        "y_val = val['Class']\n",
        "\n",
        "X_test = test.drop(columns=['ID'])"
      ],
      "metadata": {
        "id": "RIoIVhn6LsQ-"
      },
      "execution_count": null,
      "outputs": []
    },
    {
      "cell_type": "code",
      "source": [
        "X_train = X_train[['V3', 'V4', 'V7', 'V8', 'V9', 'V10', 'V11',\n",
        "                   'V12', 'V14', 'V16', 'V17', 'V18']]\n",
        "\n",
        "X_val = X_val[['V3', 'V4', 'V7', 'V8', 'V9', 'V10', 'V11',\n",
        "               'V12', 'V14', 'V16', 'V17', 'V18']]\n",
        "\n",
        "X_test = X_test[['V3', 'V4', 'V7', 'V8', 'V9', 'V10', 'V11',\n",
        "                 'V12', 'V14', 'V16', 'V17', 'V18']]"
      ],
      "metadata": {
        "id": "-O6WI_4jOUjU"
      },
      "execution_count": null,
      "outputs": []
    },
    {
      "cell_type": "code",
      "source": [
        "len(X_train.columns)"
      ],
      "metadata": {
        "colab": {
          "base_uri": "https://localhost:8080/"
        },
        "id": "Ney8Zsfof8F3",
        "outputId": "ea2d553a-1511-4ea7-cea5-976d94b3e149"
      },
      "execution_count": null,
      "outputs": [
        {
          "output_type": "execute_result",
          "data": {
            "text/plain": [
              "12"
            ]
          },
          "metadata": {},
          "execution_count": 190
        }
      ]
    },
    {
      "cell_type": "markdown",
      "source": [
        "## Scaling"
      ],
      "metadata": {
        "id": "Q6q9xXOhR1Kd"
      }
    },
    {
      "cell_type": "code",
      "source": [
        "#scaler = StandardScaler()\n",
        "#scaler = MinMaxScaler()\n",
        "scaler = RobustScaler(quantile_range=(45.0, 55.0))\n",
        "\n",
        "scaled_train = scaler.fit_transform(X_train)\n",
        "scaled_val = scaler.transform(X_val)\n",
        "scaled_test = scaler.transform(X_test)\n",
        "\n",
        "scaled_train = pd.DataFrame(scaled_train)\n",
        "scaled_val = pd.DataFrame(scaled_val)\n",
        "scaled_test = pd.DataFrame(scaled_test)"
      ],
      "metadata": {
        "id": "iiK1dVoCcjeU"
      },
      "execution_count": null,
      "outputs": []
    },
    {
      "cell_type": "code",
      "source": [
        "#scaler = StandardScaler()\n",
        "scaler = MinMaxScaler()\n",
        "#scaler = RobustScaler(quantile_range=(45.0, 55.0))\n",
        "\n",
        "scaled_train = scaler.fit_transform(scaled_train)\n",
        "scaled_val = scaler.transform(scaled_val)\n",
        "scaled_test = scaler.transform(scaled_test)\n",
        "\n",
        "scaled_train = pd.DataFrame(scaled_train)\n",
        "scaled_val = pd.DataFrame(scaled_val)\n",
        "scaled_test = pd.DataFrame(scaled_test)"
      ],
      "metadata": {
        "id": "WZ9OYFonQdf1"
      },
      "execution_count": null,
      "outputs": []
    },
    {
      "cell_type": "markdown",
      "source": [
        "## 파생 변수"
      ],
      "metadata": {
        "id": "P35An1inVLO4"
      }
    },
    {
      "cell_type": "code",
      "source": [
        "main_columns = list(scaled_train.columns)\n",
        "\n",
        "com_main = list(combinations(main_columns, 3))\n",
        "print(len(com_main))\n",
        "print(com_main)"
      ],
      "metadata": {
        "colab": {
          "base_uri": "https://localhost:8080/"
        },
        "id": "_nfo_9XcSKdm",
        "outputId": "124c4540-03e4-4a81-e21b-0e7ae79d26b7"
      },
      "execution_count": null,
      "outputs": [
        {
          "output_type": "stream",
          "name": "stdout",
          "text": [
            "220\n",
            "[(0, 1, 2), (0, 1, 3), (0, 1, 4), (0, 1, 5), (0, 1, 6), (0, 1, 7), (0, 1, 8), (0, 1, 9), (0, 1, 10), (0, 1, 11), (0, 2, 3), (0, 2, 4), (0, 2, 5), (0, 2, 6), (0, 2, 7), (0, 2, 8), (0, 2, 9), (0, 2, 10), (0, 2, 11), (0, 3, 4), (0, 3, 5), (0, 3, 6), (0, 3, 7), (0, 3, 8), (0, 3, 9), (0, 3, 10), (0, 3, 11), (0, 4, 5), (0, 4, 6), (0, 4, 7), (0, 4, 8), (0, 4, 9), (0, 4, 10), (0, 4, 11), (0, 5, 6), (0, 5, 7), (0, 5, 8), (0, 5, 9), (0, 5, 10), (0, 5, 11), (0, 6, 7), (0, 6, 8), (0, 6, 9), (0, 6, 10), (0, 6, 11), (0, 7, 8), (0, 7, 9), (0, 7, 10), (0, 7, 11), (0, 8, 9), (0, 8, 10), (0, 8, 11), (0, 9, 10), (0, 9, 11), (0, 10, 11), (1, 2, 3), (1, 2, 4), (1, 2, 5), (1, 2, 6), (1, 2, 7), (1, 2, 8), (1, 2, 9), (1, 2, 10), (1, 2, 11), (1, 3, 4), (1, 3, 5), (1, 3, 6), (1, 3, 7), (1, 3, 8), (1, 3, 9), (1, 3, 10), (1, 3, 11), (1, 4, 5), (1, 4, 6), (1, 4, 7), (1, 4, 8), (1, 4, 9), (1, 4, 10), (1, 4, 11), (1, 5, 6), (1, 5, 7), (1, 5, 8), (1, 5, 9), (1, 5, 10), (1, 5, 11), (1, 6, 7), (1, 6, 8), (1, 6, 9), (1, 6, 10), (1, 6, 11), (1, 7, 8), (1, 7, 9), (1, 7, 10), (1, 7, 11), (1, 8, 9), (1, 8, 10), (1, 8, 11), (1, 9, 10), (1, 9, 11), (1, 10, 11), (2, 3, 4), (2, 3, 5), (2, 3, 6), (2, 3, 7), (2, 3, 8), (2, 3, 9), (2, 3, 10), (2, 3, 11), (2, 4, 5), (2, 4, 6), (2, 4, 7), (2, 4, 8), (2, 4, 9), (2, 4, 10), (2, 4, 11), (2, 5, 6), (2, 5, 7), (2, 5, 8), (2, 5, 9), (2, 5, 10), (2, 5, 11), (2, 6, 7), (2, 6, 8), (2, 6, 9), (2, 6, 10), (2, 6, 11), (2, 7, 8), (2, 7, 9), (2, 7, 10), (2, 7, 11), (2, 8, 9), (2, 8, 10), (2, 8, 11), (2, 9, 10), (2, 9, 11), (2, 10, 11), (3, 4, 5), (3, 4, 6), (3, 4, 7), (3, 4, 8), (3, 4, 9), (3, 4, 10), (3, 4, 11), (3, 5, 6), (3, 5, 7), (3, 5, 8), (3, 5, 9), (3, 5, 10), (3, 5, 11), (3, 6, 7), (3, 6, 8), (3, 6, 9), (3, 6, 10), (3, 6, 11), (3, 7, 8), (3, 7, 9), (3, 7, 10), (3, 7, 11), (3, 8, 9), (3, 8, 10), (3, 8, 11), (3, 9, 10), (3, 9, 11), (3, 10, 11), (4, 5, 6), (4, 5, 7), (4, 5, 8), (4, 5, 9), (4, 5, 10), (4, 5, 11), (4, 6, 7), (4, 6, 8), (4, 6, 9), (4, 6, 10), (4, 6, 11), (4, 7, 8), (4, 7, 9), (4, 7, 10), (4, 7, 11), (4, 8, 9), (4, 8, 10), (4, 8, 11), (4, 9, 10), (4, 9, 11), (4, 10, 11), (5, 6, 7), (5, 6, 8), (5, 6, 9), (5, 6, 10), (5, 6, 11), (5, 7, 8), (5, 7, 9), (5, 7, 10), (5, 7, 11), (5, 8, 9), (5, 8, 10), (5, 8, 11), (5, 9, 10), (5, 9, 11), (5, 10, 11), (6, 7, 8), (6, 7, 9), (6, 7, 10), (6, 7, 11), (6, 8, 9), (6, 8, 10), (6, 8, 11), (6, 9, 10), (6, 9, 11), (6, 10, 11), (7, 8, 9), (7, 8, 10), (7, 8, 11), (7, 9, 10), (7, 9, 11), (7, 10, 11), (8, 9, 10), (8, 9, 11), (8, 10, 11), (9, 10, 11)]\n"
          ]
        }
      ]
    },
    {
      "cell_type": "code",
      "source": [
        "for com in com_main:\n",
        "\n",
        "  x = com[0]\n",
        "  y = com[1]\n",
        "  z = com[-1]\n",
        "\n",
        "  scaled_train[f'{x}_{y}_{z}_mean'] = (scaled_train[x] + scaled_train[y] + scaled_train[z]) / 3\n",
        "  scaled_val[f'{x}_{y}_{z}_mean'] = (scaled_val[x] + scaled_val[y] + scaled_val[z]) / 3\n",
        "  scaled_test[f'{x}_{y}_{z}_mean'] = (scaled_test[x] + scaled_test[y] + scaled_test[z]) / 3"
      ],
      "metadata": {
        "id": "mPBv729ISivs"
      },
      "execution_count": null,
      "outputs": []
    },
    {
      "cell_type": "code",
      "source": [
        "print(len(scaled_train.columns))\n",
        "n_components = len(scaled_train.columns)"
      ],
      "metadata": {
        "colab": {
          "base_uri": "https://localhost:8080/"
        },
        "id": "eaj3ZD03S_-6",
        "outputId": "13564011-0026-4fef-b87f-be90c4017af6"
      },
      "execution_count": null,
      "outputs": [
        {
          "output_type": "stream",
          "name": "stdout",
          "text": [
            "232\n"
          ]
        }
      ]
    },
    {
      "cell_type": "markdown",
      "source": [
        "## Dimension Reduction"
      ],
      "metadata": {
        "id": "vEDmeDxHSJsF"
      }
    },
    {
      "cell_type": "code",
      "source": [
        "pca = PCA()\n",
        "pca.fit(scaled_train)\n",
        "cumsum = np.cumsum(pca.explained_variance_ratio_)\n",
        "N_COMPONETS = np.argmax(cumsum>=0.999) + 1\n",
        "print(N_COMPONETS)"
      ],
      "metadata": {
        "colab": {
          "base_uri": "https://localhost:8080/"
        },
        "id": "Ozr7dgJDXBD9",
        "outputId": "494c0a27-8703-4ec5-bfcb-4d3724212620"
      },
      "execution_count": null,
      "outputs": [
        {
          "output_type": "stream",
          "name": "stdout",
          "text": [
            "12\n"
          ]
        }
      ]
    },
    {
      "cell_type": "code",
      "source": [
        "dimesion_reducer = PCA(n_components=N_COMPONETS)\n",
        "#dimesion_reducer = SparsePCA(n_components=78, alpha=0.01)\n",
        "#dimesion_reducer = SparseRandomProjection(n_components=15, eps=0.5, random_state=42)\n",
        "\n",
        "\n",
        "reduced_train = dimesion_reducer.fit_transform(scaled_train)\n",
        "reduced_val = dimesion_reducer.transform(scaled_val)\n",
        "reduced_test = dimesion_reducer.transform(scaled_test)\n",
        "\n",
        "reduced_train = pd.DataFrame(reduced_train)\n",
        "reduced_val = pd.DataFrame(reduced_val)\n",
        "reduced_test = pd.DataFrame(reduced_test)"
      ],
      "metadata": {
        "id": "0XOicbmGSWAB"
      },
      "execution_count": null,
      "outputs": []
    },
    {
      "cell_type": "markdown",
      "source": [
        "# Modeling"
      ],
      "metadata": {
        "id": "r2sOyy-yL_5h"
      }
    },
    {
      "cell_type": "code",
      "source": [
        "model = EllipticEnvelope(support_fraction=0.999,\n",
        "                         contamination=30/28432,\n",
        "                         random_state=42) "
      ],
      "metadata": {
        "id": "iUN1rYB9cyAE"
      },
      "execution_count": null,
      "outputs": []
    },
    {
      "cell_type": "code",
      "source": [
        "model.fit(reduced_train)"
      ],
      "metadata": {
        "colab": {
          "base_uri": "https://localhost:8080/"
        },
        "id": "V6cMnewF3HEk",
        "outputId": "8be143a1-3841-4d3f-be67-4be4eac0f00b"
      },
      "execution_count": null,
      "outputs": [
        {
          "output_type": "execute_result",
          "data": {
            "text/plain": [
              "EllipticEnvelope(contamination=0.0010551491277433877, random_state=42,\n",
              "                 support_fraction=0.999)"
            ]
          },
          "metadata": {},
          "execution_count": 255
        }
      ]
    },
    {
      "cell_type": "markdown",
      "source": [
        "# Evaluation"
      ],
      "metadata": {
        "id": "ciepK-yCMUoM"
      }
    },
    {
      "cell_type": "code",
      "source": [
        "def get_pred_label(model_pred):\n",
        "    # IsolationForest 모델 출력 (1:정상, -1:불량(사기)) 이므로 (0:정상, 1:불량(사기))로 Label 변환\n",
        "    model_pred = np.where(model_pred == 1, 0, model_pred)\n",
        "    model_pred = np.where(model_pred == -1, 1, model_pred)\n",
        "    return model_pred"
      ],
      "metadata": {
        "id": "iRAt4uV5MSbp"
      },
      "execution_count": null,
      "outputs": []
    },
    {
      "cell_type": "code",
      "source": [
        "pred_val = model.predict(reduced_val) # model prediction\n",
        "pred_val = get_pred_label(pred_val)"
      ],
      "metadata": {
        "id": "fdOlHmTeMXXc"
      },
      "execution_count": null,
      "outputs": []
    },
    {
      "cell_type": "code",
      "source": [
        "val_score = f1_score(y_val, pred_val, average='macro')"
      ],
      "metadata": {
        "id": "01A06pL1MuY6"
      },
      "execution_count": null,
      "outputs": []
    },
    {
      "cell_type": "code",
      "source": [
        "# 0.8271056766827749\n",
        "print(f'Validation F1 Score : [{val_score}]')\n",
        "print(classification_report(y_val, pred_val))"
      ],
      "metadata": {
        "colab": {
          "base_uri": "https://localhost:8080/"
        },
        "id": "vWgOeD0YM1F7",
        "outputId": "74bb26ec-63d8-4017-96ac-617d94db0e72"
      },
      "execution_count": null,
      "outputs": [
        {
          "output_type": "stream",
          "name": "stdout",
          "text": [
            "Validation F1 Score : [0.8271056766827749]\n",
            "              precision    recall  f1-score   support\n",
            "\n",
            "           0       1.00      1.00      1.00     28432\n",
            "           1       0.72      0.60      0.65        30\n",
            "\n",
            "    accuracy                           1.00     28462\n",
            "   macro avg       0.86      0.80      0.83     28462\n",
            "weighted avg       1.00      1.00      1.00     28462\n",
            "\n"
          ]
        }
      ]
    },
    {
      "cell_type": "markdown",
      "source": [
        "# Inference"
      ],
      "metadata": {
        "id": "o8x0ffGaNHcD"
      }
    },
    {
      "cell_type": "code",
      "source": [
        "pred_test = model.predict(reduced_test) # model prediction\n",
        "pred_test = get_pred_label(pred_test)"
      ],
      "metadata": {
        "id": "PidDPs2JNbs7"
      },
      "execution_count": null,
      "outputs": []
    },
    {
      "cell_type": "markdown",
      "source": [
        "# Submission"
      ],
      "metadata": {
        "id": "aCscOd_xM_ka"
      }
    },
    {
      "cell_type": "code",
      "source": [
        "submit = pd.read_csv('./sample_submission.csv')"
      ],
      "metadata": {
        "id": "w3FfeD1xM68L"
      },
      "execution_count": null,
      "outputs": []
    },
    {
      "cell_type": "code",
      "source": [
        "submit['Class'] = pred_test\n",
        "submit.head()"
      ],
      "metadata": {
        "colab": {
          "base_uri": "https://localhost:8080/",
          "height": 206
        },
        "id": "XkUjToiZNB23",
        "outputId": "44c0029e-5e55-4cfb-b0de-e5e47017b29a"
      },
      "execution_count": null,
      "outputs": [
        {
          "output_type": "execute_result",
          "data": {
            "text/plain": [
              "        ID  Class\n",
              "0  AAAA0x1      0\n",
              "1  AAAA0x2      0\n",
              "2  AAAA0x5      0\n",
              "3  AAAA0x7      0\n",
              "4  AAAA0xc      0"
            ],
            "text/html": [
              "\n",
              "  <div id=\"df-edf2fa33-1b15-48d3-ada8-4873fb7cde61\">\n",
              "    <div class=\"colab-df-container\">\n",
              "      <div>\n",
              "<style scoped>\n",
              "    .dataframe tbody tr th:only-of-type {\n",
              "        vertical-align: middle;\n",
              "    }\n",
              "\n",
              "    .dataframe tbody tr th {\n",
              "        vertical-align: top;\n",
              "    }\n",
              "\n",
              "    .dataframe thead th {\n",
              "        text-align: right;\n",
              "    }\n",
              "</style>\n",
              "<table border=\"1\" class=\"dataframe\">\n",
              "  <thead>\n",
              "    <tr style=\"text-align: right;\">\n",
              "      <th></th>\n",
              "      <th>ID</th>\n",
              "      <th>Class</th>\n",
              "    </tr>\n",
              "  </thead>\n",
              "  <tbody>\n",
              "    <tr>\n",
              "      <th>0</th>\n",
              "      <td>AAAA0x1</td>\n",
              "      <td>0</td>\n",
              "    </tr>\n",
              "    <tr>\n",
              "      <th>1</th>\n",
              "      <td>AAAA0x2</td>\n",
              "      <td>0</td>\n",
              "    </tr>\n",
              "    <tr>\n",
              "      <th>2</th>\n",
              "      <td>AAAA0x5</td>\n",
              "      <td>0</td>\n",
              "    </tr>\n",
              "    <tr>\n",
              "      <th>3</th>\n",
              "      <td>AAAA0x7</td>\n",
              "      <td>0</td>\n",
              "    </tr>\n",
              "    <tr>\n",
              "      <th>4</th>\n",
              "      <td>AAAA0xc</td>\n",
              "      <td>0</td>\n",
              "    </tr>\n",
              "  </tbody>\n",
              "</table>\n",
              "</div>\n",
              "      <button class=\"colab-df-convert\" onclick=\"convertToInteractive('df-edf2fa33-1b15-48d3-ada8-4873fb7cde61')\"\n",
              "              title=\"Convert this dataframe to an interactive table.\"\n",
              "              style=\"display:none;\">\n",
              "        \n",
              "  <svg xmlns=\"http://www.w3.org/2000/svg\" height=\"24px\"viewBox=\"0 0 24 24\"\n",
              "       width=\"24px\">\n",
              "    <path d=\"M0 0h24v24H0V0z\" fill=\"none\"/>\n",
              "    <path d=\"M18.56 5.44l.94 2.06.94-2.06 2.06-.94-2.06-.94-.94-2.06-.94 2.06-2.06.94zm-11 1L8.5 8.5l.94-2.06 2.06-.94-2.06-.94L8.5 2.5l-.94 2.06-2.06.94zm10 10l.94 2.06.94-2.06 2.06-.94-2.06-.94-.94-2.06-.94 2.06-2.06.94z\"/><path d=\"M17.41 7.96l-1.37-1.37c-.4-.4-.92-.59-1.43-.59-.52 0-1.04.2-1.43.59L10.3 9.45l-7.72 7.72c-.78.78-.78 2.05 0 2.83L4 21.41c.39.39.9.59 1.41.59.51 0 1.02-.2 1.41-.59l7.78-7.78 2.81-2.81c.8-.78.8-2.07 0-2.86zM5.41 20L4 18.59l7.72-7.72 1.47 1.35L5.41 20z\"/>\n",
              "  </svg>\n",
              "      </button>\n",
              "      \n",
              "  <style>\n",
              "    .colab-df-container {\n",
              "      display:flex;\n",
              "      flex-wrap:wrap;\n",
              "      gap: 12px;\n",
              "    }\n",
              "\n",
              "    .colab-df-convert {\n",
              "      background-color: #E8F0FE;\n",
              "      border: none;\n",
              "      border-radius: 50%;\n",
              "      cursor: pointer;\n",
              "      display: none;\n",
              "      fill: #1967D2;\n",
              "      height: 32px;\n",
              "      padding: 0 0 0 0;\n",
              "      width: 32px;\n",
              "    }\n",
              "\n",
              "    .colab-df-convert:hover {\n",
              "      background-color: #E2EBFA;\n",
              "      box-shadow: 0px 1px 2px rgba(60, 64, 67, 0.3), 0px 1px 3px 1px rgba(60, 64, 67, 0.15);\n",
              "      fill: #174EA6;\n",
              "    }\n",
              "\n",
              "    [theme=dark] .colab-df-convert {\n",
              "      background-color: #3B4455;\n",
              "      fill: #D2E3FC;\n",
              "    }\n",
              "\n",
              "    [theme=dark] .colab-df-convert:hover {\n",
              "      background-color: #434B5C;\n",
              "      box-shadow: 0px 1px 3px 1px rgba(0, 0, 0, 0.15);\n",
              "      filter: drop-shadow(0px 1px 2px rgba(0, 0, 0, 0.3));\n",
              "      fill: #FFFFFF;\n",
              "    }\n",
              "  </style>\n",
              "\n",
              "      <script>\n",
              "        const buttonEl =\n",
              "          document.querySelector('#df-edf2fa33-1b15-48d3-ada8-4873fb7cde61 button.colab-df-convert');\n",
              "        buttonEl.style.display =\n",
              "          google.colab.kernel.accessAllowed ? 'block' : 'none';\n",
              "\n",
              "        async function convertToInteractive(key) {\n",
              "          const element = document.querySelector('#df-edf2fa33-1b15-48d3-ada8-4873fb7cde61');\n",
              "          const dataTable =\n",
              "            await google.colab.kernel.invokeFunction('convertToInteractive',\n",
              "                                                     [key], {});\n",
              "          if (!dataTable) return;\n",
              "\n",
              "          const docLinkHtml = 'Like what you see? Visit the ' +\n",
              "            '<a target=\"_blank\" href=https://colab.research.google.com/notebooks/data_table.ipynb>data table notebook</a>'\n",
              "            + ' to learn more about interactive tables.';\n",
              "          element.innerHTML = '';\n",
              "          dataTable['output_type'] = 'display_data';\n",
              "          await google.colab.output.renderOutput(dataTable, element);\n",
              "          const docLink = document.createElement('div');\n",
              "          docLink.innerHTML = docLinkHtml;\n",
              "          element.appendChild(docLink);\n",
              "        }\n",
              "      </script>\n",
              "    </div>\n",
              "  </div>\n",
              "  "
            ]
          },
          "metadata": {},
          "execution_count": 210
        }
      ]
    },
    {
      "cell_type": "code",
      "source": [
        "submit.to_csv('./submission_3.csv', index=False)"
      ],
      "metadata": {
        "id": "fyEkwDUUNhj9"
      },
      "execution_count": null,
      "outputs": []
    }
  ]
}