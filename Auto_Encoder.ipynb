{
  "cells": [
    {
      "cell_type": "markdown",
      "metadata": {
        "id": "JdAtq5mbLJ6T"
      },
      "source": [
        "# Setting"
      ]
    },
    {
      "cell_type": "markdown",
      "metadata": {
        "id": "YtI0_CtGSOZo"
      },
      "source": [
        "## Install"
      ]
    },
    {
      "cell_type": "code",
      "execution_count": 1,
      "metadata": {
        "colab": {
          "base_uri": "https://localhost:8080/"
        },
        "id": "_0pF4HIiSPak",
        "outputId": "57baf571-4469-481c-9298-a1f2ec051153"
      },
      "outputs": [
        {
          "output_type": "stream",
          "name": "stdout",
          "text": [
            "Looking in indexes: https://pypi.org/simple, https://us-python.pkg.dev/colab-wheels/public/simple/\n",
            "Collecting transformers\n",
            "  Downloading transformers-4.26.1-py3-none-any.whl (6.3 MB)\n",
            "\u001b[2K     \u001b[90m━━━━━━━━━━━━━━━━━━━━━━━━━━━━━━━━━━━━━━━━\u001b[0m \u001b[32m6.3/6.3 MB\u001b[0m \u001b[31m58.6 MB/s\u001b[0m eta \u001b[36m0:00:00\u001b[0m\n",
            "\u001b[?25hRequirement already satisfied: requests in /usr/local/lib/python3.8/dist-packages (from transformers) (2.25.1)\n",
            "Requirement already satisfied: numpy>=1.17 in /usr/local/lib/python3.8/dist-packages (from transformers) (1.21.6)\n",
            "Requirement already satisfied: packaging>=20.0 in /usr/local/lib/python3.8/dist-packages (from transformers) (23.0)\n",
            "Collecting huggingface-hub<1.0,>=0.11.0\n",
            "  Downloading huggingface_hub-0.12.0-py3-none-any.whl (190 kB)\n",
            "\u001b[2K     \u001b[90m━━━━━━━━━━━━━━━━━━━━━━━━━━━━━━━━━━━━━━\u001b[0m \u001b[32m190.3/190.3 KB\u001b[0m \u001b[31m12.2 MB/s\u001b[0m eta \u001b[36m0:00:00\u001b[0m\n",
            "\u001b[?25hCollecting tokenizers!=0.11.3,<0.14,>=0.11.1\n",
            "  Downloading tokenizers-0.13.2-cp38-cp38-manylinux_2_17_x86_64.manylinux2014_x86_64.whl (7.6 MB)\n",
            "\u001b[2K     \u001b[90m━━━━━━━━━━━━━━━━━━━━━━━━━━━━━━━━━━━━━━━━\u001b[0m \u001b[32m7.6/7.6 MB\u001b[0m \u001b[31m77.6 MB/s\u001b[0m eta \u001b[36m0:00:00\u001b[0m\n",
            "\u001b[?25hRequirement already satisfied: filelock in /usr/local/lib/python3.8/dist-packages (from transformers) (3.9.0)\n",
            "Requirement already satisfied: regex!=2019.12.17 in /usr/local/lib/python3.8/dist-packages (from transformers) (2022.6.2)\n",
            "Requirement already satisfied: tqdm>=4.27 in /usr/local/lib/python3.8/dist-packages (from transformers) (4.64.1)\n",
            "Requirement already satisfied: pyyaml>=5.1 in /usr/local/lib/python3.8/dist-packages (from transformers) (6.0)\n",
            "Requirement already satisfied: typing-extensions>=3.7.4.3 in /usr/local/lib/python3.8/dist-packages (from huggingface-hub<1.0,>=0.11.0->transformers) (4.4.0)\n",
            "Requirement already satisfied: urllib3<1.27,>=1.21.1 in /usr/local/lib/python3.8/dist-packages (from requests->transformers) (1.24.3)\n",
            "Requirement already satisfied: certifi>=2017.4.17 in /usr/local/lib/python3.8/dist-packages (from requests->transformers) (2022.12.7)\n",
            "Requirement already satisfied: idna<3,>=2.5 in /usr/local/lib/python3.8/dist-packages (from requests->transformers) (2.10)\n",
            "Requirement already satisfied: chardet<5,>=3.0.2 in /usr/local/lib/python3.8/dist-packages (from requests->transformers) (4.0.0)\n",
            "Installing collected packages: tokenizers, huggingface-hub, transformers\n",
            "Successfully installed huggingface-hub-0.12.0 tokenizers-0.13.2 transformers-4.26.1\n"
          ]
        }
      ],
      "source": [
        "!pip install transformers"
      ]
    },
    {
      "cell_type": "markdown",
      "metadata": {
        "id": "LpzRbxF8LLF1"
      },
      "source": [
        "## Library"
      ]
    },
    {
      "cell_type": "code",
      "execution_count": 174,
      "metadata": {
        "id": "4lA5ZR29K-Ec"
      },
      "outputs": [],
      "source": [
        "# 데이터 다루기\n",
        "import pandas as pd\n",
        "import numpy as np\n",
        "from itertools import combinations\n",
        "\n",
        "# 전처리\n",
        "from sklearn.preprocessing import StandardScaler, MinMaxScaler, RobustScaler\n",
        "from sklearn.decomposition import PCA, KernelPCA, SparsePCA, TruncatedSVD, IncrementalPCA\n",
        "from sklearn.cluster import KMeans\n",
        "from sklearn.random_projection import GaussianRandomProjection, SparseRandomProjection\n",
        "\n",
        "# 모델링\n",
        "from sklearn.ensemble import IsolationForest\n",
        "from sklearn.neighbors import LocalOutlierFactor\n",
        "from sklearn.covariance import EllipticEnvelope\n",
        "\n",
        "from sklearn.metrics import f1_score\n",
        "from sklearn.metrics import recall_score # 재현율\n",
        "from sklearn.metrics import precision_score # 정밀도\n",
        "from sklearn.metrics import classification_report\n",
        "\n",
        "# 기타\n",
        "import os\n",
        "import random\n",
        "from tqdm.auto import tqdm\n",
        "import math"
      ]
    },
    {
      "cell_type": "code",
      "source": [
        "import torch\n",
        "import torch.nn as nn\n",
        "import torch.optim as optim\n",
        "import torch.nn.functional as F\n",
        "from torch.utils.data import Dataset, DataLoader\n",
        "from torch.optim.lr_scheduler import ReduceLROnPlateau\n",
        "from torch.optim import Optimizer, AdamW\n",
        "from torch.optim.lr_scheduler import LambdaLR, CyclicLR, OneCycleLR"
      ],
      "metadata": {
        "id": "xfAo7XX9u8NX"
      },
      "execution_count": 3,
      "outputs": []
    },
    {
      "cell_type": "code",
      "execution_count": 4,
      "metadata": {
        "id": "t5Jlc229LOB6"
      },
      "outputs": [],
      "source": [
        "import warnings\n",
        "warnings.filterwarnings(action='ignore')"
      ]
    },
    {
      "cell_type": "code",
      "source": [
        "device = torch.device('cuda:0' if torch.cuda.is_available else 'cpu')"
      ],
      "metadata": {
        "id": "H0YzUrXju-31"
      },
      "execution_count": 5,
      "outputs": []
    },
    {
      "cell_type": "markdown",
      "metadata": {
        "id": "RAlVaaC_LS1M"
      },
      "source": [
        "## Fixed Random Seed"
      ]
    },
    {
      "cell_type": "code",
      "execution_count": 6,
      "metadata": {
        "id": "S0bKBShiLREc"
      },
      "outputs": [],
      "source": [
        "def seed_everything(seed):\n",
        "    random.seed(seed)\n",
        "    os.environ['PYTHONHASHSEED'] = str(seed)\n",
        "    np.random.seed(seed)\n",
        "    torch.manual_seed(seed)\n",
        "    torch.cuda.manual_seed(seed)\n",
        "    torch.backends.cudnn.deterministic = True\n",
        "    torch.backends.cudnn.benchmark = True\n",
        "\n",
        "seed_everything(42) # Seed 고정"
      ]
    },
    {
      "cell_type": "markdown",
      "metadata": {
        "id": "pzNq6q70LY34"
      },
      "source": [
        "# Load Data Set"
      ]
    },
    {
      "cell_type": "markdown",
      "metadata": {
        "id": "aP8Z0AMzLbCl"
      },
      "source": [
        "## Googel Drive Mount"
      ]
    },
    {
      "cell_type": "code",
      "execution_count": 7,
      "metadata": {
        "colab": {
          "base_uri": "https://localhost:8080/"
        },
        "id": "dTDPQ6ipLYMN",
        "outputId": "099e7ecd-1b46-4237-8ebd-af6261d4e683"
      },
      "outputs": [
        {
          "output_type": "stream",
          "name": "stdout",
          "text": [
            "Mounted at /content/drive\n"
          ]
        }
      ],
      "source": [
        "from google.colab import drive\n",
        "drive.mount('/content/drive')"
      ]
    },
    {
      "cell_type": "markdown",
      "metadata": {
        "id": "tMfGxw7WLlFM"
      },
      "source": [
        "## Unzip File"
      ]
    },
    {
      "cell_type": "code",
      "execution_count": 8,
      "metadata": {
        "id": "CH2iRFNbLdcd"
      },
      "outputs": [],
      "source": [
        "!unzip --qq '/content/drive/MyDrive/머신러닝 엔지니어링/데이콘/사기거래/data/사기거래.zip'"
      ]
    },
    {
      "cell_type": "markdown",
      "metadata": {
        "id": "jcIJmupMLpBu"
      },
      "source": [
        "## Load Train / Val / Test Set"
      ]
    },
    {
      "cell_type": "code",
      "execution_count": 153,
      "metadata": {
        "id": "oNdbFSuoLoiJ"
      },
      "outputs": [],
      "source": [
        "train = pd.read_csv('/content/train.csv')\n",
        "val = pd.read_csv('/content/val.csv')\n",
        "test = pd.read_csv('/content/test.csv')"
      ]
    },
    {
      "cell_type": "markdown",
      "metadata": {
        "id": "AU3zE34BL3Oi"
      },
      "source": [
        "# Preprocessing"
      ]
    },
    {
      "cell_type": "markdown",
      "metadata": {
        "id": "o4fKPoX5VJJm"
      },
      "source": [
        "## Feature Selection"
      ]
    },
    {
      "cell_type": "code",
      "execution_count": 159,
      "metadata": {
        "id": "RIoIVhn6LsQ-"
      },
      "outputs": [],
      "source": [
        "X_train = train.drop(columns=['ID']) \n",
        "\n",
        "X_val = val.drop(columns=['ID', 'Class']) \n",
        "y_val = val['Class']\n",
        "\n",
        "X_test = test.drop(columns=['ID'])"
      ]
    },
    {
      "cell_type": "code",
      "execution_count": 160,
      "metadata": {
        "id": "-O6WI_4jOUjU"
      },
      "outputs": [],
      "source": [
        "X_train = X_train[['V3', 'V4', 'V9', 'V10', 'V11',\n",
        "                   'V12', 'V14', 'V16', 'V17', 'V18']]\n",
        "\n",
        "X_val = X_val[['V3', 'V4', 'V9', 'V10', 'V11',\n",
        "               'V12', 'V14', 'V16', 'V17', 'V18']]\n",
        "\n",
        "X_test = X_test[['V3', 'V4', 'V9', 'V10', 'V11',\n",
        "                 'V12', 'V14', 'V16', 'V17', 'V18']]"
      ]
    },
    {
      "cell_type": "code",
      "execution_count": 161,
      "metadata": {
        "id": "Ney8Zsfof8F3",
        "colab": {
          "base_uri": "https://localhost:8080/"
        },
        "outputId": "e97262a0-fa46-443e-a00e-439d0f104782"
      },
      "outputs": [
        {
          "output_type": "execute_result",
          "data": {
            "text/plain": [
              "10"
            ]
          },
          "metadata": {},
          "execution_count": 161
        }
      ],
      "source": [
        "len(X_train.columns)"
      ]
    },
    {
      "cell_type": "markdown",
      "metadata": {
        "id": "Q6q9xXOhR1Kd"
      },
      "source": [
        "## Scaling"
      ]
    },
    {
      "cell_type": "code",
      "execution_count": 162,
      "metadata": {
        "id": "iiK1dVoCcjeU"
      },
      "outputs": [],
      "source": [
        "#scaler = StandardScaler()\n",
        "#scaler = MinMaxScaler()\n",
        "scaler = RobustScaler(quantile_range=(45.0, 55.0))\n",
        "\n",
        "scaled_train = scaler.fit_transform(X_train)\n",
        "scaled_val = scaler.transform(X_val)\n",
        "scaled_test = scaler.transform(X_test)\n",
        "\n",
        "scaled_train = pd.DataFrame(scaled_train)\n",
        "scaled_val = pd.DataFrame(scaled_val)\n",
        "scaled_test = pd.DataFrame(scaled_test)"
      ]
    },
    {
      "cell_type": "code",
      "execution_count": 163,
      "metadata": {
        "id": "WZ9OYFonQdf1"
      },
      "outputs": [],
      "source": [
        "#scaler = StandardScaler()\n",
        "scaler = MinMaxScaler()\n",
        "#scaler = RobustScaler(quantile_range=(45.0, 55.0))\n",
        "\n",
        "scaled_train = scaler.fit_transform(scaled_train)\n",
        "scaled_val = scaler.transform(scaled_val)\n",
        "scaled_test = scaler.transform(scaled_test)\n",
        "\n",
        "scaled_train = pd.DataFrame(scaled_train)\n",
        "scaled_val = pd.DataFrame(scaled_val)\n",
        "scaled_test = pd.DataFrame(scaled_test)"
      ]
    },
    {
      "cell_type": "markdown",
      "metadata": {
        "id": "P35An1inVLO4"
      },
      "source": [
        "## 파생 변수"
      ]
    },
    {
      "cell_type": "code",
      "execution_count": 164,
      "metadata": {
        "id": "_nfo_9XcSKdm",
        "colab": {
          "base_uri": "https://localhost:8080/"
        },
        "outputId": "7c3af59a-73d7-4187-f3f1-d63757ad5f67"
      },
      "outputs": [
        {
          "output_type": "stream",
          "name": "stdout",
          "text": [
            "252\n"
          ]
        }
      ],
      "source": [
        "main_columns = list(scaled_train.columns)\n",
        "\n",
        "com_main = list(combinations(main_columns, 5))\n",
        "print(len(com_main))"
      ]
    },
    {
      "cell_type": "code",
      "execution_count": 165,
      "metadata": {
        "id": "mPBv729ISivs"
      },
      "outputs": [],
      "source": [
        "for com in com_main:\n",
        "\n",
        "  x = com[0]\n",
        "  y = com[1]\n",
        "  z = com[2]\n",
        "  w = com[3]\n",
        "  v = com[-1]\n",
        "\n",
        "  scaled_train[f'{x}_{y}_{z}_{w}_{v}_mean'] = (scaled_train[x] + scaled_train[y] + scaled_train[z] + scaled_train[w] + scaled_train[v]) / 5\n",
        "  scaled_val[f'{x}_{y}_{z}_{w}_{v}_mean'] = (scaled_val[x] + scaled_val[y] + scaled_val[z] + scaled_val[w] + scaled_val[v]) / 5\n",
        "  scaled_test[f'{x}_{y}_{z}_{w}_{v}_mean'] = (scaled_test[x] + scaled_test[y] + scaled_test[z] + scaled_test[w] + scaled_test[v]) / 5"
      ]
    },
    {
      "cell_type": "code",
      "execution_count": 166,
      "metadata": {
        "id": "eaj3ZD03S_-6",
        "colab": {
          "base_uri": "https://localhost:8080/"
        },
        "outputId": "a5f51130-c638-4d15-d460-6617ffb00e49"
      },
      "outputs": [
        {
          "output_type": "stream",
          "name": "stdout",
          "text": [
            "262\n"
          ]
        }
      ],
      "source": [
        "print(len(scaled_train.columns))\n",
        "n_components = len(scaled_train.columns)"
      ]
    },
    {
      "cell_type": "markdown",
      "metadata": {
        "id": "BEXZrrxt0LTG"
      },
      "source": [
        "## Dimension Reduction"
      ]
    },
    {
      "cell_type": "code",
      "execution_count": 167,
      "metadata": {
        "id": "5lCbgG610Oer"
      },
      "outputs": [],
      "source": [
        "#dimesion_reducer = PCA(n_components=N_COMPONETS)\n",
        "#dimesion_reducer = SparsePCA(n_components=78, alpha=0.01)\n",
        "dimesion_reducer = SparseRandomProjection(n_components=262, eps=0.1, random_state=42)\n",
        "\n",
        "\n",
        "reduced_train = dimesion_reducer.fit_transform(scaled_train)\n",
        "reduced_val = dimesion_reducer.transform(scaled_val)\n",
        "reduced_test = dimesion_reducer.transform(scaled_test)\n",
        "\n",
        "reduced_train = pd.DataFrame(reduced_train)\n",
        "reduced_val = pd.DataFrame(reduced_val)\n",
        "reduced_test = pd.DataFrame(reduced_test)"
      ]
    },
    {
      "cell_type": "code",
      "source": [
        "reduced_train = reduced_train.sample(frac=0.9, random_state=42)\n",
        "reduced_val = reduced_val.sample(frac=0.9, random_state=42)"
      ],
      "metadata": {
        "id": "KveX68y3fRxw"
      },
      "execution_count": 168,
      "outputs": []
    },
    {
      "cell_type": "markdown",
      "source": [
        "# Make Data Set for Pytorch"
      ],
      "metadata": {
        "id": "zC6to7iKvGMG"
      }
    },
    {
      "cell_type": "code",
      "source": [
        "class MyDataset(Dataset):\n",
        "    def __init__(self, df, eval_mode):\n",
        "        self.df = df\n",
        "        self.eval_mode = eval_mode\n",
        "        if self.eval_mode:\n",
        "            self.labels = self.df['Class'].values\n",
        "            self.df = self.df.drop(columns=['Class']).values\n",
        "        else:\n",
        "            self.df = self.df.values\n",
        "        \n",
        "    def __getitem__(self, index):\n",
        "        if self.eval_mode:\n",
        "            x = torch.from_numpy(self.df[index]).type(torch.FloatTensor)\n",
        "            y = torch.FloatTensor([self.labels[index]])\n",
        "            return x, y\n",
        "            #self.x = self.df[index]\n",
        "            #self.y = self.labels[index]\n",
        "            #return torch.Tensor(self.x), self.y\n",
        "        else:\n",
        "            self.x = self.df[index]\n",
        "            return torch.Tensor(self.x)\n",
        "        \n",
        "    def __len__(self):\n",
        "        return len(self.df)"
      ],
      "metadata": {
        "id": "v4zURdOHvI_3"
      },
      "execution_count": 169,
      "outputs": []
    },
    {
      "cell_type": "code",
      "source": [
        "train_dataset = MyDataset(df=reduced_train, eval_mode=False)\n",
        "train_loader = DataLoader(train_dataset, batch_size=2**13, shuffle=True, num_workers=6)\n",
        "\n",
        "reduced_val=pd.concat([reduced_val, val[['Class']]], axis=1)\n",
        "val_dataset = MyDataset(df = reduced_val, eval_mode=True)\n",
        "val_loader = DataLoader(val_dataset, batch_size=2**13, shuffle=False, num_workers=6)"
      ],
      "metadata": {
        "id": "0UtKC_A2vLN-"
      },
      "execution_count": 170,
      "outputs": []
    },
    {
      "cell_type": "markdown",
      "metadata": {
        "id": "r2sOyy-yL_5h"
      },
      "source": [
        "# Modeling"
      ]
    },
    {
      "cell_type": "markdown",
      "source": [
        "## 모델 및 학습 정의"
      ],
      "metadata": {
        "id": "X-6nLWp2i5OF"
      }
    },
    {
      "cell_type": "code",
      "source": [
        "class AutoEncoder(nn.Module):\n",
        "    def __init__(self):\n",
        "        super(AutoEncoder, self).__init__()\n",
        "        self.Encoder = nn.Sequential(\n",
        "            nn.Linear(262,512),\n",
        "            nn.BatchNorm1d(512),\n",
        "            nn.LeakyReLU(),\n",
        "            nn.Linear(512,1024),\n",
        "            nn.BatchNorm1d(1024),\n",
        "            nn.LeakyReLU(),\n",
        "            nn.Linear(1024,2048),\n",
        "            nn.BatchNorm1d(2048),\n",
        "            nn.LeakyReLU(),\n",
        "            nn.Linear(2048,4096),\n",
        "            nn.BatchNorm1d(4096),\n",
        "            nn.LeakyReLU()\n",
        "        )\n",
        "        self.Decoder = nn.Sequential(\n",
        "            nn.Linear(4096,2048),\n",
        "            nn.BatchNorm1d(2048),\n",
        "            nn.LeakyReLU(),\n",
        "            nn.Linear(2048,1024),\n",
        "            nn.BatchNorm1d(1024),\n",
        "            nn.LeakyReLU(),\n",
        "            nn.Linear(1024,512),\n",
        "            nn.BatchNorm1d(512),\n",
        "            nn.LeakyReLU(),\n",
        "            nn.Linear(512,262),\n",
        "        )\n",
        "        \n",
        "    def forward(self, x):\n",
        "        x = self.Encoder(x)\n",
        "        x = self.Decoder(x)\n",
        "        return x"
      ],
      "metadata": {
        "id": "WrBrcYwDvVtt"
      },
      "execution_count": 171,
      "outputs": []
    },
    {
      "cell_type": "code",
      "source": [
        "class Trainer():\n",
        "    def __init__(self, model, optimizer, train_loader, val_loader, scheduler, device):\n",
        "        self.model = model\n",
        "        self.optimizer = optimizer\n",
        "        self.train_loader = train_loader\n",
        "        self.val_loader = val_loader\n",
        "        self.scheduler = scheduler\n",
        "        self.device = device\n",
        "        # Loss Function\n",
        "        self.criterion = nn.L1Loss().to(self.device)\n",
        "        \n",
        "    def fit(self):\n",
        "        self.model.to(self.device)\n",
        "        best_score = 0\n",
        "        avg = 1\n",
        "        for epoch in range(50):\n",
        "            self.model.train()\n",
        "            train_loss = []\n",
        "            for x in iter(self.train_loader):\n",
        "                x = x.float().to(self.device)\n",
        "                self.optimizer.zero_grad()\n",
        "\n",
        "                _x = self.model(x)\n",
        "                loss = self.criterion(x, _x)\n",
        "\n",
        "                loss.backward()\n",
        "                self.optimizer.step()\n",
        "\n",
        "                train_loss.append(loss.item())\n",
        "\n",
        "            score = self.validation(self.model, 0.95)\n",
        "            print(f'Epoch : [{epoch}] Train loss : [{np.mean(train_loss)}] Val Score : [{score}])')\n",
        "\n",
        "            if self.scheduler is not None:\n",
        "                self.scheduler.step(score)\n",
        "\n",
        "            if best_score <= score and avg > np.mean(train_loss):\n",
        "                best_score = score\n",
        "                avg = np.mean(train_loss)\n",
        "                torch.save(model.module.state_dict(), './best_model.pth', _use_new_zipfile_serialization=False)\n",
        "    \n",
        "    def validation(self, eval_model, thr):\n",
        "        cos = nn.CosineSimilarity(dim=1, eps=1e-6)\n",
        "        eval_model.eval()\n",
        "        pred = []\n",
        "        true = []\n",
        "        with torch.no_grad():\n",
        "            for x, y in iter(self.val_loader):\n",
        "                x = x.float().to(self.device)\n",
        "\n",
        "                _x = self.model(x)\n",
        "                diff = cos(x, _x).cpu().tolist()\n",
        "                batch_pred = np.where(np.array(diff)<thr, 1, 0).tolist()\n",
        "                pred += batch_pred\n",
        "                true += y.tolist()\n",
        "\n",
        "        return f1_score(true, pred, average='macro')"
      ],
      "metadata": {
        "id": "p2pI6aQFvY4n"
      },
      "execution_count": 172,
      "outputs": []
    },
    {
      "cell_type": "markdown",
      "source": [
        "## 모델 학습"
      ],
      "metadata": {
        "id": "h2cQqd1ci84k"
      }
    },
    {
      "cell_type": "code",
      "source": [
        "model = nn.DataParallel(AutoEncoder())\n",
        "model.eval()\n",
        "optimizer = torch.optim.Adam(params = model.parameters(), lr = 1e-2)\n",
        "scheduler = torch.optim.lr_scheduler.ReduceLROnPlateau(optimizer, mode='max', factor=0.5, patience=10, threshold_mode='abs', min_lr=1e-8, verbose=True)\n",
        "\n",
        "trainer = Trainer(model, optimizer, train_loader, val_loader, scheduler, device)\n",
        "trainer.fit()"
      ],
      "metadata": {
        "colab": {
          "base_uri": "https://localhost:8080/"
        },
        "id": "M6oS6iTQvlTD",
        "outputId": "66648c26-7641-4c72-d997-7eaeb4aec9aa"
      },
      "execution_count": 173,
      "outputs": [
        {
          "output_type": "stream",
          "name": "stdout",
          "text": [
            "Epoch : [0] Train loss : [0.31101111379953533] Val Score : [0.092118388263202])\n",
            "Epoch : [1] Train loss : [0.1438565540772218] Val Score : [0.5806114997347178])\n",
            "Epoch : [2] Train loss : [0.0860010886994692] Val Score : [0.870247282626393])\n",
            "Epoch : [3] Train loss : [0.0426597331578915] Val Score : [0.9097393418694286])\n",
            "Epoch : [4] Train loss : [0.04093006167274255] Val Score : [0.9097393418694286])\n",
            "Epoch : [5] Train loss : [0.042776656695283376] Val Score : [0.8844834793761085])\n",
            "Epoch : [6] Train loss : [0.057154672363629706] Val Score : [0.8786471773914175])\n",
            "Epoch : [7] Train loss : [0.04824763464813049] Val Score : [0.8786471773914175])\n",
            "Epoch : [8] Train loss : [0.036914290143893316] Val Score : [0.9031202878275757])\n",
            "Epoch : [9] Train loss : [0.029229298520546693] Val Score : [0.8786471773914175])\n",
            "Epoch : [10] Train loss : [0.03569290572060989] Val Score : [0.8879277916133668])\n",
            "Epoch : [11] Train loss : [0.0307303242958509] Val Score : [0.8786471773914175])\n",
            "Epoch : [12] Train loss : [0.033085605272879966] Val Score : [0.7792091738512393])\n",
            "Epoch : [13] Train loss : [0.038742358438097514] Val Score : [0.890501890608512])\n",
            "Epoch : [14] Train loss : [0.033133619966415256] Val Score : [0.9031202878275757])\n",
            "Epoch 00015: reducing learning rate of group 0 to 5.0000e-03.\n",
            "Epoch : [15] Train loss : [0.02971008921471926] Val Score : [0.9097393418694286])\n",
            "Epoch : [16] Train loss : [0.02196074277162552] Val Score : [0.9097393418694286])\n",
            "Epoch : [17] Train loss : [0.020084875635802746] Val Score : [0.9031202878275757])\n",
            "Epoch : [18] Train loss : [0.018572155601130083] Val Score : [0.9031202878275757])\n",
            "Epoch : [19] Train loss : [0.02034319142022958] Val Score : [0.9031202878275757])\n",
            "Epoch : [20] Train loss : [0.017884675556650527] Val Score : [0.890501890608512])\n",
            "Epoch : [21] Train loss : [0.01611480088188098] Val Score : [0.890501890608512])\n",
            "Epoch : [22] Train loss : [0.01593174312550288] Val Score : [0.9031202878275757])\n",
            "Epoch : [23] Train loss : [0.01676855408228361] Val Score : [0.9031202878275757])\n",
            "Epoch : [24] Train loss : [0.01648160435545903] Val Score : [0.8967110829723166])\n",
            "Epoch : [25] Train loss : [0.016060229319219407] Val Score : [0.9097393418694286])\n",
            "Epoch 00026: reducing learning rate of group 0 to 2.5000e-03.\n",
            "Epoch : [26] Train loss : [0.014958859206392216] Val Score : [0.9165787375726882])\n",
            "Epoch : [27] Train loss : [0.013950367458164692] Val Score : [0.9165787375726882])\n",
            "Epoch : [28] Train loss : [0.013601072705709018] Val Score : [0.9137051774467988])\n",
            "Epoch : [29] Train loss : [0.013551407350370517] Val Score : [0.9165787375726882])\n",
            "Epoch : [30] Train loss : [0.013666996374153174] Val Score : [0.9236496787663914])\n",
            "Epoch : [31] Train loss : [0.012898741003412467] Val Score : [0.9236496787663914])\n",
            "Epoch : [32] Train loss : [0.013103593642321916] Val Score : [0.9236496787663914])\n",
            "Epoch : [33] Train loss : [0.01300296259041016] Val Score : [0.9165787375726882])\n",
            "Epoch : [34] Train loss : [0.01266980729997158] Val Score : [0.9165787375726882])\n",
            "Epoch : [35] Train loss : [0.012475371074218016] Val Score : [0.9165787375726882])\n",
            "Epoch : [36] Train loss : [0.011970139251878628] Val Score : [0.9137051774467988])\n",
            "Epoch : [37] Train loss : [0.011867274673512349] Val Score : [0.9165787375726882])\n",
            "Epoch : [38] Train loss : [0.011860426157139815] Val Score : [0.9165787375726882])\n",
            "Epoch : [39] Train loss : [0.011421096941026358] Val Score : [0.9137051774467988])\n",
            "Epoch : [40] Train loss : [0.0109397372804009] Val Score : [0.9165787375726882])\n",
            "Epoch : [41] Train loss : [0.010716013610363007] Val Score : [0.9236496787663914])\n",
            "Epoch 00042: reducing learning rate of group 0 to 1.2500e-03.\n",
            "Epoch : [42] Train loss : [0.010285481309088377] Val Score : [0.9034120550289857])\n",
            "Epoch : [43] Train loss : [0.010101447956493268] Val Score : [0.899903286500554])\n",
            "Epoch : [44] Train loss : [0.009975269293555846] Val Score : [0.899903286500554])\n",
            "Epoch : [45] Train loss : [0.009931148029863834] Val Score : [0.8331926764657618])\n",
            "Epoch : [46] Train loss : [0.010029747007557979] Val Score : [0.8927516353661109])\n",
            "Epoch : [47] Train loss : [0.00989254291814107] Val Score : [0.899903286500554])\n",
            "Epoch : [48] Train loss : [0.009943145828751417] Val Score : [0.8927516353661109])\n",
            "Epoch : [49] Train loss : [0.009689232477774987] Val Score : [0.8331926764657618])\n"
          ]
        }
      ]
    },
    {
      "cell_type": "markdown",
      "source": [
        "## 최고의 모델"
      ],
      "metadata": {
        "id": "uhFKGu_li_Jj"
      }
    },
    {
      "cell_type": "code",
      "source": [
        "model = AutoEncoder()\n",
        "model.load_state_dict(torch.load('./best_model.pth'))\n",
        "model = nn.DataParallel(model)\n",
        "model.eval()"
      ],
      "metadata": {
        "colab": {
          "base_uri": "https://localhost:8080/"
        },
        "id": "yayqQXjjeDhP",
        "outputId": "d0c1ebb0-409d-418e-beaa-c6543f84785f"
      },
      "execution_count": 175,
      "outputs": [
        {
          "output_type": "execute_result",
          "data": {
            "text/plain": [
              "DataParallel(\n",
              "  (module): AutoEncoder(\n",
              "    (Encoder): Sequential(\n",
              "      (0): Linear(in_features=262, out_features=512, bias=True)\n",
              "      (1): BatchNorm1d(512, eps=1e-05, momentum=0.1, affine=True, track_running_stats=True)\n",
              "      (2): LeakyReLU(negative_slope=0.01)\n",
              "      (3): Linear(in_features=512, out_features=1024, bias=True)\n",
              "      (4): BatchNorm1d(1024, eps=1e-05, momentum=0.1, affine=True, track_running_stats=True)\n",
              "      (5): LeakyReLU(negative_slope=0.01)\n",
              "      (6): Linear(in_features=1024, out_features=2048, bias=True)\n",
              "      (7): BatchNorm1d(2048, eps=1e-05, momentum=0.1, affine=True, track_running_stats=True)\n",
              "      (8): LeakyReLU(negative_slope=0.01)\n",
              "      (9): Linear(in_features=2048, out_features=4096, bias=True)\n",
              "      (10): BatchNorm1d(4096, eps=1e-05, momentum=0.1, affine=True, track_running_stats=True)\n",
              "      (11): LeakyReLU(negative_slope=0.01)\n",
              "    )\n",
              "    (Decoder): Sequential(\n",
              "      (0): Linear(in_features=4096, out_features=2048, bias=True)\n",
              "      (1): BatchNorm1d(2048, eps=1e-05, momentum=0.1, affine=True, track_running_stats=True)\n",
              "      (2): LeakyReLU(negative_slope=0.01)\n",
              "      (3): Linear(in_features=2048, out_features=1024, bias=True)\n",
              "      (4): BatchNorm1d(1024, eps=1e-05, momentum=0.1, affine=True, track_running_stats=True)\n",
              "      (5): LeakyReLU(negative_slope=0.01)\n",
              "      (6): Linear(in_features=1024, out_features=512, bias=True)\n",
              "      (7): BatchNorm1d(512, eps=1e-05, momentum=0.1, affine=True, track_running_stats=True)\n",
              "      (8): LeakyReLU(negative_slope=0.01)\n",
              "      (9): Linear(in_features=512, out_features=262, bias=True)\n",
              "    )\n",
              "  )\n",
              ")"
            ]
          },
          "metadata": {},
          "execution_count": 175
        }
      ]
    },
    {
      "cell_type": "markdown",
      "metadata": {
        "id": "ciepK-yCMUoM"
      },
      "source": [
        "# Evaluation"
      ]
    },
    {
      "cell_type": "code",
      "source": [
        "def prediction(model, thr, test_loader, device):\n",
        "    model.to(device)\n",
        "    model.eval()\n",
        "    cos = nn.CosineSimilarity(dim=1, eps=1e-6)\n",
        "    pred = []\n",
        "    with torch.no_grad():\n",
        "        for x in iter(test_loader):\n",
        "            x = x.float().to(device)\n",
        "            _x = model(x)\n",
        "            \n",
        "            diff = cos(x, _x).cpu().tolist()\n",
        "            batch_pred = np.where(np.array(diff)<thr, 1,0).tolist()\n",
        "            pred += batch_pred\n",
        "    return pred"
      ],
      "metadata": {
        "id": "UtpUriEkvqtB"
      },
      "execution_count": 176,
      "outputs": []
    },
    {
      "cell_type": "code",
      "source": [
        "reduced_val = reduced_val.drop(columns=['Class'])\n",
        "val_dataset = MyDataset(reduced_val, False)\n",
        "val_loader = DataLoader(val_dataset, batch_size=2**13, shuffle=False, num_workers=6)"
      ],
      "metadata": {
        "id": "ChGRte4Hx_cw"
      },
      "execution_count": 177,
      "outputs": []
    },
    {
      "cell_type": "code",
      "source": [
        "pred_val = prediction(model, 0.95, val_loader, device)"
      ],
      "metadata": {
        "id": "uJI9o3TSyJBB"
      },
      "execution_count": 193,
      "outputs": []
    },
    {
      "cell_type": "code",
      "execution_count": 194,
      "metadata": {
        "id": "01A06pL1MuY6"
      },
      "outputs": [],
      "source": [
        "val_score = f1_score(y_val, pred_val, average='macro')\n",
        "recall = recall_score(y_val, pred_val)\n",
        "precision = precision_score(y_val, pred_val)"
      ]
    },
    {
      "cell_type": "code",
      "execution_count": 195,
      "metadata": {
        "id": "vWgOeD0YM1F7",
        "colab": {
          "base_uri": "https://localhost:8080/"
        },
        "outputId": "90461b2d-84f1-43ce-ff96-d7d7345dfa55"
      },
      "outputs": [
        {
          "output_type": "stream",
          "name": "stdout",
          "text": [
            "Marco F1 Score : 0.9236496787663914\n",
            "\n",
            "Recall : 0.8333333333333334\n",
            "\n",
            "Precision : 0.8620689655172413\n",
            "\n",
            "              precision    recall  f1-score   support\n",
            "\n",
            "           0       1.00      1.00      1.00     28432\n",
            "           1       0.86      0.83      0.85        30\n",
            "\n",
            "    accuracy                           1.00     28462\n",
            "   macro avg       0.93      0.92      0.92     28462\n",
            "weighted avg       1.00      1.00      1.00     28462\n",
            "\n"
          ]
        }
      ],
      "source": [
        "print(f'Marco F1 Score : {val_score}\\n')\n",
        "print(f'Recall : {recall}\\n')\n",
        "print(f'Precision : {precision}\\n')\n",
        "print(classification_report(y_val, pred_val))"
      ]
    },
    {
      "cell_type": "markdown",
      "metadata": {
        "id": "o8x0ffGaNHcD"
      },
      "source": [
        "# Inference"
      ]
    },
    {
      "cell_type": "code",
      "source": [
        "test_dataset = MyDataset(reduced_test, False)\n",
        "test_loader = DataLoader(test_dataset, batch_size=2**13, shuffle=False, num_workers=6)"
      ],
      "metadata": {
        "id": "LZD_layqvnW-"
      },
      "execution_count": 97,
      "outputs": []
    },
    {
      "cell_type": "code",
      "source": [
        "pred_test = prediction(model, 0.95, test_loader, device)"
      ],
      "metadata": {
        "id": "Pp7qIPk9vsy5"
      },
      "execution_count": 100,
      "outputs": []
    },
    {
      "cell_type": "markdown",
      "metadata": {
        "id": "aCscOd_xM_ka"
      },
      "source": [
        "# Submission"
      ]
    },
    {
      "cell_type": "code",
      "execution_count": null,
      "metadata": {
        "id": "w3FfeD1xM68L"
      },
      "outputs": [],
      "source": [
        "submit = pd.read_csv('./sample_submission.csv')"
      ]
    },
    {
      "cell_type": "code",
      "execution_count": null,
      "metadata": {
        "colab": {
          "base_uri": "https://localhost:8080/",
          "height": 206
        },
        "id": "XkUjToiZNB23",
        "outputId": "44c0029e-5e55-4cfb-b0de-e5e47017b29a"
      },
      "outputs": [
        {
          "data": {
            "text/html": [
              "\n",
              "  <div id=\"df-edf2fa33-1b15-48d3-ada8-4873fb7cde61\">\n",
              "    <div class=\"colab-df-container\">\n",
              "      <div>\n",
              "<style scoped>\n",
              "    .dataframe tbody tr th:only-of-type {\n",
              "        vertical-align: middle;\n",
              "    }\n",
              "\n",
              "    .dataframe tbody tr th {\n",
              "        vertical-align: top;\n",
              "    }\n",
              "\n",
              "    .dataframe thead th {\n",
              "        text-align: right;\n",
              "    }\n",
              "</style>\n",
              "<table border=\"1\" class=\"dataframe\">\n",
              "  <thead>\n",
              "    <tr style=\"text-align: right;\">\n",
              "      <th></th>\n",
              "      <th>ID</th>\n",
              "      <th>Class</th>\n",
              "    </tr>\n",
              "  </thead>\n",
              "  <tbody>\n",
              "    <tr>\n",
              "      <th>0</th>\n",
              "      <td>AAAA0x1</td>\n",
              "      <td>0</td>\n",
              "    </tr>\n",
              "    <tr>\n",
              "      <th>1</th>\n",
              "      <td>AAAA0x2</td>\n",
              "      <td>0</td>\n",
              "    </tr>\n",
              "    <tr>\n",
              "      <th>2</th>\n",
              "      <td>AAAA0x5</td>\n",
              "      <td>0</td>\n",
              "    </tr>\n",
              "    <tr>\n",
              "      <th>3</th>\n",
              "      <td>AAAA0x7</td>\n",
              "      <td>0</td>\n",
              "    </tr>\n",
              "    <tr>\n",
              "      <th>4</th>\n",
              "      <td>AAAA0xc</td>\n",
              "      <td>0</td>\n",
              "    </tr>\n",
              "  </tbody>\n",
              "</table>\n",
              "</div>\n",
              "      <button class=\"colab-df-convert\" onclick=\"convertToInteractive('df-edf2fa33-1b15-48d3-ada8-4873fb7cde61')\"\n",
              "              title=\"Convert this dataframe to an interactive table.\"\n",
              "              style=\"display:none;\">\n",
              "        \n",
              "  <svg xmlns=\"http://www.w3.org/2000/svg\" height=\"24px\"viewBox=\"0 0 24 24\"\n",
              "       width=\"24px\">\n",
              "    <path d=\"M0 0h24v24H0V0z\" fill=\"none\"/>\n",
              "    <path d=\"M18.56 5.44l.94 2.06.94-2.06 2.06-.94-2.06-.94-.94-2.06-.94 2.06-2.06.94zm-11 1L8.5 8.5l.94-2.06 2.06-.94-2.06-.94L8.5 2.5l-.94 2.06-2.06.94zm10 10l.94 2.06.94-2.06 2.06-.94-2.06-.94-.94-2.06-.94 2.06-2.06.94z\"/><path d=\"M17.41 7.96l-1.37-1.37c-.4-.4-.92-.59-1.43-.59-.52 0-1.04.2-1.43.59L10.3 9.45l-7.72 7.72c-.78.78-.78 2.05 0 2.83L4 21.41c.39.39.9.59 1.41.59.51 0 1.02-.2 1.41-.59l7.78-7.78 2.81-2.81c.8-.78.8-2.07 0-2.86zM5.41 20L4 18.59l7.72-7.72 1.47 1.35L5.41 20z\"/>\n",
              "  </svg>\n",
              "      </button>\n",
              "      \n",
              "  <style>\n",
              "    .colab-df-container {\n",
              "      display:flex;\n",
              "      flex-wrap:wrap;\n",
              "      gap: 12px;\n",
              "    }\n",
              "\n",
              "    .colab-df-convert {\n",
              "      background-color: #E8F0FE;\n",
              "      border: none;\n",
              "      border-radius: 50%;\n",
              "      cursor: pointer;\n",
              "      display: none;\n",
              "      fill: #1967D2;\n",
              "      height: 32px;\n",
              "      padding: 0 0 0 0;\n",
              "      width: 32px;\n",
              "    }\n",
              "\n",
              "    .colab-df-convert:hover {\n",
              "      background-color: #E2EBFA;\n",
              "      box-shadow: 0px 1px 2px rgba(60, 64, 67, 0.3), 0px 1px 3px 1px rgba(60, 64, 67, 0.15);\n",
              "      fill: #174EA6;\n",
              "    }\n",
              "\n",
              "    [theme=dark] .colab-df-convert {\n",
              "      background-color: #3B4455;\n",
              "      fill: #D2E3FC;\n",
              "    }\n",
              "\n",
              "    [theme=dark] .colab-df-convert:hover {\n",
              "      background-color: #434B5C;\n",
              "      box-shadow: 0px 1px 3px 1px rgba(0, 0, 0, 0.15);\n",
              "      filter: drop-shadow(0px 1px 2px rgba(0, 0, 0, 0.3));\n",
              "      fill: #FFFFFF;\n",
              "    }\n",
              "  </style>\n",
              "\n",
              "      <script>\n",
              "        const buttonEl =\n",
              "          document.querySelector('#df-edf2fa33-1b15-48d3-ada8-4873fb7cde61 button.colab-df-convert');\n",
              "        buttonEl.style.display =\n",
              "          google.colab.kernel.accessAllowed ? 'block' : 'none';\n",
              "\n",
              "        async function convertToInteractive(key) {\n",
              "          const element = document.querySelector('#df-edf2fa33-1b15-48d3-ada8-4873fb7cde61');\n",
              "          const dataTable =\n",
              "            await google.colab.kernel.invokeFunction('convertToInteractive',\n",
              "                                                     [key], {});\n",
              "          if (!dataTable) return;\n",
              "\n",
              "          const docLinkHtml = 'Like what you see? Visit the ' +\n",
              "            '<a target=\"_blank\" href=https://colab.research.google.com/notebooks/data_table.ipynb>data table notebook</a>'\n",
              "            + ' to learn more about interactive tables.';\n",
              "          element.innerHTML = '';\n",
              "          dataTable['output_type'] = 'display_data';\n",
              "          await google.colab.output.renderOutput(dataTable, element);\n",
              "          const docLink = document.createElement('div');\n",
              "          docLink.innerHTML = docLinkHtml;\n",
              "          element.appendChild(docLink);\n",
              "        }\n",
              "      </script>\n",
              "    </div>\n",
              "  </div>\n",
              "  "
            ],
            "text/plain": [
              "        ID  Class\n",
              "0  AAAA0x1      0\n",
              "1  AAAA0x2      0\n",
              "2  AAAA0x5      0\n",
              "3  AAAA0x7      0\n",
              "4  AAAA0xc      0"
            ]
          },
          "execution_count": 210,
          "metadata": {},
          "output_type": "execute_result"
        }
      ],
      "source": [
        "submit['Class'] = pred_test\n",
        "submit.head()"
      ]
    },
    {
      "cell_type": "code",
      "execution_count": null,
      "metadata": {
        "id": "fyEkwDUUNhj9"
      },
      "outputs": [],
      "source": [
        "submit.to_csv('./submission_3.csv', index=False)"
      ]
    }
  ],
  "metadata": {
    "colab": {
      "provenance": []
    },
    "kernelspec": {
      "display_name": "Python 3",
      "name": "python3"
    },
    "language_info": {
      "name": "python"
    },
    "accelerator": "GPU",
    "gpuClass": "premium"
  },
  "nbformat": 4,
  "nbformat_minor": 0
}