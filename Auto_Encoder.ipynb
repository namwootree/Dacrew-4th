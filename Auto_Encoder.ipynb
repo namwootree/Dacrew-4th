{
  "cells": [
    {
      "cell_type": "markdown",
      "metadata": {
        "id": "JdAtq5mbLJ6T"
      },
      "source": [
        "# Setting"
      ]
    },
    {
      "cell_type": "markdown",
      "metadata": {
        "id": "LpzRbxF8LLF1"
      },
      "source": [
        "## Library"
      ]
    },
    {
      "cell_type": "code",
      "execution_count": 1,
      "metadata": {
        "id": "4lA5ZR29K-Ec"
      },
      "outputs": [],
      "source": [
        "# 데이터 다루기\n",
        "import pandas as pd\n",
        "import numpy as np\n",
        "from itertools import combinations\n",
        "\n",
        "# 전처리\n",
        "from sklearn.preprocessing import StandardScaler, MinMaxScaler, RobustScaler\n",
        "from sklearn.decomposition import PCA, KernelPCA, SparsePCA, TruncatedSVD, IncrementalPCA\n",
        "from sklearn.cluster import KMeans\n",
        "from sklearn.random_projection import GaussianRandomProjection, SparseRandomProjection\n",
        "\n",
        "# 모델링\n",
        "from sklearn.ensemble import IsolationForest\n",
        "from sklearn.neighbors import LocalOutlierFactor\n",
        "from sklearn.covariance import EllipticEnvelope\n",
        "\n",
        "from sklearn.metrics import f1_score\n",
        "from sklearn.metrics import recall_score # 재현율\n",
        "from sklearn.metrics import precision_score # 정밀도\n",
        "from sklearn.metrics import confusion_matrix\n",
        "from sklearn.metrics import classification_report\n",
        "\n",
        "# 기타\n",
        "import os\n",
        "import random\n",
        "from tqdm.auto import tqdm\n",
        "import math"
      ]
    },
    {
      "cell_type": "code",
      "source": [
        "import matplotlib.pyplot as plt\n",
        "import seaborn as sns"
      ],
      "metadata": {
        "id": "XPywm839mCRJ"
      },
      "execution_count": 2,
      "outputs": []
    },
    {
      "cell_type": "code",
      "source": [
        "import torch\n",
        "import torch.nn as nn\n",
        "import torch.optim as optim\n",
        "import torch.nn.functional as F\n",
        "from torch.utils.data import Dataset, DataLoader\n",
        "from torch.optim.lr_scheduler import ReduceLROnPlateau\n",
        "from torch.optim import Optimizer, AdamW\n",
        "from torch.optim.lr_scheduler import LambdaLR, CyclicLR, OneCycleLR"
      ],
      "metadata": {
        "id": "xfAo7XX9u8NX"
      },
      "execution_count": 3,
      "outputs": []
    },
    {
      "cell_type": "code",
      "execution_count": 4,
      "metadata": {
        "id": "t5Jlc229LOB6"
      },
      "outputs": [],
      "source": [
        "import warnings\n",
        "warnings.filterwarnings(action='ignore')"
      ]
    },
    {
      "cell_type": "markdown",
      "source": [
        "## GPU"
      ],
      "metadata": {
        "id": "Zf918D9Iphda"
      }
    },
    {
      "cell_type": "code",
      "source": [
        "!nvidia-smi"
      ],
      "metadata": {
        "colab": {
          "base_uri": "https://localhost:8080/"
        },
        "id": "fbjz4k3TmJcF",
        "outputId": "b8c93311-2877-498c-8718-1fba848d70fc"
      },
      "execution_count": 5,
      "outputs": [
        {
          "output_type": "stream",
          "name": "stdout",
          "text": [
            "Mon Feb 13 07:21:25 2023       \n",
            "+-----------------------------------------------------------------------------+\n",
            "| NVIDIA-SMI 510.47.03    Driver Version: 510.47.03    CUDA Version: 11.6     |\n",
            "|-------------------------------+----------------------+----------------------+\n",
            "| GPU  Name        Persistence-M| Bus-Id        Disp.A | Volatile Uncorr. ECC |\n",
            "| Fan  Temp  Perf  Pwr:Usage/Cap|         Memory-Usage | GPU-Util  Compute M. |\n",
            "|                               |                      |               MIG M. |\n",
            "|===============================+======================+======================|\n",
            "|   0  NVIDIA A100-SXM...  Off  | 00000000:00:04.0 Off |                    0 |\n",
            "| N/A   37C    P0    48W / 400W |      0MiB / 40960MiB |      0%      Default |\n",
            "|                               |                      |             Disabled |\n",
            "+-------------------------------+----------------------+----------------------+\n",
            "                                                                               \n",
            "+-----------------------------------------------------------------------------+\n",
            "| Processes:                                                                  |\n",
            "|  GPU   GI   CI        PID   Type   Process name                  GPU Memory |\n",
            "|        ID   ID                                                   Usage      |\n",
            "|=============================================================================|\n",
            "|  No running processes found                                                 |\n",
            "+-----------------------------------------------------------------------------+\n"
          ]
        }
      ]
    },
    {
      "cell_type": "code",
      "source": [
        "device = torch.device('cuda:0' if torch.cuda.is_available else 'cpu')"
      ],
      "metadata": {
        "id": "H0YzUrXju-31"
      },
      "execution_count": 6,
      "outputs": []
    },
    {
      "cell_type": "markdown",
      "metadata": {
        "id": "RAlVaaC_LS1M"
      },
      "source": [
        "## Fixed Random Seed"
      ]
    },
    {
      "cell_type": "code",
      "execution_count": 7,
      "metadata": {
        "id": "S0bKBShiLREc"
      },
      "outputs": [],
      "source": [
        "def seed_everything(seed):\n",
        "    random.seed(seed)\n",
        "    os.environ['PYTHONHASHSEED'] = str(seed)\n",
        "    np.random.seed(seed)\n",
        "    torch.manual_seed(seed)\n",
        "    torch.cuda.manual_seed(seed)\n",
        "    torch.backends.cudnn.deterministic = True\n",
        "    torch.backends.cudnn.benchmark = True\n",
        "\n",
        "seed_everything(42) # Seed 고정"
      ]
    },
    {
      "cell_type": "markdown",
      "metadata": {
        "id": "pzNq6q70LY34"
      },
      "source": [
        "# Load Data Set"
      ]
    },
    {
      "cell_type": "markdown",
      "metadata": {
        "id": "aP8Z0AMzLbCl"
      },
      "source": [
        "## Googel Drive Mount"
      ]
    },
    {
      "cell_type": "code",
      "execution_count": 8,
      "metadata": {
        "colab": {
          "base_uri": "https://localhost:8080/"
        },
        "id": "dTDPQ6ipLYMN",
        "outputId": "b6a2c972-7658-4827-e8d7-679d8a90c0d1"
      },
      "outputs": [
        {
          "output_type": "stream",
          "name": "stdout",
          "text": [
            "Mounted at /content/drive\n"
          ]
        }
      ],
      "source": [
        "from google.colab import drive\n",
        "drive.mount('/content/drive')"
      ]
    },
    {
      "cell_type": "markdown",
      "metadata": {
        "id": "tMfGxw7WLlFM"
      },
      "source": [
        "## Unzip File"
      ]
    },
    {
      "cell_type": "code",
      "execution_count": 9,
      "metadata": {
        "id": "CH2iRFNbLdcd"
      },
      "outputs": [],
      "source": [
        "!unzip --qq '/content/drive/MyDrive/머신러닝 엔지니어링/데이콘/사기거래/data/사기거래.zip'"
      ]
    },
    {
      "cell_type": "markdown",
      "metadata": {
        "id": "jcIJmupMLpBu"
      },
      "source": [
        "## Load Train / Val / Test Set"
      ]
    },
    {
      "cell_type": "code",
      "execution_count": 10,
      "metadata": {
        "id": "oNdbFSuoLoiJ"
      },
      "outputs": [],
      "source": [
        "train = pd.read_csv('/content/train.csv')\n",
        "val = pd.read_csv('/content/val.csv')\n",
        "test = pd.read_csv('/content/test.csv')"
      ]
    },
    {
      "cell_type": "markdown",
      "metadata": {
        "id": "AU3zE34BL3Oi"
      },
      "source": [
        "# Preprocessing"
      ]
    },
    {
      "cell_type": "markdown",
      "metadata": {
        "id": "o4fKPoX5VJJm"
      },
      "source": [
        "## Feature Selection"
      ]
    },
    {
      "cell_type": "code",
      "execution_count": 32,
      "metadata": {
        "id": "RIoIVhn6LsQ-"
      },
      "outputs": [],
      "source": [
        "X_train = train.drop(columns=['ID']) \n",
        "\n",
        "X_val = val.drop(columns=['ID', 'Class']) \n",
        "y_val = val['Class']\n",
        "\n",
        "X_test = test.drop(columns=['ID'])"
      ]
    },
    {
      "cell_type": "code",
      "execution_count": 33,
      "metadata": {
        "id": "-O6WI_4jOUjU"
      },
      "outputs": [],
      "source": [
        "X_train = X_train[['V3', 'V4', 'V9', 'V10', 'V11',\n",
        "                   'V12', 'V14', 'V16', 'V17', 'V18']]\n",
        "\n",
        "X_val = X_val[['V3', 'V4', 'V9', 'V10', 'V11',\n",
        "               'V12', 'V14', 'V16', 'V17', 'V18']]\n",
        "\n",
        "X_test = X_test[['V3', 'V4', 'V9', 'V10', 'V11',\n",
        "                 'V12', 'V14', 'V16', 'V17', 'V18']]"
      ]
    },
    {
      "cell_type": "code",
      "execution_count": 34,
      "metadata": {
        "id": "Ney8Zsfof8F3",
        "colab": {
          "base_uri": "https://localhost:8080/"
        },
        "outputId": "cf98ae51-53d3-4080-e934-13046bc8af13"
      },
      "outputs": [
        {
          "output_type": "execute_result",
          "data": {
            "text/plain": [
              "10"
            ]
          },
          "metadata": {},
          "execution_count": 34
        }
      ],
      "source": [
        "len(X_train.columns)"
      ]
    },
    {
      "cell_type": "markdown",
      "metadata": {
        "id": "Q6q9xXOhR1Kd"
      },
      "source": [
        "## Scaling"
      ]
    },
    {
      "cell_type": "code",
      "execution_count": 35,
      "metadata": {
        "id": "iiK1dVoCcjeU"
      },
      "outputs": [],
      "source": [
        "#scaler = StandardScaler()\n",
        "#scaler = MinMaxScaler()\n",
        "scaler = RobustScaler(quantile_range=(45.0, 55.0))\n",
        "\n",
        "scaled_train = scaler.fit_transform(X_train)\n",
        "scaled_val = scaler.transform(X_val)\n",
        "scaled_test = scaler.transform(X_test)\n",
        "\n",
        "scaled_train = pd.DataFrame(scaled_train)\n",
        "scaled_val = pd.DataFrame(scaled_val)\n",
        "scaled_test = pd.DataFrame(scaled_test)"
      ]
    },
    {
      "cell_type": "code",
      "execution_count": 36,
      "metadata": {
        "id": "WZ9OYFonQdf1"
      },
      "outputs": [],
      "source": [
        "#scaler = StandardScaler()\n",
        "scaler = MinMaxScaler()\n",
        "#scaler = RobustScaler(quantile_range=(45.0, 55.0))\n",
        "\n",
        "scaled_train = scaler.fit_transform(scaled_train)\n",
        "scaled_val = scaler.transform(scaled_val)\n",
        "scaled_test = scaler.transform(scaled_test)\n",
        "\n",
        "scaled_train = pd.DataFrame(scaled_train)\n",
        "scaled_val = pd.DataFrame(scaled_val)\n",
        "scaled_test = pd.DataFrame(scaled_test)"
      ]
    },
    {
      "cell_type": "markdown",
      "metadata": {
        "id": "P35An1inVLO4"
      },
      "source": [
        "## 파생 변수"
      ]
    },
    {
      "cell_type": "code",
      "execution_count": 37,
      "metadata": {
        "id": "_nfo_9XcSKdm",
        "colab": {
          "base_uri": "https://localhost:8080/"
        },
        "outputId": "ae03440c-6e2b-439a-bbc7-88abc2d3e2a9"
      },
      "outputs": [
        {
          "output_type": "stream",
          "name": "stdout",
          "text": [
            "252\n"
          ]
        }
      ],
      "source": [
        "main_columns = list(scaled_train.columns)\n",
        "\n",
        "com_main = list(combinations(main_columns, 5))\n",
        "print(len(com_main))"
      ]
    },
    {
      "cell_type": "code",
      "execution_count": 38,
      "metadata": {
        "id": "mPBv729ISivs"
      },
      "outputs": [],
      "source": [
        "for com in com_main:\n",
        "\n",
        "  x = com[0]\n",
        "  y = com[1]\n",
        "  z = com[2]\n",
        "  w = com[3]\n",
        "  v = com[-1]\n",
        "\n",
        "  scaled_train[f'{x}_{y}_{z}_{w}_{v}_mean'] = (scaled_train[x] + \\\n",
        "                                               scaled_train[y] + \\\n",
        "                                               scaled_train[z] + \\\n",
        "                                               scaled_train[w] + \\\n",
        "                                               scaled_train[v]) / 5\n",
        "    \n",
        "  scaled_val[f'{x}_{y}_{z}_{w}_{v}_mean'] = (scaled_val[x] + \\\n",
        "                                             scaled_val[y] + \\\n",
        "                                             scaled_val[z] + \\\n",
        "                                             scaled_val[w] + \\\n",
        "                                             scaled_val[v]) / 5\n",
        "\n",
        "  scaled_test[f'{x}_{y}_{z}_{w}_{v}_mean'] = (scaled_test[x] + \\\n",
        "                                              scaled_test[y] + \\\n",
        "                                              scaled_test[z] + \\\n",
        "                                              scaled_test[w] + \\\n",
        "                                              scaled_test[v]) / 5"
      ]
    },
    {
      "cell_type": "code",
      "execution_count": 39,
      "metadata": {
        "id": "eaj3ZD03S_-6",
        "colab": {
          "base_uri": "https://localhost:8080/"
        },
        "outputId": "499858d1-44e0-471e-820e-fb0945e7f862"
      },
      "outputs": [
        {
          "output_type": "stream",
          "name": "stdout",
          "text": [
            "262\n"
          ]
        }
      ],
      "source": [
        "print(len(scaled_train.columns))\n",
        "n_components = len(scaled_train.columns)"
      ]
    },
    {
      "cell_type": "markdown",
      "metadata": {
        "id": "BEXZrrxt0LTG"
      },
      "source": [
        "## Dimension Reduction"
      ]
    },
    {
      "cell_type": "code",
      "execution_count": 40,
      "metadata": {
        "id": "5lCbgG610Oer"
      },
      "outputs": [],
      "source": [
        "#dimesion_reducer = PCA(n_components=N_COMPONETS)\n",
        "#dimesion_reducer = SparsePCA(n_components=78, alpha=0.01)\n",
        "dimesion_reducer = SparseRandomProjection(n_components=262, eps=0.1, random_state=42)\n",
        "\n",
        "\n",
        "reduced_train = dimesion_reducer.fit_transform(scaled_train)\n",
        "reduced_val = dimesion_reducer.transform(scaled_val)\n",
        "reduced_test = dimesion_reducer.transform(scaled_test)\n",
        "\n",
        "reduced_train = pd.DataFrame(reduced_train)\n",
        "reduced_val = pd.DataFrame(reduced_val)\n",
        "reduced_test = pd.DataFrame(reduced_test)"
      ]
    },
    {
      "cell_type": "markdown",
      "source": [
        "# Make Data Set for Pytorch"
      ],
      "metadata": {
        "id": "zC6to7iKvGMG"
      }
    },
    {
      "cell_type": "code",
      "source": [
        "class MyDataset(Dataset):\n",
        "    def __init__(self, df, eval_mode):\n",
        "        self.df = df\n",
        "        self.eval_mode = eval_mode\n",
        "        if self.eval_mode:\n",
        "            self.labels = self.df['Class'].values\n",
        "            self.df = self.df.drop(columns=['Class']).values\n",
        "        else:\n",
        "            self.df = self.df.values\n",
        "        \n",
        "    def __getitem__(self, index):\n",
        "        if self.eval_mode:\n",
        "            x = torch.from_numpy(self.df[index]).type(torch.FloatTensor)\n",
        "            y = torch.FloatTensor([self.labels[index]])\n",
        "            return x, y\n",
        "            #self.x = self.df[index]\n",
        "            #self.y = self.labels[index]\n",
        "            #return torch.Tensor(self.x), self.y\n",
        "        else:\n",
        "            self.x = self.df[index]\n",
        "            return torch.Tensor(self.x)\n",
        "        \n",
        "    def __len__(self):\n",
        "        return len(self.df)"
      ],
      "metadata": {
        "id": "v4zURdOHvI_3"
      },
      "execution_count": 41,
      "outputs": []
    },
    {
      "cell_type": "code",
      "source": [
        "train_dataset = MyDataset(df=reduced_train, eval_mode=False)\n",
        "train_loader = DataLoader(train_dataset, batch_size=int(113842/10), shuffle=True, num_workers=6)\n",
        "\n",
        "reduced_val=pd.concat([reduced_val, val[['Class']]], axis=1)\n",
        "val_dataset = MyDataset(df = reduced_val, eval_mode=True)\n",
        "val_loader = DataLoader(val_dataset, batch_size=int(113842/10), shuffle=False, num_workers=6)"
      ],
      "metadata": {
        "id": "0UtKC_A2vLN-"
      },
      "execution_count": 42,
      "outputs": []
    },
    {
      "cell_type": "markdown",
      "metadata": {
        "id": "r2sOyy-yL_5h"
      },
      "source": [
        "# Modeling"
      ]
    },
    {
      "cell_type": "markdown",
      "source": [
        "## 모델 및 학습 정의"
      ],
      "metadata": {
        "id": "X-6nLWp2i5OF"
      }
    },
    {
      "cell_type": "code",
      "source": [
        "class AutoEncoder(nn.Module):\n",
        "    def __init__(self):\n",
        "        super(AutoEncoder, self).__init__()\n",
        "        self.Encoder = nn.Sequential(\n",
        "            nn.Linear(262,512),\n",
        "            nn.BatchNorm1d(512),\n",
        "            nn.LeakyReLU(),\n",
        "            nn.Linear(512,1024),\n",
        "            nn.BatchNorm1d(1024),\n",
        "            nn.LeakyReLU(),\n",
        "            nn.Linear(1024,2048),\n",
        "            nn.BatchNorm1d(2048),\n",
        "            nn.LeakyReLU(),\n",
        "        )\n",
        "        self.Decoder = nn.Sequential(\n",
        "            nn.Linear(2048, 1024),\n",
        "            nn.BatchNorm1d(1024),\n",
        "            nn.LeakyReLU(),\n",
        "            nn.Linear(1024,512),\n",
        "            nn.BatchNorm1d(512),\n",
        "            nn.LeakyReLU(),\n",
        "            nn.Linear(512,262),\n",
        "        )\n",
        "        \n",
        "    def forward(self, x):\n",
        "        x = self.Encoder(x)\n",
        "        x = self.Decoder(x)\n",
        "        return x"
      ],
      "metadata": {
        "id": "WrBrcYwDvVtt"
      },
      "execution_count": 43,
      "outputs": []
    },
    {
      "cell_type": "code",
      "source": [
        "class Trainer():\n",
        "    def __init__(self, model, optimizer, train_loader, val_loader, scheduler, device):\n",
        "        self.model = model\n",
        "        self.optimizer = optimizer\n",
        "        self.train_loader = train_loader\n",
        "        self.val_loader = val_loader\n",
        "        self.scheduler = scheduler\n",
        "        self.device = device\n",
        "        # Loss Function\n",
        "        self.criterion = nn.L1Loss().to(self.device)\n",
        "        \n",
        "    def fit(self):\n",
        "        self.model.to(self.device)\n",
        "        best_score = 0\n",
        "        avg = 1\n",
        "        for epoch in range(50):\n",
        "            self.model.train()\n",
        "            train_loss = []\n",
        "            for x in iter(self.train_loader):\n",
        "                x = x.float().to(self.device)\n",
        "                self.optimizer.zero_grad()\n",
        "\n",
        "                _x = self.model(x)\n",
        "                loss = self.criterion(x, _x)\n",
        "\n",
        "                loss.backward()\n",
        "                self.optimizer.step()\n",
        "\n",
        "                train_loss.append(loss.item())\n",
        "\n",
        "            score = self.validation(self.model, 0.95)\n",
        "            print(f'Epoch : [{epoch}] Train loss : [{np.mean(train_loss)}] Val Score : [{score}])')\n",
        "\n",
        "            if self.scheduler is not None:\n",
        "                self.scheduler.step(score)\n",
        "\n",
        "            if best_score <= score and avg > np.mean(train_loss):\n",
        "                best_score = score\n",
        "                avg = np.mean(train_loss)\n",
        "                torch.save(model.module.state_dict(), './best_model.pth', _use_new_zipfile_serialization=False)\n",
        "    \n",
        "    def validation(self, eval_model, thr):\n",
        "        cos = nn.CosineSimilarity(dim=1, eps=1e-6)\n",
        "        eval_model.eval()\n",
        "        pred = []\n",
        "        true = []\n",
        "        with torch.no_grad():\n",
        "            for x, y in iter(self.val_loader):\n",
        "                x = x.float().to(self.device)\n",
        "\n",
        "                _x = self.model(x)\n",
        "                diff = cos(x, _x).cpu().tolist()\n",
        "                batch_pred = np.where(np.array(diff)<thr, 1, 0).tolist()\n",
        "                pred += batch_pred\n",
        "                true += y.tolist()\n",
        "\n",
        "        return f1_score(true, pred, average='macro')"
      ],
      "metadata": {
        "id": "p2pI6aQFvY4n"
      },
      "execution_count": 44,
      "outputs": []
    },
    {
      "cell_type": "markdown",
      "source": [
        "## 모델 학습"
      ],
      "metadata": {
        "id": "h2cQqd1ci84k"
      }
    },
    {
      "cell_type": "code",
      "source": [
        "model = nn.DataParallel(AutoEncoder())\n",
        "model.eval()\n",
        "optimizer = torch.optim.Adam(params = model.parameters(), lr = 1e-2)\n",
        "scheduler = torch.optim.lr_scheduler.ReduceLROnPlateau(optimizer, mode='max', factor=0.5, patience=10, threshold_mode='abs', min_lr=1e-8, verbose=True)\n",
        "\n",
        "trainer = Trainer(model, optimizer, train_loader, val_loader, scheduler, device)\n",
        "trainer.fit()"
      ],
      "metadata": {
        "colab": {
          "base_uri": "https://localhost:8080/"
        },
        "id": "M6oS6iTQvlTD",
        "outputId": "16ddc0d0-353d-4731-f484-800fc698072b"
      },
      "execution_count": 45,
      "outputs": [
        {
          "output_type": "stream",
          "name": "stdout",
          "text": [
            "Epoch : [0] Train loss : [0.6497435217553919] Val Score : [0.8041895926750926])\n",
            "Epoch : [1] Train loss : [0.5368868275122209] Val Score : [0.8011148103321275])\n",
            "Epoch : [2] Train loss : [0.3333766609430313] Val Score : [0.9097393418694286])\n",
            "Epoch : [3] Train loss : [0.2706478373570876] Val Score : [0.5321359569389467])\n",
            "Epoch : [4] Train loss : [0.2462936815890399] Val Score : [0.8621517488551477])\n",
            "Epoch : [5] Train loss : [0.21488958597183228] Val Score : [0.7337149868788754])\n",
            "Epoch : [6] Train loss : [0.18206679956479507] Val Score : [0.8244378451249526])\n",
            "Epoch : [7] Train loss : [0.17206070504405283] Val Score : [0.01665046229561551])\n",
            "Epoch : [8] Train loss : [0.16249136423522775] Val Score : [0.8967110829723166])\n",
            "Epoch : [9] Train loss : [0.14066971601410347] Val Score : [0.8967110829723166])\n",
            "Epoch : [10] Train loss : [0.10216841101646423] Val Score : [0.8674887641844412])\n",
            "Epoch : [11] Train loss : [0.13636268726126713] Val Score : [0.6572765744515459])\n",
            "Epoch : [12] Train loss : [0.10385185480117798] Val Score : [0.7805557779616334])\n",
            "Epoch : [13] Train loss : [0.1365331360562281] Val Score : [0.856966968023358])\n",
            "Epoch 00014: reducing learning rate of group 0 to 5.0000e-03.\n",
            "Epoch : [14] Train loss : [0.09748463603583249] Val Score : [0.9097393418694286])\n",
            "Epoch : [15] Train loss : [0.05996204032139345] Val Score : [0.9097393418694286])\n",
            "Epoch : [16] Train loss : [0.08214480700817975] Val Score : [0.9031202878275757])\n",
            "Epoch : [17] Train loss : [0.07650721123950048] Val Score : [0.9031202878275757])\n",
            "Epoch : [18] Train loss : [0.06729935177347877] Val Score : [0.9031202878275757])\n",
            "Epoch : [19] Train loss : [0.05536859634925018] Val Score : [0.9097393418694286])\n",
            "Epoch : [20] Train loss : [0.06316405229947784] Val Score : [0.9097393418694286])\n",
            "Epoch : [21] Train loss : [0.0511644072830677] Val Score : [0.5351132536077376])\n",
            "Epoch : [22] Train loss : [0.054155106910250404] Val Score : [0.872984830495149])\n",
            "Epoch : [23] Train loss : [0.044777132401412185] Val Score : [0.9097393418694286])\n",
            "Epoch : [24] Train loss : [0.05869555270129984] Val Score : [0.9097393418694286])\n",
            "Epoch 00025: reducing learning rate of group 0 to 2.5000e-03.\n",
            "Epoch : [25] Train loss : [0.04800685562870719] Val Score : [0.9097393418694286])\n",
            "Epoch : [26] Train loss : [0.032650702548297966] Val Score : [0.9097393418694286])\n",
            "Epoch : [27] Train loss : [0.034618711014362896] Val Score : [0.9097393418694286])\n",
            "Epoch : [28] Train loss : [0.032210243357853455] Val Score : [0.9165787375726882])\n",
            "Epoch : [29] Train loss : [0.036015708253464916] Val Score : [0.9097393418694286])\n",
            "Epoch : [30] Train loss : [0.028313804079185833] Val Score : [0.9165787375726882])\n",
            "Epoch : [31] Train loss : [0.032906799746507946] Val Score : [0.9097393418694286])\n",
            "Epoch : [32] Train loss : [0.03410347390242598] Val Score : [0.9097393418694286])\n",
            "Epoch : [33] Train loss : [0.03244895344092087] Val Score : [0.9165787375726882])\n",
            "Epoch : [34] Train loss : [0.03941373408518054] Val Score : [0.9097393418694286])\n",
            "Epoch : [35] Train loss : [0.034383599646389484] Val Score : [0.9097393418694286])\n",
            "Epoch : [36] Train loss : [0.03306779908862981] Val Score : [0.9165787375726882])\n",
            "Epoch : [37] Train loss : [0.03546673973852938] Val Score : [0.9165787375726882])\n",
            "Epoch : [38] Train loss : [0.030463667755777187] Val Score : [0.9097393418694286])\n",
            "Epoch : [39] Train loss : [0.03571596843275157] Val Score : [0.9097393418694286])\n",
            "Epoch 00040: reducing learning rate of group 0 to 1.2500e-03.\n",
            "Epoch : [40] Train loss : [0.02718553099442612] Val Score : [0.9165787375726882])\n",
            "Epoch : [41] Train loss : [0.024405669928951698] Val Score : [0.9165787375726882])\n",
            "Epoch : [42] Train loss : [0.02304218023676764] Val Score : [0.9165787375726882])\n",
            "Epoch : [43] Train loss : [0.02658681630749594] Val Score : [0.9165787375726882])\n",
            "Epoch : [44] Train loss : [0.028606762262907894] Val Score : [0.9165787375726882])\n",
            "Epoch : [45] Train loss : [0.02844281079755588] Val Score : [0.9165787375726882])\n",
            "Epoch : [46] Train loss : [0.02205760692330924] Val Score : [0.9165787375726882])\n",
            "Epoch : [47] Train loss : [0.023444359529424797] Val Score : [0.9165787375726882])\n",
            "Epoch : [48] Train loss : [0.02419708457521417] Val Score : [0.9165787375726882])\n",
            "Epoch : [49] Train loss : [0.020425968295471233] Val Score : [0.9165787375726882])\n"
          ]
        }
      ]
    },
    {
      "cell_type": "markdown",
      "source": [
        "## 최고의 모델"
      ],
      "metadata": {
        "id": "uhFKGu_li_Jj"
      }
    },
    {
      "cell_type": "code",
      "source": [
        "model = AutoEncoder()\n",
        "model.load_state_dict(torch.load('./best_model.pth'))\n",
        "model = nn.DataParallel(model)\n",
        "model.eval()"
      ],
      "metadata": {
        "colab": {
          "base_uri": "https://localhost:8080/"
        },
        "id": "yayqQXjjeDhP",
        "outputId": "5a0ba69c-613c-49c0-fc97-685aace2f057"
      },
      "execution_count": 46,
      "outputs": [
        {
          "output_type": "execute_result",
          "data": {
            "text/plain": [
              "DataParallel(\n",
              "  (module): AutoEncoder(\n",
              "    (Encoder): Sequential(\n",
              "      (0): Linear(in_features=262, out_features=512, bias=True)\n",
              "      (1): BatchNorm1d(512, eps=1e-05, momentum=0.1, affine=True, track_running_stats=True)\n",
              "      (2): LeakyReLU(negative_slope=0.01)\n",
              "      (3): Linear(in_features=512, out_features=1024, bias=True)\n",
              "      (4): BatchNorm1d(1024, eps=1e-05, momentum=0.1, affine=True, track_running_stats=True)\n",
              "      (5): LeakyReLU(negative_slope=0.01)\n",
              "      (6): Linear(in_features=1024, out_features=2048, bias=True)\n",
              "      (7): BatchNorm1d(2048, eps=1e-05, momentum=0.1, affine=True, track_running_stats=True)\n",
              "      (8): LeakyReLU(negative_slope=0.01)\n",
              "    )\n",
              "    (Decoder): Sequential(\n",
              "      (0): Linear(in_features=2048, out_features=1024, bias=True)\n",
              "      (1): BatchNorm1d(1024, eps=1e-05, momentum=0.1, affine=True, track_running_stats=True)\n",
              "      (2): LeakyReLU(negative_slope=0.01)\n",
              "      (3): Linear(in_features=1024, out_features=512, bias=True)\n",
              "      (4): BatchNorm1d(512, eps=1e-05, momentum=0.1, affine=True, track_running_stats=True)\n",
              "      (5): LeakyReLU(negative_slope=0.01)\n",
              "      (6): Linear(in_features=512, out_features=262, bias=True)\n",
              "    )\n",
              "  )\n",
              ")"
            ]
          },
          "metadata": {},
          "execution_count": 46
        }
      ]
    },
    {
      "cell_type": "markdown",
      "metadata": {
        "id": "ciepK-yCMUoM"
      },
      "source": [
        "# Evaluation"
      ]
    },
    {
      "cell_type": "code",
      "source": [
        "def prediction(model, thr, test_loader, device):\n",
        "    model.to(device)\n",
        "    model.eval()\n",
        "    cos = nn.CosineSimilarity(dim=1, eps=1e-6)\n",
        "    pred = []\n",
        "    with torch.no_grad():\n",
        "        for x in iter(test_loader):\n",
        "            x = x.float().to(device)\n",
        "            _x = model(x)\n",
        "            \n",
        "            diff = cos(x, _x).cpu().tolist()\n",
        "            batch_pred = np.where(np.array(diff)<thr, 1,0).tolist()\n",
        "            pred += batch_pred\n",
        "    return pred"
      ],
      "metadata": {
        "id": "UtpUriEkvqtB"
      },
      "execution_count": 47,
      "outputs": []
    },
    {
      "cell_type": "code",
      "source": [
        "reduced_val = reduced_val.drop(columns=['Class'])\n",
        "val_dataset = MyDataset(reduced_val, False)\n",
        "val_loader = DataLoader(val_dataset, batch_size=int(113842/10), shuffle=False, num_workers=6)"
      ],
      "metadata": {
        "id": "ChGRte4Hx_cw"
      },
      "execution_count": 48,
      "outputs": []
    },
    {
      "cell_type": "code",
      "source": [
        "pred_val = prediction(model, 0.95, val_loader, device)"
      ],
      "metadata": {
        "id": "uJI9o3TSyJBB"
      },
      "execution_count": 49,
      "outputs": []
    },
    {
      "cell_type": "code",
      "execution_count": 50,
      "metadata": {
        "id": "01A06pL1MuY6"
      },
      "outputs": [],
      "source": [
        "val_score = f1_score(y_val, pred_val, average='macro')\n",
        "recall = recall_score(y_val, pred_val)\n",
        "precision = precision_score(y_val, pred_val)"
      ]
    },
    {
      "cell_type": "code",
      "execution_count": 51,
      "metadata": {
        "id": "vWgOeD0YM1F7",
        "colab": {
          "base_uri": "https://localhost:8080/"
        },
        "outputId": "065e4d04-8fbe-4ca5-d69e-e7df5438e677"
      },
      "outputs": [
        {
          "output_type": "stream",
          "name": "stdout",
          "text": [
            "Marco F1 Score : 0.9165787375726882\n",
            "\n",
            "Recall : 0.8333333333333334\n",
            "\n",
            "Precision : 0.8333333333333334\n",
            "\n",
            "              precision    recall  f1-score   support\n",
            "\n",
            "           0       1.00      1.00      1.00     28432\n",
            "           1       0.83      0.83      0.83        30\n",
            "\n",
            "    accuracy                           1.00     28462\n",
            "   macro avg       0.92      0.92      0.92     28462\n",
            "weighted avg       1.00      1.00      1.00     28462\n",
            "\n"
          ]
        }
      ],
      "source": [
        "print(f'Marco F1 Score : {val_score}\\n')\n",
        "print(f'Recall : {recall}\\n')\n",
        "print(f'Precision : {precision}\\n')\n",
        "print(classification_report(y_val, pred_val))"
      ]
    },
    {
      "cell_type": "code",
      "source": [
        "cf_matrix = confusion_matrix(y_val, pred_val)\n",
        "sns.heatmap(cf_matrix, annot=True)\n",
        "plt.show()"
      ],
      "metadata": {
        "colab": {
          "base_uri": "https://localhost:8080/",
          "height": 265
        },
        "id": "IsAxh2YKmZ0A",
        "outputId": "6807bd33-77ac-40d8-f38d-23366f7ce18e"
      },
      "execution_count": 52,
      "outputs": [
        {
          "output_type": "display_data",
          "data": {
            "text/plain": [
              "<Figure size 432x288 with 2 Axes>"
            ],
            "image/png": "[encoded data removed]"
          },
          "metadata": {
            "needs_background": "light"
          }
        }
      ]
    },
    {
      "cell_type": "markdown",
      "metadata": {
        "id": "o8x0ffGaNHcD"
      },
      "source": [
        "# Inference"
      ]
    },
    {
      "cell_type": "code",
      "source": [
        "test_dataset = MyDataset(reduced_test, False)\n",
        "test_loader = DataLoader(test_dataset, batch_size=int(113842/10), shuffle=False, num_workers=6)"
      ],
      "metadata": {
        "id": "LZD_layqvnW-"
      },
      "execution_count": 53,
      "outputs": []
    },
    {
      "cell_type": "code",
      "source": [
        "pred_test = prediction(model, 0.95, test_loader, device)"
      ],
      "metadata": {
        "id": "Pp7qIPk9vsy5"
      },
      "execution_count": 54,
      "outputs": []
    },
    {
      "cell_type": "markdown",
      "metadata": {
        "id": "aCscOd_xM_ka"
      },
      "source": [
        "# Submission"
      ]
    },
    {
      "cell_type": "code",
      "execution_count": 55,
      "metadata": {
        "id": "w3FfeD1xM68L"
      },
      "outputs": [],
      "source": [
        "submit = pd.read_csv('./sample_submission.csv')"
      ]
    },
    {
      "cell_type": "code",
      "execution_count": 56,
      "metadata": {
        "colab": {
          "base_uri": "https://localhost:8080/",
          "height": 206
        },
        "id": "XkUjToiZNB23",
        "outputId": "904b1f60-e2c7-452e-ab54-a537a6fc4a8b"
      },
      "outputs": [
        {
          "output_type": "execute_result",
          "data": {
            "text/plain": [
              "        ID  Class\n",
              "0  AAAA0x1      0\n",
              "1  AAAA0x2      0\n",
              "2  AAAA0x5      0\n",
              "3  AAAA0x7      0\n",
              "4  AAAA0xc      0"
            ],
            "text/html": [
              "\n",
              "  <div id=\"df-deee0514-f3e1-4c83-98a4-ddcc45515d85\">\n",
              "    <div class=\"colab-df-container\">\n",
              "      <div>\n",
              "<style scoped>\n",
              "    .dataframe tbody tr th:only-of-type {\n",
              "        vertical-align: middle;\n",
              "    }\n",
              "\n",
              "    .dataframe tbody tr th {\n",
              "        vertical-align: top;\n",
              "    }\n",
              "\n",
              "    .dataframe thead th {\n",
              "        text-align: right;\n",
              "    }\n",
              "</style>\n",
              "<table border=\"1\" class=\"dataframe\">\n",
              "  <thead>\n",
              "    <tr style=\"text-align: right;\">\n",
              "      <th></th>\n",
              "      <th>ID</th>\n",
              "      <th>Class</th>\n",
              "    </tr>\n",
              "  </thead>\n",
              "  <tbody>\n",
              "    <tr>\n",
              "      <th>0</th>\n",
              "      <td>AAAA0x1</td>\n",
              "      <td>0</td>\n",
              "    </tr>\n",
              "    <tr>\n",
              "      <th>1</th>\n",
              "      <td>AAAA0x2</td>\n",
              "      <td>0</td>\n",
              "    </tr>\n",
              "    <tr>\n",
              "      <th>2</th>\n",
              "      <td>AAAA0x5</td>\n",
              "      <td>0</td>\n",
              "    </tr>\n",
              "    <tr>\n",
              "      <th>3</th>\n",
              "      <td>AAAA0x7</td>\n",
              "      <td>0</td>\n",
              "    </tr>\n",
              "    <tr>\n",
              "      <th>4</th>\n",
              "      <td>AAAA0xc</td>\n",
              "      <td>0</td>\n",
              "    </tr>\n",
              "  </tbody>\n",
              "</table>\n",
              "</div>\n",
              "      <button class=\"colab-df-convert\" onclick=\"convertToInteractive('df-deee0514-f3e1-4c83-98a4-ddcc45515d85')\"\n",
              "              title=\"Convert this dataframe to an interactive table.\"\n",
              "              style=\"display:none;\">\n",
              "        \n",
              "  <svg xmlns=\"http://www.w3.org/2000/svg\" height=\"24px\"viewBox=\"0 0 24 24\"\n",
              "       width=\"24px\">\n",
              "    <path d=\"M0 0h24v24H0V0z\" fill=\"none\"/>\n",
              "    <path d=\"M18.56 5.44l.94 2.06.94-2.06 2.06-.94-2.06-.94-.94-2.06-.94 2.06-2.06.94zm-11 1L8.5 8.5l.94-2.06 2.06-.94-2.06-.94L8.5 2.5l-.94 2.06-2.06.94zm10 10l.94 2.06.94-2.06 2.06-.94-2.06-.94-.94-2.06-.94 2.06-2.06.94z\"/><path d=\"M17.41 7.96l-1.37-1.37c-.4-.4-.92-.59-1.43-.59-.52 0-1.04.2-1.43.59L10.3 9.45l-7.72 7.72c-.78.78-.78 2.05 0 2.83L4 21.41c.39.39.9.59 1.41.59.51 0 1.02-.2 1.41-.59l7.78-7.78 2.81-2.81c.8-.78.8-2.07 0-2.86zM5.41 20L4 18.59l7.72-7.72 1.47 1.35L5.41 20z\"/>\n",
              "  </svg>\n",
              "      </button>\n",
              "      \n",
              "  <style>\n",
              "    .colab-df-container {\n",
              "      display:flex;\n",
              "      flex-wrap:wrap;\n",
              "      gap: 12px;\n",
              "    }\n",
              "\n",
              "    .colab-df-convert {\n",
              "      background-color: #E8F0FE;\n",
              "      border: none;\n",
              "      border-radius: 50%;\n",
              "      cursor: pointer;\n",
              "      display: none;\n",
              "      fill: #1967D2;\n",
              "      height: 32px;\n",
              "      padding: 0 0 0 0;\n",
              "      width: 32px;\n",
              "    }\n",
              "\n",
              "    .colab-df-convert:hover {\n",
              "      background-color: #E2EBFA;\n",
              "      box-shadow: 0px 1px 2px rgba(60, 64, 67, 0.3), 0px 1px 3px 1px rgba(60, 64, 67, 0.15);\n",
              "      fill: #174EA6;\n",
              "    }\n",
              "\n",
              "    [theme=dark] .colab-df-convert {\n",
              "      background-color: #3B4455;\n",
              "      fill: #D2E3FC;\n",
              "    }\n",
              "\n",
              "    [theme=dark] .colab-df-convert:hover {\n",
              "      background-color: #434B5C;\n",
              "      box-shadow: 0px 1px 3px 1px rgba(0, 0, 0, 0.15);\n",
              "      filter: drop-shadow(0px 1px 2px rgba(0, 0, 0, 0.3));\n",
              "      fill: #FFFFFF;\n",
              "    }\n",
              "  </style>\n",
              "\n",
              "      <script>\n",
              "        const buttonEl =\n",
              "          document.querySelector('#df-deee0514-f3e1-4c83-98a4-ddcc45515d85 button.colab-df-convert');\n",
              "        buttonEl.style.display =\n",
              "          google.colab.kernel.accessAllowed ? 'block' : 'none';\n",
              "\n",
              "        async function convertToInteractive(key) {\n",
              "          const element = document.querySelector('#df-deee0514-f3e1-4c83-98a4-ddcc45515d85');\n",
              "          const dataTable =\n",
              "            await google.colab.kernel.invokeFunction('convertToInteractive',\n",
              "                                                     [key], {});\n",
              "          if (!dataTable) return;\n",
              "\n",
              "          const docLinkHtml = 'Like what you see? Visit the ' +\n",
              "            '<a target=\"_blank\" href=https://colab.research.google.com/notebooks/data_table.ipynb>data table notebook</a>'\n",
              "            + ' to learn more about interactive tables.';\n",
              "          element.innerHTML = '';\n",
              "          dataTable['output_type'] = 'display_data';\n",
              "          await google.colab.output.renderOutput(dataTable, element);\n",
              "          const docLink = document.createElement('div');\n",
              "          docLink.innerHTML = docLinkHtml;\n",
              "          element.appendChild(docLink);\n",
              "        }\n",
              "      </script>\n",
              "    </div>\n",
              "  </div>\n",
              "  "
            ]
          },
          "metadata": {},
          "execution_count": 56
        }
      ],
      "source": [
        "submit['Class'] = pred_test\n",
        "submit.head()"
      ]
    },
    {
      "cell_type": "code",
      "execution_count": null,
      "metadata": {
        "id": "fyEkwDUUNhj9"
      },
      "outputs": [],
      "source": [
        "submit.to_csv('./Auto_Encoder.csv', index=False)"
      ]
    }
  ],
  "metadata": {
    "colab": {
      "provenance": [],
      "machine_shape": "hm"
    },
    "kernelspec": {
      "display_name": "Python 3",
      "name": "python3"
    },
    "language_info": {
      "name": "python"
    },
    "accelerator": "GPU",
    "gpuClass": "premium"
  },
  "nbformat": 4,
  "nbformat_minor": 0
}