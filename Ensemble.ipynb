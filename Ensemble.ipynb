{
 "cells": [
  {
   "cell_type": "markdown",
   "metadata": {
    "id": "0vPHsxn1ewha"
   },
   "source": [
    "# Setting"
   ]
  },
  {
   "cell_type": "markdown",
   "metadata": {
    "id": "nNwOTh80expe"
   },
   "source": [
    "## Library"
   ]
  },
  {
   "cell_type": "code",
   "execution_count": 1,
   "metadata": {
    "id": "k3ETxus8eq8_"
   },
   "outputs": [],
   "source": [
    "# 데이터 다루기\n",
    "import pandas as pd\n",
    "import numpy as np\n",
    "from itertools import combinations\n",
    "\n",
    "# 전처리\n",
    "from sklearn.preprocessing import StandardScaler, MinMaxScaler, RobustScaler\n",
    "from sklearn.decomposition import PCA, KernelPCA, SparsePCA, TruncatedSVD, FastICA\n",
    "from sklearn.cluster import KMeans\n",
    "from sklearn.random_projection import GaussianRandomProjection, SparseRandomProjection\n",
    "\n",
    "# 모델링\n",
    "from sklearn.ensemble import IsolationForest\n",
    "from sklearn.neighbors import LocalOutlierFactor\n",
    "from sklearn.covariance import EllipticEnvelope\n",
    "\n",
    "from sklearn.metrics import f1_score\n",
    "from sklearn.metrics import recall_score # 재현율\n",
    "from sklearn.metrics import precision_score # 정밀도\n",
    "from sklearn.metrics import roc_auc_score\n",
    "from sklearn.metrics import confusion_matrix\n",
    "from sklearn.metrics import classification_report\n",
    "\n",
    "# 기타\n",
    "import os\n",
    "import random"
   ]
  },
  {
   "cell_type": "code",
   "execution_count": 2,
   "metadata": {
    "id": "06JGPDB7e0nn"
   },
   "outputs": [],
   "source": [
    "import matplotlib.pyplot as plt\n",
    "import seaborn as sns"
   ]
  },
  {
   "cell_type": "code",
   "execution_count": 3,
   "metadata": {
    "id": "Vv-xM2rXe5Yb"
   },
   "outputs": [],
   "source": [
    "import warnings\n",
    "warnings.filterwarnings(action='ignore')"
   ]
  },
  {
   "cell_type": "markdown",
   "metadata": {
    "id": "bpzYoKKXe7El"
   },
   "source": [
    "# Load Data Set"
   ]
  },
  {
   "cell_type": "markdown",
   "metadata": {
    "id": "oqbWnXvVfCtj"
   },
   "source": [
    "## Load Train / Val / Test Set"
   ]
  },
  {
   "cell_type": "code",
   "execution_count": 4,
   "metadata": {
    "id": "0u0qgA7vfCN_"
   },
   "outputs": [],
   "source": [
    "train = pd.read_csv('./train.csv')\n",
    "val = pd.read_csv('./val.csv')\n",
    "test = pd.read_csv('./test.csv')"
   ]
  },
  {
   "cell_type": "code",
   "execution_count": 5,
   "metadata": {
    "colab": {
     "base_uri": "https://localhost:8080/"
    },
    "id": "zBaOdFTtfFRJ",
    "outputId": "839ec5ff-9fb6-4ba4-c5e0-46df72ea155a"
   },
   "outputs": [
    {
     "data": {
      "text/plain": [
       "0    28432\n",
       "1       30\n",
       "Name: Class, dtype: int64"
      ]
     },
     "execution_count": 5,
     "metadata": {},
     "output_type": "execute_result"
    }
   ],
   "source": [
    "val['Class'].value_counts()"
   ]
  },
  {
   "cell_type": "markdown",
   "metadata": {
    "id": "MotqDdu6fGkO"
   },
   "source": [
    "# Preprocessing"
   ]
  },
  {
   "cell_type": "markdown",
   "metadata": {
    "id": "iz_Jk2jafH9M"
   },
   "source": [
    "## Feature Selection"
   ]
  },
  {
   "cell_type": "code",
   "execution_count": 6,
   "metadata": {
    "id": "chqseS7XfGTd"
   },
   "outputs": [],
   "source": [
    "X_train = train.drop(columns=['ID']) \n",
    "\n",
    "X_val = val.drop(columns=['ID', 'Class']) \n",
    "y_val = val['Class']\n",
    "\n",
    "X_test = test.drop(columns=['ID'])"
   ]
  },
  {
   "cell_type": "code",
   "execution_count": 7,
   "metadata": {
    "id": "gPjMbkWzfKaE"
   },
   "outputs": [],
   "source": [
    "X_train = X_train[['V3', 'V4', 'V9', 'V10', 'V11',\n",
    "                   'V12', 'V14', 'V16', 'V17', 'V18']]\n",
    "\n",
    "X_val = X_val[['V3', 'V4', 'V9', 'V10', 'V11',\n",
    "               'V12', 'V14', 'V16', 'V17', 'V18']]\n",
    "\n",
    "X_test = X_test[['V3', 'V4', 'V9', 'V10', 'V11',\n",
    "                 'V12', 'V14', 'V16', 'V17', 'V18']]"
   ]
  },
  {
   "cell_type": "code",
   "execution_count": 8,
   "metadata": {
    "colab": {
     "base_uri": "https://localhost:8080/"
    },
    "id": "hPfqCVwWfMCY",
    "outputId": "5a12959c-dc35-4d4f-a6e2-b348c1a6c494"
   },
   "outputs": [
    {
     "data": {
      "text/plain": [
       "10"
      ]
     },
     "execution_count": 8,
     "metadata": {},
     "output_type": "execute_result"
    }
   ],
   "source": [
    "len(X_train.columns)"
   ]
  },
  {
   "cell_type": "markdown",
   "metadata": {
    "id": "PN88THsQfNXI"
   },
   "source": [
    "## Scaling\n"
   ]
  },
  {
   "cell_type": "code",
   "execution_count": 9,
   "metadata": {
    "id": "0Hp2AeUxfNAM"
   },
   "outputs": [],
   "source": [
    "#scaler = StandardScaler()\n",
    "#scaler = MinMaxScaler()\n",
    "scaler = RobustScaler(quantile_range=(45.0, 55.0))\n",
    "\n",
    "scaled_train = scaler.fit_transform(X_train)\n",
    "scaled_val = scaler.transform(X_val)\n",
    "scaled_test = scaler.transform(X_test)\n",
    "\n",
    "scaled_train = pd.DataFrame(scaled_train)\n",
    "scaled_val = pd.DataFrame(scaled_val)\n",
    "scaled_test = pd.DataFrame(scaled_test)"
   ]
  },
  {
   "cell_type": "markdown",
   "metadata": {
    "id": "xzkuLlvffQEL"
   },
   "source": [
    "## 파생 변수"
   ]
  },
  {
   "cell_type": "code",
   "execution_count": 10,
   "metadata": {
    "colab": {
     "base_uri": "https://localhost:8080/"
    },
    "id": "NlGY0dIxfPSl",
    "outputId": "7c07cce4-ec07-46d2-96c7-1ac9a3f3e636"
   },
   "outputs": [
    {
     "name": "stdout",
     "output_type": "stream",
     "text": [
      "252\n"
     ]
    }
   ],
   "source": [
    "main_columns = list(scaled_train.columns)\n",
    "\n",
    "com_main = list(combinations(main_columns, 5))\n",
    "print(len(com_main))"
   ]
  },
  {
   "cell_type": "code",
   "execution_count": 11,
   "metadata": {
    "id": "w4Pgqq1lfSfM"
   },
   "outputs": [],
   "source": [
    "for com in com_main:\n",
    "\n",
    "  x = com[0]\n",
    "  y = com[1]\n",
    "  z = com[2]\n",
    "  w = com[3]\n",
    "  v = com[-1]\n",
    "\n",
    "  scaled_train[f'{x}_{y}_{z}_{w}_{v}_mean'] = (scaled_train[x] + \\\n",
    "                                               scaled_train[y] + \\\n",
    "                                               scaled_train[z] + \\\n",
    "                                               scaled_train[w] + \\\n",
    "                                               scaled_train[v]) / 5\n",
    "    \n",
    "  scaled_val[f'{x}_{y}_{z}_{w}_{v}_mean'] = (scaled_val[x] + \\\n",
    "                                             scaled_val[y] + \\\n",
    "                                             scaled_val[z] + \\\n",
    "                                             scaled_val[w] + \\\n",
    "                                             scaled_val[v]) / 5\n",
    "\n",
    "  scaled_test[f'{x}_{y}_{z}_{w}_{v}_mean'] = (scaled_test[x] + \\\n",
    "                                              scaled_test[y] + \\\n",
    "                                              scaled_test[z] + \\\n",
    "                                              scaled_test[w] + \\\n",
    "                                              scaled_test[v]) / 5"
   ]
  },
  {
   "cell_type": "code",
   "execution_count": 12,
   "metadata": {
    "colab": {
     "base_uri": "https://localhost:8080/"
    },
    "id": "XC7t82GBfUBn",
    "outputId": "65767c80-0b36-4e6b-dcd3-dde8b2e2faff"
   },
   "outputs": [
    {
     "name": "stdout",
     "output_type": "stream",
     "text": [
      "262\n"
     ]
    }
   ],
   "source": [
    "print(len(scaled_train.columns))\n",
    "n_components = len(scaled_train.columns)"
   ]
  },
  {
   "cell_type": "markdown",
   "metadata": {
    "id": "t3TqV--5fX4j"
   },
   "source": [
    "## Dimension Reduction"
   ]
  },
  {
   "cell_type": "code",
   "execution_count": 13,
   "metadata": {
    "id": "i6gOyBIcfVWc"
   },
   "outputs": [],
   "source": [
    "def dimension_reduction(train, val, test, dimesion_reducer,  random_state):\n",
    "\n",
    "  if dimesion_reducer == 'Sparse_Random_Projection':\n",
    "\n",
    "    reducer = SparseRandomProjection(n_components=262,\n",
    "                                     eps=0.1,\n",
    "                                     random_state=random_state)\n",
    "    \n",
    "  if dimesion_reducer == 'Sparse_PCA':\n",
    "\n",
    "    reducer = SparsePCA(n_components=262,\n",
    "                        alpha=0.001,\n",
    "                        random_state=random_state)\n",
    "\n",
    "  train = reducer.fit_transform(train)\n",
    "  val = reducer.transform(val)\n",
    "  test = reducer.transform(test)\n",
    "\n",
    "  train = pd.DataFrame(train)\n",
    "  val = pd.DataFrame(val)\n",
    "  test = pd.DataFrame(test)\n",
    "\n",
    "  return train, val, test"
   ]
  },
  {
   "cell_type": "markdown",
   "metadata": {
    "id": "RomPBdU0fh_e"
   },
   "source": [
    "# Modeling"
   ]
  },
  {
   "cell_type": "code",
   "execution_count": 14,
   "metadata": {
    "id": "mGWUZnkAfgwp"
   },
   "outputs": [],
   "source": [
    "def get_pred_label(model_pred):\n",
    "    # IsolationForest 모델 출력 (1:정상, -1:불량(사기)) 이므로 (0:정상, 1:불량(사기))로 Label 변환\n",
    "    model_pred = np.where(model_pred == 1, 0, model_pred)\n",
    "    model_pred = np.where(model_pred == -1, 1, model_pred)\n",
    "    return model_pred"
   ]
  },
  {
   "cell_type": "code",
   "execution_count": 15,
   "metadata": {
    "id": "4yryPD3_fnGr"
   },
   "outputs": [],
   "source": [
    "def modeling(result_val, result_test, num_root, dimesion_reducer, model, train, val, test):\n",
    "\n",
    "  result_val = np.zeros(val.shape[0])\n",
    "  result_test = np.zeros(test.shape[0])\n",
    "\n",
    "  for random_state in range(num_root):\n",
    "\n",
    "    reduced_train, reduced_val, reduced_test = dimension_reduction(\n",
    "                                                                   train=train,\n",
    "                                                                   val=val,\n",
    "                                                                   test=test,\n",
    "                                                                   dimesion_reducer=dimesion_reducer,\n",
    "                                                                   random_state=random_state\n",
    "                                                                   )\n",
    "    \n",
    "    if model == 'Isolate_Forest':\n",
    "\n",
    "      model = IsolationForest(n_estimators=300,\n",
    "                              max_samples=0.80,\n",
    "                              max_features=0.4,\n",
    "                              contamination=30/28432,\n",
    "                              random_state=random_state,\n",
    "                              verbose=0)\n",
    "      \n",
    "    if model == 'Elliptic_Envelope':\n",
    "\n",
    "      model = EllipticEnvelope(support_fraction=0.994,\n",
    "                               contamination=30/28432,\n",
    "                               random_state=random_state) \n",
    "\n",
    "\n",
    "    \n",
    "    model.fit(reduced_train)\n",
    "\n",
    "    pred_val = model.predict(reduced_val) # model prediction\n",
    "    pred_val = get_pred_label(pred_val)\n",
    "\n",
    "    result_val += pred_val\n",
    "\n",
    "    pred_test = model.predict(reduced_test) # model prediction\n",
    "    pred_test = get_pred_label(pred_test)\n",
    "\n",
    "    result_test += pred_test\n",
    "\n",
    "    val_score = f1_score(y_val, pred_val, average='macro')\n",
    "\n",
    "    print(f'\"{random_state}\" Marco F1 Score : {val_score}')\n",
    "\n",
    "  return result_val, result_test"
   ]
  },
  {
   "cell_type": "markdown",
   "metadata": {
    "id": "p13na5OOgEKK"
   },
   "source": [
    "## Sparse PCA + Isolate Forest"
   ]
  },
  {
   "cell_type": "code",
   "execution_count": 16,
   "metadata": {
    "id": "BrCWAjlEgCCI"
   },
   "outputs": [],
   "source": [
    "result_val = np.zeros(val.shape[0])\n",
    "result_test = np.zeros(test.shape[0])"
   ]
  },
  {
   "cell_type": "code",
   "execution_count": 17,
   "metadata": {
    "id": "6mPRIWBXhkHY"
   },
   "outputs": [
    {
     "name": "stdout",
     "output_type": "stream",
     "text": [
      "\"0\" Marco F1 Score : 0.8212527256101849\n",
      "\"1\" Marco F1 Score : 0.851711180144449\n",
      "\"2\" Marco F1 Score : 0.8453050791372196\n",
      "\"3\" Marco F1 Score : 0.8453050791372196\n"
     ]
    }
   ],
   "source": [
    "result_val_PCA_ISF,  result_test_PCA_ISF = modeling(result_val=result_val,\n",
    "                                                    result_test=result_test,\n",
    "                                                    num_root=4,\n",
    "                                                    dimesion_reducer='Sparse_PCA',\n",
    "                                                    model='Isolate_Forest',\n",
    "                                                    train=scaled_train,\n",
    "                                                    val=scaled_val,\n",
    "                                                    test=scaled_test)"
   ]
  },
  {
   "cell_type": "markdown",
   "metadata": {
    "id": "OY4xT5itjM2Z"
   },
   "source": [
    "## Sparse Random Projection + Isolate Forest"
   ]
  },
  {
   "cell_type": "code",
   "execution_count": 18,
   "metadata": {
    "id": "2gz1dQSxiECb"
   },
   "outputs": [
    {
     "name": "stdout",
     "output_type": "stream",
     "text": [
      "\"0\" Marco F1 Score : 0.8331750776625051\n",
      "\"1\" Marco F1 Score : 0.8394731804484362\n",
      "\"2\" Marco F1 Score : 0.8598769209128951\n",
      "\"3\" Marco F1 Score : 0.8394731804484362\n"
     ]
    }
   ],
   "source": [
    "result_val_SRP_ISF,  result_test_SRP_ISF = modeling(result_val=result_val,\n",
    "                                                    result_test=result_test,\n",
    "                                                    num_root=4,\n",
    "                                                    dimesion_reducer='Sparse_Random_Projection',\n",
    "                                                    model='Isolate_Forest',\n",
    "                                                    train=scaled_train,\n",
    "                                                    val=scaled_val,\n",
    "                                                    test=scaled_test)"
   ]
  },
  {
   "cell_type": "markdown",
   "metadata": {
    "id": "YI__MUeJjj_U"
   },
   "source": [
    "## Sparse PCA + Elliptic Envelope"
   ]
  },
  {
   "cell_type": "code",
   "execution_count": 19,
   "metadata": {
    "id": "flt4QSmLjsum"
   },
   "outputs": [
    {
     "name": "stdout",
     "output_type": "stream",
     "text": [
      "\"0\" Marco F1 Score : 0.8858506104888013\n",
      "\"1\" Marco F1 Score : 0.8858506104888013\n",
      "\"2\" Marco F1 Score : 0.8858506104888013\n",
      "\"3\" Marco F1 Score : 0.8858506104888013\n"
     ]
    }
   ],
   "source": [
    "result_val_PCA_EE,  result_test_PCA_EE = modeling(result_val=result_val,\n",
    "                                                  result_test=result_test,\n",
    "                                                  num_root=4,\n",
    "                                                  dimesion_reducer='Sparse_PCA',\n",
    "                                                  model='Elliptic_Envelope',\n",
    "                                                  train=scaled_train,\n",
    "                                                  val=scaled_val,\n",
    "                                                  test=scaled_test)"
   ]
  },
  {
   "cell_type": "markdown",
   "metadata": {
    "id": "YexS9gPbju6k"
   },
   "source": [
    "## Sparse Random Projection + Elliptic Envelope"
   ]
  },
  {
   "cell_type": "code",
   "execution_count": 20,
   "metadata": {
    "id": "3_RHGjDJjppw"
   },
   "outputs": [
    {
     "name": "stdout",
     "output_type": "stream",
     "text": [
      "\"0\" Marco F1 Score : 0.8858506104888013\n",
      "\"1\" Marco F1 Score : 0.8858506104888013\n",
      "\"2\" Marco F1 Score : 0.8858506104888013\n",
      "\"3\" Marco F1 Score : 0.8858506104888013\n"
     ]
    }
   ],
   "source": [
    "result_val_SRP_EE,  result_test_SRP_EE = modeling(result_val=result_val,\n",
    "                                                  result_test=result_test,\n",
    "                                                  num_root=4,\n",
    "                                                  dimesion_reducer='Sparse_Random_Projection',\n",
    "                                                  model='Elliptic_Envelope',\n",
    "                                                  train=scaled_train,\n",
    "                                                  val=scaled_val,\n",
    "                                                  test=scaled_test)"
   ]
  },
  {
   "cell_type": "markdown",
   "metadata": {
    "id": "h4om4b3Dj5sS"
   },
   "source": [
    "# Ensemble"
   ]
  },
  {
   "cell_type": "code",
   "execution_count": 21,
   "metadata": {
    "id": "wOhoO1Tpj7FE"
   },
   "outputs": [],
   "source": [
    "result_val = result_val_PCA_ISF + \\\n",
    "             result_val_SRP_ISF + \\\n",
    "             result_val_PCA_EE + \\\n",
    "             result_val_SRP_EE\n",
    "\n",
    "result_test = result_test_PCA_ISF + \\\n",
    "              result_test_SRP_ISF + \\\n",
    "              result_test_PCA_EE + \\\n",
    "              result_test_SRP_EE"
   ]
  },
  {
   "cell_type": "code",
   "execution_count": 22,
   "metadata": {
    "id": "3DVLmsdRkcXe"
   },
   "outputs": [],
   "source": [
    "def check(result, ts, val):\n",
    "\n",
    "  pred_result = []\n",
    "\n",
    "  for i in result:\n",
    "\n",
    "    if i >= ts:\n",
    "\n",
    "      i = 1\n",
    "\n",
    "    else:\n",
    "\n",
    "      i = 0\n",
    "\n",
    "    pred_result.append(i)\n",
    "\n",
    "  if val == True:\n",
    "\n",
    "    val_score = f1_score(y_val, pred_result, average='macro')\n",
    "    recall = recall_score(y_val, pred_result)\n",
    "    precision = precision_score(y_val, pred_result)\n",
    "\n",
    "    print(f'Marco F1 Score : {val_score}\\n')\n",
    "    print(f'Recall : {recall}\\n')\n",
    "    print(f'Precision : {precision}\\n')\n",
    "\n",
    "    print(classification_report(y_val, pred_result))\n",
    "\n",
    "  return pred_resul"
   ]
  },
  {
   "cell_type": "code",
   "execution_count": 71,
   "metadata": {
    "id": "kLaXuwivkd8A"
   },
   "outputs": [
    {
     "name": "stdout",
     "output_type": "stream",
     "text": [
      "Marco F1 Score : 0.8858506104888013\n",
      "\n",
      "Recall : 0.7333333333333333\n",
      "\n",
      "Precision : 0.8148148148148148\n",
      "\n",
      "              precision    recall  f1-score   support\n",
      "\n",
      "           0       1.00      1.00      1.00     28432\n",
      "           1       0.81      0.73      0.77        30\n",
      "\n",
      "    accuracy                           1.00     28462\n",
      "   macro avg       0.91      0.87      0.89     28462\n",
      "weighted avg       1.00      1.00      1.00     28462\n",
      "\n"
     ]
    }
   ],
   "source": [
    "pred_val = check(result_val_SRP_EE, 4, val=True)"
   ]
  },
  {
   "cell_type": "code",
   "execution_count": 63,
   "metadata": {
    "id": "FvBhQHDhkfNN"
   },
   "outputs": [],
   "source": [
    "pred_test = check(result_test, 8, val=False)"
   ]
  },
  {
   "cell_type": "markdown",
   "metadata": {
    "id": "uY0c_56DkhBA"
   },
   "source": [
    "# Submission"
   ]
  },
  {
   "cell_type": "code",
   "execution_count": 64,
   "metadata": {
    "id": "Z_cqwi3jkh0D"
   },
   "outputs": [],
   "source": [
    "submit = pd.read_csv('./sample_submission.csv')"
   ]
  },
  {
   "cell_type": "code",
   "execution_count": 65,
   "metadata": {
    "id": "ypwFqCX_klKq"
   },
   "outputs": [
    {
     "data": {
      "text/html": [
       "<div>\n",
       "<style scoped>\n",
       "    .dataframe tbody tr th:only-of-type {\n",
       "        vertical-align: middle;\n",
       "    }\n",
       "\n",
       "    .dataframe tbody tr th {\n",
       "        vertical-align: top;\n",
       "    }\n",
       "\n",
       "    .dataframe thead th {\n",
       "        text-align: right;\n",
       "    }\n",
       "</style>\n",
       "<table border=\"1\" class=\"dataframe\">\n",
       "  <thead>\n",
       "    <tr style=\"text-align: right;\">\n",
       "      <th></th>\n",
       "      <th>ID</th>\n",
       "      <th>Class</th>\n",
       "    </tr>\n",
       "  </thead>\n",
       "  <tbody>\n",
       "    <tr>\n",
       "      <th>0</th>\n",
       "      <td>AAAA0x1</td>\n",
       "      <td>0</td>\n",
       "    </tr>\n",
       "    <tr>\n",
       "      <th>1</th>\n",
       "      <td>AAAA0x2</td>\n",
       "      <td>0</td>\n",
       "    </tr>\n",
       "    <tr>\n",
       "      <th>2</th>\n",
       "      <td>AAAA0x5</td>\n",
       "      <td>0</td>\n",
       "    </tr>\n",
       "    <tr>\n",
       "      <th>3</th>\n",
       "      <td>AAAA0x7</td>\n",
       "      <td>0</td>\n",
       "    </tr>\n",
       "    <tr>\n",
       "      <th>4</th>\n",
       "      <td>AAAA0xc</td>\n",
       "      <td>0</td>\n",
       "    </tr>\n",
       "  </tbody>\n",
       "</table>\n",
       "</div>"
      ],
      "text/plain": [
       "        ID  Class\n",
       "0  AAAA0x1      0\n",
       "1  AAAA0x2      0\n",
       "2  AAAA0x5      0\n",
       "3  AAAA0x7      0\n",
       "4  AAAA0xc      0"
      ]
     },
     "execution_count": 65,
     "metadata": {},
     "output_type": "execute_result"
    }
   ],
   "source": [
    "submit['Class'] = pred_test\n",
    "submit.head()"
   ]
  },
  {
   "cell_type": "code",
   "execution_count": 66,
   "metadata": {
    "id": "lzojL9QVknFx"
   },
   "outputs": [],
   "source": [
    "submit.to_csv('./submission_20.csv', index=False)"
   ]
  },
  {
   "cell_type": "code",
   "execution_count": null,
   "metadata": {},
   "outputs": [],
   "source": []
  }
 ],
 "metadata": {
  "colab": {
   "provenance": []
  },
  "kernelspec": {
   "display_name": "Python 3 (ipykernel)",
   "language": "python",
   "name": "python3"
  },
  "language_info": {
   "codemirror_mode": {
    "name": "ipython",
    "version": 3
   },
   "file_extension": ".py",
   "mimetype": "text/x-python",
   "name": "python",
   "nbconvert_exporter": "python",
   "pygments_lexer": "ipython3",
   "version": "3.9.12"
  }
 },
 "nbformat": 4,
 "nbformat_minor": 1
}
