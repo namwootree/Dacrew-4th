{
  "nbformat": 4,
  "nbformat_minor": 0,
  "metadata": {
    "colab": {
      "provenance": []
    },
    "kernelspec": {
      "name": "python3",
      "display_name": "Python 3"
    },
    "language_info": {
      "name": "python"
    }
  },
  "cells": [
    {
      "cell_type": "markdown",
      "source": [
        "# Setting"
      ],
      "metadata": {
        "id": "JdAtq5mbLJ6T"
      }
    },
    {
      "cell_type": "markdown",
      "source": [
        "## Library"
      ],
      "metadata": {
        "id": "LpzRbxF8LLF1"
      }
    },
    {
      "cell_type": "code",
      "execution_count": 1,
      "metadata": {
        "id": "4lA5ZR29K-Ec"
      },
      "outputs": [],
      "source": [
        "# 데이터 다루기\n",
        "import pandas as pd\n",
        "import numpy as np\n",
        "from itertools import combinations\n",
        "\n",
        "# 전처리\n",
        "from sklearn.preprocessing import StandardScaler, MinMaxScaler, RobustScaler\n",
        "from sklearn.decomposition import PCA, KernelPCA, SparsePCA, TruncatedSVD, FastICA\n",
        "from sklearn.cluster import KMeans\n",
        "from sklearn.random_projection import GaussianRandomProjection, SparseRandomProjection\n",
        "\n",
        "# 모델링\n",
        "from sklearn.ensemble import IsolationForest\n",
        "from sklearn.neighbors import LocalOutlierFactor\n",
        "from sklearn.covariance import EllipticEnvelope\n",
        "\n",
        "from sklearn.metrics import f1_score\n",
        "from sklearn.metrics import recall_score # 재현율\n",
        "from sklearn.metrics import precision_score # 정밀도\n",
        "from sklearn.metrics import confusion_matrix\n",
        "from sklearn.metrics import classification_report\n",
        "\n",
        "# 기타\n",
        "import os\n",
        "import random"
      ]
    },
    {
      "cell_type": "code",
      "source": [
        "import matplotlib.pyplot as plt\n",
        "import seaborn as sns"
      ],
      "metadata": {
        "id": "y_7_ODAYmF_e"
      },
      "execution_count": 2,
      "outputs": []
    },
    {
      "cell_type": "code",
      "source": [
        "import warnings\n",
        "warnings.filterwarnings(action='ignore')"
      ],
      "metadata": {
        "id": "t5Jlc229LOB6"
      },
      "execution_count": 3,
      "outputs": []
    },
    {
      "cell_type": "markdown",
      "source": [
        "## Fixed Random Seed"
      ],
      "metadata": {
        "id": "RAlVaaC_LS1M"
      }
    },
    {
      "cell_type": "code",
      "source": [
        "def seed_everything(seed):\n",
        "    random.seed(seed)\n",
        "    os.environ['PYTHONHASHSEED'] = str(seed)\n",
        "    np.random.seed(seed)\n",
        "\n",
        "seed_everything(42) # Seed 고정"
      ],
      "metadata": {
        "id": "S0bKBShiLREc"
      },
      "execution_count": 4,
      "outputs": []
    },
    {
      "cell_type": "markdown",
      "source": [
        "# Load Data Set"
      ],
      "metadata": {
        "id": "pzNq6q70LY34"
      }
    },
    {
      "cell_type": "markdown",
      "source": [
        "## Googel Drive Mount"
      ],
      "metadata": {
        "id": "aP8Z0AMzLbCl"
      }
    },
    {
      "cell_type": "code",
      "source": [
        "from google.colab import drive\n",
        "drive.mount('/content/drive')"
      ],
      "metadata": {
        "colab": {
          "base_uri": "https://localhost:8080/"
        },
        "id": "dTDPQ6ipLYMN",
        "outputId": "d8a71926-602f-4a51-8bfb-453784d27fe4"
      },
      "execution_count": 5,
      "outputs": [
        {
          "output_type": "stream",
          "name": "stdout",
          "text": [
            "Mounted at /content/drive\n"
          ]
        }
      ]
    },
    {
      "cell_type": "markdown",
      "source": [
        "## Unzip File"
      ],
      "metadata": {
        "id": "tMfGxw7WLlFM"
      }
    },
    {
      "cell_type": "code",
      "source": [
        "!unzip --qq '/content/drive/MyDrive/머신러닝 엔지니어링/데이콘/사기거래/data/사기거래.zip'"
      ],
      "metadata": {
        "id": "CH2iRFNbLdcd"
      },
      "execution_count": 6,
      "outputs": []
    },
    {
      "cell_type": "markdown",
      "source": [
        "## Load Train / Val / Test Set"
      ],
      "metadata": {
        "id": "jcIJmupMLpBu"
      }
    },
    {
      "cell_type": "code",
      "source": [
        "train = pd.read_csv('/content/train.csv')\n",
        "val = pd.read_csv('/content/val.csv')\n",
        "test = pd.read_csv('/content/test.csv')"
      ],
      "metadata": {
        "id": "oNdbFSuoLoiJ"
      },
      "execution_count": 7,
      "outputs": []
    },
    {
      "cell_type": "code",
      "source": [
        "val['Class'].value_counts()"
      ],
      "metadata": {
        "colab": {
          "base_uri": "https://localhost:8080/"
        },
        "id": "E5fV_viiMIJD",
        "outputId": "391d67f2-74e0-425a-c4c4-1ac507cd89c8"
      },
      "execution_count": 8,
      "outputs": [
        {
          "output_type": "execute_result",
          "data": {
            "text/plain": [
              "0    28432\n",
              "1       30\n",
              "Name: Class, dtype: int64"
            ]
          },
          "metadata": {},
          "execution_count": 8
        }
      ]
    },
    {
      "cell_type": "markdown",
      "source": [
        "# Preprocessing"
      ],
      "metadata": {
        "id": "AU3zE34BL3Oi"
      }
    },
    {
      "cell_type": "markdown",
      "source": [
        "## Feature Selection"
      ],
      "metadata": {
        "id": "o4fKPoX5VJJm"
      }
    },
    {
      "cell_type": "code",
      "source": [
        "X_train = train.drop(columns=['ID']) \n",
        "\n",
        "X_val = val.drop(columns=['ID', 'Class']) \n",
        "y_val = val['Class']\n",
        "\n",
        "X_test = test.drop(columns=['ID'])"
      ],
      "metadata": {
        "id": "RIoIVhn6LsQ-"
      },
      "execution_count": 17,
      "outputs": []
    },
    {
      "cell_type": "code",
      "source": [
        "X_train = X_train[['V3', 'V4', 'V9', 'V10', 'V11', 'V12', 'V14', 'V16', 'V17', 'V18']]\n",
        "\n",
        "X_val = X_val[['V3', 'V4', 'V9', 'V10', 'V11', 'V12', 'V14', 'V16', 'V17', 'V18']]\n",
        "\n",
        "X_test = X_test[['V3', 'V4', 'V9', 'V10', 'V11', 'V12', 'V14', 'V16', 'V17', 'V18']]"
      ],
      "metadata": {
        "id": "-O6WI_4jOUjU"
      },
      "execution_count": 18,
      "outputs": []
    },
    {
      "cell_type": "code",
      "source": [
        "len(X_train.columns)"
      ],
      "metadata": {
        "colab": {
          "base_uri": "https://localhost:8080/"
        },
        "id": "Ney8Zsfof8F3",
        "outputId": "a062903d-9ce4-46d9-bcc6-43b19418351e"
      },
      "execution_count": 19,
      "outputs": [
        {
          "output_type": "execute_result",
          "data": {
            "text/plain": [
              "10"
            ]
          },
          "metadata": {},
          "execution_count": 19
        }
      ]
    },
    {
      "cell_type": "markdown",
      "source": [
        "## Scaling"
      ],
      "metadata": {
        "id": "Q6q9xXOhR1Kd"
      }
    },
    {
      "cell_type": "code",
      "source": [
        "#scaler = StandardScaler()\n",
        "#scaler = MinMaxScaler()\n",
        "scaler = RobustScaler(quantile_range=(45.0, 55.0))\n",
        "\n",
        "scaled_train = scaler.fit_transform(X_train)\n",
        "scaled_val = scaler.transform(X_val)\n",
        "scaled_test = scaler.transform(X_test)\n",
        "\n",
        "scaled_train = pd.DataFrame(scaled_train)\n",
        "scaled_val = pd.DataFrame(scaled_val)\n",
        "scaled_test = pd.DataFrame(scaled_test)"
      ],
      "metadata": {
        "id": "iiK1dVoCcjeU"
      },
      "execution_count": 20,
      "outputs": []
    },
    {
      "cell_type": "code",
      "source": [
        "#scaler = StandardScaler()\n",
        "scaler = MinMaxScaler()\n",
        "#scaler = RobustScaler(quantile_range=(45.0, 55.0))\n",
        "\n",
        "scaled_train = scaler.fit_transform(scaled_train)\n",
        "scaled_val = scaler.transform(scaled_val)\n",
        "scaled_test = scaler.transform(scaled_test)\n",
        "\n",
        "scaled_train = pd.DataFrame(scaled_train)\n",
        "scaled_val = pd.DataFrame(scaled_val)\n",
        "scaled_test = pd.DataFrame(scaled_test)"
      ],
      "metadata": {
        "id": "WZ9OYFonQdf1"
      },
      "execution_count": 21,
      "outputs": []
    },
    {
      "cell_type": "markdown",
      "source": [
        "## 파생 변수"
      ],
      "metadata": {
        "id": "P35An1inVLO4"
      }
    },
    {
      "cell_type": "code",
      "source": [
        "main_columns = list(scaled_train.columns)\n",
        "\n",
        "com_main = list(combinations(main_columns, 5))\n",
        "print(len(com_main))"
      ],
      "metadata": {
        "colab": {
          "base_uri": "https://localhost:8080/"
        },
        "id": "_nfo_9XcSKdm",
        "outputId": "88c1c4ce-8548-4039-c994-3dba262f5d79"
      },
      "execution_count": 22,
      "outputs": [
        {
          "output_type": "stream",
          "name": "stdout",
          "text": [
            "252\n"
          ]
        }
      ]
    },
    {
      "cell_type": "code",
      "source": [
        "for com in com_main:\n",
        "\n",
        "  x = com[0]\n",
        "  y = com[1]\n",
        "  z = com[2]\n",
        "  w = com[3]\n",
        "  v = com[-1]\n",
        "\n",
        "  scaled_train[f'{x}_{y}_{z}_{w}_{v}_mean'] = (scaled_train[x] + scaled_train[y] + scaled_train[z] + scaled_train[w] + scaled_train[v]) / 5\n",
        "  scaled_val[f'{x}_{y}_{z}_{w}_{v}_mean'] = (scaled_val[x] + scaled_val[y] + scaled_val[z] + scaled_val[w] + scaled_val[v]) / 5\n",
        "  scaled_test[f'{x}_{y}_{z}_{w}_{v}_mean'] = (scaled_test[x] + scaled_test[y] + scaled_test[z] + scaled_test[w] + scaled_test[v]) / 5"
      ],
      "metadata": {
        "id": "mPBv729ISivs"
      },
      "execution_count": 23,
      "outputs": []
    },
    {
      "cell_type": "code",
      "source": [
        "print(len(scaled_train.columns))\n",
        "n_components = len(scaled_train.columns)"
      ],
      "metadata": {
        "colab": {
          "base_uri": "https://localhost:8080/"
        },
        "id": "eaj3ZD03S_-6",
        "outputId": "51c51cf9-def8-4f6d-edff-88865aeda02d"
      },
      "execution_count": 24,
      "outputs": [
        {
          "output_type": "stream",
          "name": "stdout",
          "text": [
            "262\n"
          ]
        }
      ]
    },
    {
      "cell_type": "markdown",
      "source": [
        "## Dimension Reduction"
      ],
      "metadata": {
        "id": "vEDmeDxHSJsF"
      }
    },
    {
      "cell_type": "code",
      "source": [
        "def dimension_isolate_forest(train, val, test, random_state):\n",
        "\n",
        "  dimesion_reducer = SparseRandomProjection(n_components=262, eps=0.1, random_state=random_state)\n",
        "  #dimesion_reducer = SparsePCA(n_components=128, alpha=0.001, random_state=random_state)\n",
        "\n",
        "  train = dimesion_reducer.fit_transform(train)\n",
        "  val = dimesion_reducer.transform(val)\n",
        "  test = dimesion_reducer.transform(test)\n",
        "\n",
        "  train = pd.DataFrame(train)\n",
        "  val = pd.DataFrame(val)\n",
        "  test = pd.DataFrame(test)\n",
        "\n",
        "  return train, val, test\n"
      ],
      "metadata": {
        "id": "VFCUfbONlGyN"
      },
      "execution_count": 25,
      "outputs": []
    },
    {
      "cell_type": "markdown",
      "source": [
        "# Modeling"
      ],
      "metadata": {
        "id": "r2sOyy-yL_5h"
      }
    },
    {
      "cell_type": "code",
      "source": [
        "def get_pred_label(model_pred):\n",
        "    # IsolationForest 모델 출력 (1:정상, -1:불량(사기)) 이므로 (0:정상, 1:불량(사기))로 Label 변환\n",
        "    model_pred = np.where(model_pred == 1, 0, model_pred)\n",
        "    model_pred = np.where(model_pred == -1, 1, model_pred)\n",
        "    return model_pred"
      ],
      "metadata": {
        "id": "iRAt4uV5MSbp"
      },
      "execution_count": 26,
      "outputs": []
    },
    {
      "cell_type": "code",
      "source": [
        "result_val = np.zeros(val.shape[0])\n",
        "result_test = np.zeros(test.shape[0])\n",
        "\n",
        "for rs in range(20):\n",
        "\n",
        "  reduced_train, reduced_val, reduced_test = dimension_isolate_forest(scaled_train,\n",
        "                                                                      scaled_val,\n",
        "                                                                      scaled_test,\n",
        "                                                                      rs)\n",
        "  \n",
        "  model = IsolationForest(n_estimators=300,\n",
        "                        max_samples=0.80,\n",
        "                        max_features=0.4,\n",
        "                        contamination=30/28432,\n",
        "                        random_state=rs,\n",
        "                        verbose=0)\n",
        "  \n",
        "  model.fit(reduced_train)\n",
        "\n",
        "  pred_val = model.predict(reduced_val) # model prediction\n",
        "  pred_val = get_pred_label(pred_val)\n",
        "\n",
        "  result_val += pred_val\n",
        "\n",
        "\n",
        "  pred_test = model.predict(reduced_test) # model prediction\n",
        "  pred_test = get_pred_label(pred_test)\n",
        "\n",
        "  result_test += pred_test\n",
        "\n",
        "  val_score = f1_score(y_val, pred_val, average='macro')\n",
        "\n",
        "  print(f'\"{rs}\" Marco F1 Score : {val_score}')"
      ],
      "metadata": {
        "colab": {
          "base_uri": "https://localhost:8080/"
        },
        "id": "qWE0-QEpnANS",
        "outputId": "4daa50d5-5466-423b-d7a1-b44b20383a6c"
      },
      "execution_count": null,
      "outputs": [
        {
          "output_type": "stream",
          "name": "stdout",
          "text": [
            "\"0\" Marco F1 Score : 0.8460131793934016\n",
            "\"1\" Marco F1 Score : 0.8271056766827749\n",
            "\"2\" Marco F1 Score : 0.8394731804484362\n",
            "\"3\" Marco F1 Score : 0.8394731804484362\n"
          ]
        }
      ]
    },
    {
      "cell_type": "markdown",
      "source": [
        "# Evaluation"
      ],
      "metadata": {
        "id": "ciepK-yCMUoM"
      }
    },
    {
      "cell_type": "code",
      "source": [
        "def check(result, ts, val):\n",
        "\n",
        "  pred_result = []\n",
        "\n",
        "  for i in result:\n",
        "\n",
        "    if i >= ts:\n",
        "\n",
        "      i = 1\n",
        "\n",
        "    else:\n",
        "\n",
        "      i = 0\n",
        "\n",
        "    pred_result.append(i)\n",
        "\n",
        "  if val == True:\n",
        "\n",
        "    val_score = f1_score(y_val, pred_result, average='macro')\n",
        "    recall = recall_score(y_val, pred_result)\n",
        "    precision = precision_score(y_val, pred_result)\n",
        "\n",
        "    print(f'Marco F1 Score : {val_score}\\n')\n",
        "    print(f'Recall : {recall}\\n')\n",
        "    print(f'Precision : {precision}\\n')\n",
        "\n",
        "    print(classification_report(y_val, pred_result))\n",
        "\n",
        "  return pred_result"
      ],
      "metadata": {
        "id": "2tginMJNsvrD"
      },
      "execution_count": null,
      "outputs": []
    },
    {
      "cell_type": "code",
      "source": [
        "pred_val = check(result_val, 1, val=True)"
      ],
      "metadata": {
        "id": "Fk-R9kfcs5N3",
        "colab": {
          "base_uri": "https://localhost:8080/"
        },
        "outputId": "d6cf7c0c-6e37-48d4-d089-cfa1a12cb808"
      },
      "execution_count": null,
      "outputs": [
        {
          "output_type": "stream",
          "name": "stdout",
          "text": [
            "Marco F1 Score : 0.7810037812170243\n",
            "\n",
            "Recall : 0.6\n",
            "\n",
            "Precision : 0.5294117647058824\n",
            "\n",
            "              precision    recall  f1-score   support\n",
            "\n",
            "           0       1.00      1.00      1.00     28432\n",
            "           1       0.53      0.60      0.56        30\n",
            "\n",
            "    accuracy                           1.00     28462\n",
            "   macro avg       0.76      0.80      0.78     28462\n",
            "weighted avg       1.00      1.00      1.00     28462\n",
            "\n"
          ]
        }
      ]
    },
    {
      "cell_type": "markdown",
      "source": [
        "# Inference"
      ],
      "metadata": {
        "id": "o8x0ffGaNHcD"
      }
    },
    {
      "cell_type": "code",
      "source": [
        "pred_test = check(result_test, 1, val=False)"
      ],
      "metadata": {
        "id": "4W6kzo3NEPN1"
      },
      "execution_count": null,
      "outputs": []
    },
    {
      "cell_type": "markdown",
      "source": [
        "# Submission"
      ],
      "metadata": {
        "id": "aCscOd_xM_ka"
      }
    },
    {
      "cell_type": "code",
      "source": [
        "submit = pd.read_csv('./sample_submission.csv')"
      ],
      "metadata": {
        "id": "w3FfeD1xM68L"
      },
      "execution_count": null,
      "outputs": []
    },
    {
      "cell_type": "code",
      "source": [
        "submit['Class'] = pred_test\n",
        "submit.head()"
      ],
      "metadata": {
        "colab": {
          "base_uri": "https://localhost:8080/",
          "height": 206
        },
        "id": "XkUjToiZNB23",
        "outputId": "1a7d48a3-0bac-4537-ecbf-9adb46e50650"
      },
      "execution_count": null,
      "outputs": [
        {
          "output_type": "execute_result",
          "data": {
            "text/plain": [
              "        ID  Class\n",
              "0  AAAA0x1      0\n",
              "1  AAAA0x2      0\n",
              "2  AAAA0x5      0\n",
              "3  AAAA0x7      0\n",
              "4  AAAA0xc      0"
            ],
            "text/html": [
              "\n",
              "  <div id=\"df-189a8ff1-b234-4ea5-8ecf-3a96c5000ce0\">\n",
              "    <div class=\"colab-df-container\">\n",
              "      <div>\n",
              "<style scoped>\n",
              "    .dataframe tbody tr th:only-of-type {\n",
              "        vertical-align: middle;\n",
              "    }\n",
              "\n",
              "    .dataframe tbody tr th {\n",
              "        vertical-align: top;\n",
              "    }\n",
              "\n",
              "    .dataframe thead th {\n",
              "        text-align: right;\n",
              "    }\n",
              "</style>\n",
              "<table border=\"1\" class=\"dataframe\">\n",
              "  <thead>\n",
              "    <tr style=\"text-align: right;\">\n",
              "      <th></th>\n",
              "      <th>ID</th>\n",
              "      <th>Class</th>\n",
              "    </tr>\n",
              "  </thead>\n",
              "  <tbody>\n",
              "    <tr>\n",
              "      <th>0</th>\n",
              "      <td>AAAA0x1</td>\n",
              "      <td>0</td>\n",
              "    </tr>\n",
              "    <tr>\n",
              "      <th>1</th>\n",
              "      <td>AAAA0x2</td>\n",
              "      <td>0</td>\n",
              "    </tr>\n",
              "    <tr>\n",
              "      <th>2</th>\n",
              "      <td>AAAA0x5</td>\n",
              "      <td>0</td>\n",
              "    </tr>\n",
              "    <tr>\n",
              "      <th>3</th>\n",
              "      <td>AAAA0x7</td>\n",
              "      <td>0</td>\n",
              "    </tr>\n",
              "    <tr>\n",
              "      <th>4</th>\n",
              "      <td>AAAA0xc</td>\n",
              "      <td>0</td>\n",
              "    </tr>\n",
              "  </tbody>\n",
              "</table>\n",
              "</div>\n",
              "      <button class=\"colab-df-convert\" onclick=\"convertToInteractive('df-189a8ff1-b234-4ea5-8ecf-3a96c5000ce0')\"\n",
              "              title=\"Convert this dataframe to an interactive table.\"\n",
              "              style=\"display:none;\">\n",
              "        \n",
              "  <svg xmlns=\"http://www.w3.org/2000/svg\" height=\"24px\"viewBox=\"0 0 24 24\"\n",
              "       width=\"24px\">\n",
              "    <path d=\"M0 0h24v24H0V0z\" fill=\"none\"/>\n",
              "    <path d=\"M18.56 5.44l.94 2.06.94-2.06 2.06-.94-2.06-.94-.94-2.06-.94 2.06-2.06.94zm-11 1L8.5 8.5l.94-2.06 2.06-.94-2.06-.94L8.5 2.5l-.94 2.06-2.06.94zm10 10l.94 2.06.94-2.06 2.06-.94-2.06-.94-.94-2.06-.94 2.06-2.06.94z\"/><path d=\"M17.41 7.96l-1.37-1.37c-.4-.4-.92-.59-1.43-.59-.52 0-1.04.2-1.43.59L10.3 9.45l-7.72 7.72c-.78.78-.78 2.05 0 2.83L4 21.41c.39.39.9.59 1.41.59.51 0 1.02-.2 1.41-.59l7.78-7.78 2.81-2.81c.8-.78.8-2.07 0-2.86zM5.41 20L4 18.59l7.72-7.72 1.47 1.35L5.41 20z\"/>\n",
              "  </svg>\n",
              "      </button>\n",
              "      \n",
              "  <style>\n",
              "    .colab-df-container {\n",
              "      display:flex;\n",
              "      flex-wrap:wrap;\n",
              "      gap: 12px;\n",
              "    }\n",
              "\n",
              "    .colab-df-convert {\n",
              "      background-color: #E8F0FE;\n",
              "      border: none;\n",
              "      border-radius: 50%;\n",
              "      cursor: pointer;\n",
              "      display: none;\n",
              "      fill: #1967D2;\n",
              "      height: 32px;\n",
              "      padding: 0 0 0 0;\n",
              "      width: 32px;\n",
              "    }\n",
              "\n",
              "    .colab-df-convert:hover {\n",
              "      background-color: #E2EBFA;\n",
              "      box-shadow: 0px 1px 2px rgba(60, 64, 67, 0.3), 0px 1px 3px 1px rgba(60, 64, 67, 0.15);\n",
              "      fill: #174EA6;\n",
              "    }\n",
              "\n",
              "    [theme=dark] .colab-df-convert {\n",
              "      background-color: #3B4455;\n",
              "      fill: #D2E3FC;\n",
              "    }\n",
              "\n",
              "    [theme=dark] .colab-df-convert:hover {\n",
              "      background-color: #434B5C;\n",
              "      box-shadow: 0px 1px 3px 1px rgba(0, 0, 0, 0.15);\n",
              "      filter: drop-shadow(0px 1px 2px rgba(0, 0, 0, 0.3));\n",
              "      fill: #FFFFFF;\n",
              "    }\n",
              "  </style>\n",
              "\n",
              "      <script>\n",
              "        const buttonEl =\n",
              "          document.querySelector('#df-189a8ff1-b234-4ea5-8ecf-3a96c5000ce0 button.colab-df-convert');\n",
              "        buttonEl.style.display =\n",
              "          google.colab.kernel.accessAllowed ? 'block' : 'none';\n",
              "\n",
              "        async function convertToInteractive(key) {\n",
              "          const element = document.querySelector('#df-189a8ff1-b234-4ea5-8ecf-3a96c5000ce0');\n",
              "          const dataTable =\n",
              "            await google.colab.kernel.invokeFunction('convertToInteractive',\n",
              "                                                     [key], {});\n",
              "          if (!dataTable) return;\n",
              "\n",
              "          const docLinkHtml = 'Like what you see? Visit the ' +\n",
              "            '<a target=\"_blank\" href=https://colab.research.google.com/notebooks/data_table.ipynb>data table notebook</a>'\n",
              "            + ' to learn more about interactive tables.';\n",
              "          element.innerHTML = '';\n",
              "          dataTable['output_type'] = 'display_data';\n",
              "          await google.colab.output.renderOutput(dataTable, element);\n",
              "          const docLink = document.createElement('div');\n",
              "          docLink.innerHTML = docLinkHtml;\n",
              "          element.appendChild(docLink);\n",
              "        }\n",
              "      </script>\n",
              "    </div>\n",
              "  </div>\n",
              "  "
            ]
          },
          "metadata": {},
          "execution_count": 52
        }
      ]
    },
    {
      "cell_type": "code",
      "source": [
        "submit.to_csv('./submission_16.csv', index=False)"
      ],
      "metadata": {
        "id": "fyEkwDUUNhj9"
      },
      "execution_count": null,
      "outputs": []
    },
    {
      "cell_type": "code",
      "source": [],
      "metadata": {
        "id": "UmKGCg_fkSHO"
      },
      "execution_count": null,
      "outputs": []
    }
  ]
}