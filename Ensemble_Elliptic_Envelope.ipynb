{
  "nbformat": 4,
  "nbformat_minor": 0,
  "metadata": {
    "colab": {
      "provenance": []
    },
    "kernelspec": {
      "name": "python3",
      "display_name": "Python 3"
    },
    "language_info": {
      "name": "python"
    }
  },
  "cells": [
    {
      "cell_type": "markdown",
      "source": [
        "# Setting"
      ],
      "metadata": {
        "id": "JdAtq5mbLJ6T"
      }
    },
    {
      "cell_type": "markdown",
      "source": [
        "## Library"
      ],
      "metadata": {
        "id": "LpzRbxF8LLF1"
      }
    },
    {
      "cell_type": "code",
      "execution_count": 1,
      "metadata": {
        "id": "4lA5ZR29K-Ec"
      },
      "outputs": [],
      "source": [
        "# 데이터 다루기\n",
        "import pandas as pd\n",
        "import numpy as np\n",
        "from itertools import combinations\n",
        "\n",
        "# 전처리\n",
        "from sklearn.preprocessing import StandardScaler, MinMaxScaler, RobustScaler\n",
        "from sklearn.decomposition import PCA, KernelPCA, SparsePCA, TruncatedSVD, IncrementalPCA\n",
        "from sklearn.cluster import KMeans\n",
        "from sklearn.mixture import GaussianMixture\n",
        "from sklearn.random_projection import GaussianRandomProjection, SparseRandomProjection\n",
        "\n",
        "# 모델링\n",
        "from sklearn.ensemble import IsolationForest\n",
        "from sklearn.neighbors import LocalOutlierFactor\n",
        "from sklearn.covariance import EllipticEnvelope\n",
        "\n",
        "from sklearn.metrics import f1_score\n",
        "from sklearn.metrics import recall_score # 재현율\n",
        "from sklearn.metrics import precision_score # 정밀도\n",
        "from sklearn.metrics import roc_auc_score\n",
        "from sklearn.metrics import confusion_matrix\n",
        "from sklearn.metrics import classification_report\n",
        "\n",
        "# 기타\n",
        "import os\n",
        "import random"
      ]
    },
    {
      "cell_type": "code",
      "source": [
        "import matplotlib.pyplot as plt\n",
        "import seaborn as sns"
      ],
      "metadata": {
        "id": "YAJYDF_tmomL"
      },
      "execution_count": 2,
      "outputs": []
    },
    {
      "cell_type": "code",
      "source": [
        "import warnings\n",
        "warnings.filterwarnings(action='ignore')"
      ],
      "metadata": {
        "id": "t5Jlc229LOB6"
      },
      "execution_count": 3,
      "outputs": []
    },
    {
      "cell_type": "markdown",
      "source": [
        "## Fixed Random Seed"
      ],
      "metadata": {
        "id": "RAlVaaC_LS1M"
      }
    },
    {
      "cell_type": "code",
      "source": [
        "def seed_everything(seed):\n",
        "    random.seed(seed)\n",
        "    os.environ['PYTHONHASHSEED'] = str(seed)\n",
        "    np.random.seed(seed)\n",
        "\n",
        "seed_everything(42) # Seed 고정"
      ],
      "metadata": {
        "id": "S0bKBShiLREc"
      },
      "execution_count": 4,
      "outputs": []
    },
    {
      "cell_type": "markdown",
      "source": [
        "# Load Data Set"
      ],
      "metadata": {
        "id": "pzNq6q70LY34"
      }
    },
    {
      "cell_type": "markdown",
      "source": [
        "## Googel Drive Mount"
      ],
      "metadata": {
        "id": "aP8Z0AMzLbCl"
      }
    },
    {
      "cell_type": "code",
      "source": [
        "from google.colab import drive\n",
        "drive.mount('/content/drive')"
      ],
      "metadata": {
        "colab": {
          "base_uri": "https://localhost:8080/"
        },
        "id": "dTDPQ6ipLYMN",
        "outputId": "23b3ac06-071d-4ffd-d8f0-f2a297220c4a"
      },
      "execution_count": 5,
      "outputs": [
        {
          "output_type": "stream",
          "name": "stdout",
          "text": [
            "Mounted at /content/drive\n"
          ]
        }
      ]
    },
    {
      "cell_type": "markdown",
      "source": [
        "## Unzip File"
      ],
      "metadata": {
        "id": "tMfGxw7WLlFM"
      }
    },
    {
      "cell_type": "code",
      "source": [
        "!unzip --qq '/content/drive/MyDrive/머신러닝 엔지니어링/데이콘/사기거래/data/사기거래.zip'"
      ],
      "metadata": {
        "id": "CH2iRFNbLdcd"
      },
      "execution_count": 6,
      "outputs": []
    },
    {
      "cell_type": "markdown",
      "source": [
        "## Load Train / Val / Test Set"
      ],
      "metadata": {
        "id": "jcIJmupMLpBu"
      }
    },
    {
      "cell_type": "code",
      "source": [
        "train = pd.read_csv('/content/train.csv')\n",
        "val = pd.read_csv('/content/val.csv')\n",
        "test = pd.read_csv('/content/test.csv')"
      ],
      "metadata": {
        "id": "oNdbFSuoLoiJ"
      },
      "execution_count": 7,
      "outputs": []
    },
    {
      "cell_type": "code",
      "source": [
        "val['Class'].value_counts()"
      ],
      "metadata": {
        "colab": {
          "base_uri": "https://localhost:8080/"
        },
        "id": "E5fV_viiMIJD",
        "outputId": "62282e5c-6fe9-4d4a-baf1-e7cd90d5b717"
      },
      "execution_count": 8,
      "outputs": [
        {
          "output_type": "execute_result",
          "data": {
            "text/plain": [
              "0    28432\n",
              "1       30\n",
              "Name: Class, dtype: int64"
            ]
          },
          "metadata": {},
          "execution_count": 8
        }
      ]
    },
    {
      "cell_type": "markdown",
      "source": [
        "# Preprocessing"
      ],
      "metadata": {
        "id": "AU3zE34BL3Oi"
      }
    },
    {
      "cell_type": "markdown",
      "source": [
        "## Feature Selection"
      ],
      "metadata": {
        "id": "o4fKPoX5VJJm"
      }
    },
    {
      "cell_type": "code",
      "source": [
        "X_train = train.drop(columns=['ID']) \n",
        "\n",
        "X_val = val.drop(columns=['ID', 'Class']) \n",
        "y_val = val['Class']\n",
        "\n",
        "X_test = test.drop(columns=['ID'])"
      ],
      "metadata": {
        "id": "RIoIVhn6LsQ-"
      },
      "execution_count": 58,
      "outputs": []
    },
    {
      "cell_type": "code",
      "source": [
        "X_train = X_train.drop(columns=['V6', 'V8', 'V13', 'V15', 'V19',\n",
        "                                'V20', 'V21', 'V22', 'V23', 'V24',\n",
        "                                'V25', 'V26', 'V27', 'V28', 'V29', 'V30', 'V1']) \n",
        "\n",
        "X_val = X_val.drop(columns=['V6', 'V8', 'V13', 'V15', 'V19',\n",
        "                                'V20', 'V21', 'V22', 'V23', 'V24',\n",
        "                                'V25', 'V26', 'V27', 'V28', 'V29', 'V30', 'V1']) \n",
        "\n",
        "X_test = X_test.drop(columns=['V6', 'V8', 'V13', 'V15', 'V19',\n",
        "                                'V20', 'V21', 'V22', 'V23', 'V24',\n",
        "                                'V25', 'V26', 'V27', 'V28', 'V29', 'V30', 'V1']) "
      ],
      "metadata": {
        "id": "wVbzmseyxnBz"
      },
      "execution_count": 59,
      "outputs": []
    },
    {
      "cell_type": "code",
      "source": [
        "len(X_train.columns)"
      ],
      "metadata": {
        "colab": {
          "base_uri": "https://localhost:8080/"
        },
        "id": "-Lg_2x0d2ZNY",
        "outputId": "af3e2432-c663-4db5-c2ca-81afc64df9c0"
      },
      "execution_count": 60,
      "outputs": [
        {
          "output_type": "execute_result",
          "data": {
            "text/plain": [
              "13"
            ]
          },
          "metadata": {},
          "execution_count": 60
        }
      ]
    },
    {
      "cell_type": "markdown",
      "source": [
        "# Modeling"
      ],
      "metadata": {
        "id": "r2sOyy-yL_5h"
      }
    },
    {
      "cell_type": "code",
      "source": [
        "val_normal, val_anomaly = val['Class'].value_counts()\n",
        "val_contamination = val_anomaly / val_normal\n",
        "\n",
        "print(f'Validation contamination : [{val_contamination}]')"
      ],
      "metadata": {
        "colab": {
          "base_uri": "https://localhost:8080/"
        },
        "id": "pALvZCQIuA3P",
        "outputId": "55a3d881-45c4-4481-f159-84d37cddf105"
      },
      "execution_count": 61,
      "outputs": [
        {
          "output_type": "stream",
          "name": "stdout",
          "text": [
            "Validation contamination : [0.0010551491277433877]\n"
          ]
        }
      ]
    },
    {
      "cell_type": "code",
      "source": [
        "model = EllipticEnvelope(store_precision=True,\n",
        "                         assume_centered=True, # 데이터 중심이 정확히 0이 아니기에 True로 설정합니다.\n",
        "                         support_fraction=0.994, # IQR를 기준으로 극단값이 존재하였기에 데이터 일부는 사용하지 않습니다.\n",
        "                         contamination=val_contamination, \n",
        "                         random_state=42,\n",
        "                         )"
      ],
      "metadata": {
        "id": "iUN1rYB9cyAE"
      },
      "execution_count": 62,
      "outputs": []
    },
    {
      "cell_type": "markdown",
      "source": [
        "# Evaluation"
      ],
      "metadata": {
        "id": "ciepK-yCMUoM"
      }
    },
    {
      "cell_type": "code",
      "source": [
        "def get_pred_label(model_pred):\n",
        "    # IsolationForest 모델 출력 (1:정상, -1:불량(사기)) 이므로 (0:정상, 1:불량(사기))로 Label 변환\n",
        "    model_pred = np.where(model_pred == 1, 0, model_pred)\n",
        "    model_pred = np.where(model_pred == -1, 1, model_pred)\n",
        "    return model_pred"
      ],
      "metadata": {
        "id": "iRAt4uV5MSbp"
      },
      "execution_count": 63,
      "outputs": []
    },
    {
      "cell_type": "code",
      "source": [
        "result_val = np.zeros(val.shape[0])\n",
        "result_test = np.zeros(test.shape[0])\n",
        "\n",
        "for drop_col in ['V6', 'V8', 'V13', 'V15',\n",
        "                 'V19', 'V20', 'V21', 'V22',\n",
        "                 'V23', 'V24', 'V25', 'V26',\n",
        "                 'V27', 'V28', 'V29', 'V30']:\n",
        "\n",
        "    X_train = pd.concat([train[[drop_col]], X_train], axis=1)\n",
        "    X_val = pd.concat([val[[drop_col]], X_val], axis=1)\n",
        "    X_test = pd.concat([test[[drop_col]], X_test], axis=1)\n",
        "\n",
        "    model.fit(X_train)\n",
        "\n",
        "    EE_pred_val = model.predict(X_val) # model prediction\n",
        "    EE_pred_val = get_pred_label(EE_pred_val)\n",
        "\n",
        "    val_score = f1_score(y_val, EE_pred_val, average='macro')\n",
        "    recall = recall_score(y_val, EE_pred_val)\n",
        "    precision = precision_score(y_val, EE_pred_val)\n",
        "\n",
        "    print(f'\\nDrop Col : {drop_col}\\n')\n",
        "\n",
        "    print(f'Validation F1 Score : {val_score}\\n')\n",
        "    print(f'Recall : {recall}\\n')\n",
        "    print(f'Precision : {precision}\\n')\n",
        "\n",
        "    print(classification_report(y_val, EE_pred_val))\n",
        "\n",
        "    cf_matrix = confusion_matrix(y_val, EE_pred_val)\n",
        "    sns.heatmap(cf_matrix, annot=True)\n",
        "    plt.show()\n",
        "\n",
        "    print()\n",
        "    print('-'*100)\n",
        "    print()\n",
        "\n",
        "    EE_pred_test = model.predict(X_test) # model prediction\n",
        "    EE_pred_test = get_pred_label(EE_pred_test)\n",
        "\n",
        "    result_val += EE_pred_val\n",
        "    result_test += EE_pred_test\n",
        "\n",
        "    X_train = X_train.drop(columns=[drop_col])\n",
        "    X_val = X_val.drop(columns=[drop_col])\n",
        "    X_test = X_test.drop(columns=[drop_col])"
      ],
      "metadata": {
        "colab": {
          "base_uri": "https://localhost:8080/",
          "height": 1000
        },
        "id": "Cpi0jNG5599h",
        "outputId": "515a79a3-7508-436f-a5df-5a3e0fe1bc44"
      },
      "execution_count": 64,
      "outputs": [
        {
          "output_type": "stream",
          "name": "stdout",
          "text": [
            "\n",
            "Drop Col : V6\n",
            "\n",
            "Validation F1 Score : 0.8635044815916644\n",
            "\n",
            "Recall : 0.6666666666666666\n",
            "\n",
            "Precision : 0.8\n",
            "\n",
            "              precision    recall  f1-score   support\n",
            "\n",
            "           0       1.00      1.00      1.00     28432\n",
            "           1       0.80      0.67      0.73        30\n",
            "\n",
            "    accuracy                           1.00     28462\n",
            "   macro avg       0.90      0.83      0.86     28462\n",
            "weighted avg       1.00      1.00      1.00     28462\n",
            "\n"
          ]
        },
        {
          "output_type": "display_data",
          "data": {
            "text/plain": [
              "<Figure size 432x288 with 2 Axes>"
            ],
            "image/png": "[encoded data removed]"
          },
          "metadata": {
            "needs_background": "light"
          }
        },
        {
          "output_type": "stream",
          "name": "stdout",
          "text": [
            "\n",
            "----------------------------------------------------------------------------------------------------\n",
            "\n",
            "\n",
            "Drop Col : V8\n",
            "\n",
            "Validation F1 Score : 0.8772441968135101\n",
            "\n",
            "Recall : 0.6666666666666666\n",
            "\n",
            "Precision : 0.8695652173913043\n",
            "\n",
            "              precision    recall  f1-score   support\n",
            "\n",
            "           0       1.00      1.00      1.00     28432\n",
            "           1       0.87      0.67      0.75        30\n",
            "\n",
            "    accuracy                           1.00     28462\n",
            "   macro avg       0.93      0.83      0.88     28462\n",
            "weighted avg       1.00      1.00      1.00     28462\n",
            "\n"
          ]
        },
        {
          "output_type": "display_data",
          "data": {
            "text/plain": [
              "<Figure size 432x288 with 2 Axes>"
            ],
            "image/png": "[encoded data removed]"
          },
          "metadata": {
            "needs_background": "light"
          }
        },
        {
          "output_type": "stream",
          "name": "stdout",
          "text": [
            "\n",
            "----------------------------------------------------------------------------------------------------\n",
            "\n",
            "\n",
            "Drop Col : V13\n",
            "\n",
            "Validation F1 Score : 0.899903286500554\n",
            "\n",
            "Recall : 0.7333333333333333\n",
            "\n",
            "Precision : 0.88\n",
            "\n",
            "              precision    recall  f1-score   support\n",
            "\n",
            "           0       1.00      1.00      1.00     28432\n",
            "           1       0.88      0.73      0.80        30\n",
            "\n",
            "    accuracy                           1.00     28462\n",
            "   macro avg       0.94      0.87      0.90     28462\n",
            "weighted avg       1.00      1.00      1.00     28462\n",
            "\n"
          ]
        },
        {
          "output_type": "display_data",
          "data": {
            "text/plain": [
              "<Figure size 432x288 with 2 Axes>"
            ],
            "image/png": "[encoded data removed]"
          },
          "metadata": {
            "needs_background": "light"
          }
        },
        {
          "output_type": "stream",
          "name": "stdout",
          "text": [
            "\n",
            "----------------------------------------------------------------------------------------------------\n",
            "\n",
            "\n",
            "Drop Col : V15\n",
            "\n",
            "Validation F1 Score : 0.899903286500554\n",
            "\n",
            "Recall : 0.7333333333333333\n",
            "\n",
            "Precision : 0.88\n",
            "\n",
            "              precision    recall  f1-score   support\n",
            "\n",
            "           0       1.00      1.00      1.00     28432\n",
            "           1       0.88      0.73      0.80        30\n",
            "\n",
            "    accuracy                           1.00     28462\n",
            "   macro avg       0.94      0.87      0.90     28462\n",
            "weighted avg       1.00      1.00      1.00     28462\n",
            "\n"
          ]
        },
        {
          "output_type": "display_data",
          "data": {
            "text/plain": [
              "<Figure size 432x288 with 2 Axes>"
            ],
            "image/png": "[encoded data removed]"
          },
          "metadata": {
            "needs_background": "light"
          }
        },
        {
          "output_type": "stream",
          "name": "stdout",
          "text": [
            "\n",
            "----------------------------------------------------------------------------------------------------\n",
            "\n",
            "\n",
            "Drop Col : V19\n",
            "\n",
            "Validation F1 Score : 0.899903286500554\n",
            "\n",
            "Recall : 0.7333333333333333\n",
            "\n",
            "Precision : 0.88\n",
            "\n",
            "              precision    recall  f1-score   support\n",
            "\n",
            "           0       1.00      1.00      1.00     28432\n",
            "           1       0.88      0.73      0.80        30\n",
            "\n",
            "    accuracy                           1.00     28462\n",
            "   macro avg       0.94      0.87      0.90     28462\n",
            "weighted avg       1.00      1.00      1.00     28462\n",
            "\n"
          ]
        },
        {
          "output_type": "display_data",
          "data": {
            "text/plain": [
              "<Figure size 432x288 with 2 Axes>"
            ],
            "image/png": "[encoded data removed]"
          },
          "metadata": {
            "needs_background": "light"
          }
        },
        {
          "output_type": "stream",
          "name": "stdout",
          "text": [
            "\n",
            "----------------------------------------------------------------------------------------------------\n",
            "\n",
            "\n",
            "Drop Col : V20\n",
            "\n",
            "Validation F1 Score : 0.8583586886309732\n",
            "\n",
            "Recall : 0.6333333333333333\n",
            "\n",
            "Precision : 0.8260869565217391\n",
            "\n",
            "              precision    recall  f1-score   support\n",
            "\n",
            "           0       1.00      1.00      1.00     28432\n",
            "           1       0.83      0.63      0.72        30\n",
            "\n",
            "    accuracy                           1.00     28462\n",
            "   macro avg       0.91      0.82      0.86     28462\n",
            "weighted avg       1.00      1.00      1.00     28462\n",
            "\n"
          ]
        },
        {
          "output_type": "display_data",
          "data": {
            "text/plain": [
              "<Figure size 432x288 with 2 Axes>"
            ],
            "image/png": "[encoded data removed]"
          },
          "metadata": {
            "needs_background": "light"
          }
        },
        {
          "output_type": "stream",
          "name": "stdout",
          "text": [
            "\n",
            "----------------------------------------------------------------------------------------------------\n",
            "\n",
            "\n",
            "Drop Col : V21\n",
            "\n",
            "Validation F1 Score : 0.8887833851083367\n",
            "\n",
            "Recall : 0.7\n",
            "\n",
            "Precision : 0.875\n",
            "\n",
            "              precision    recall  f1-score   support\n",
            "\n",
            "           0       1.00      1.00      1.00     28432\n",
            "           1       0.88      0.70      0.78        30\n",
            "\n",
            "    accuracy                           1.00     28462\n",
            "   macro avg       0.94      0.85      0.89     28462\n",
            "weighted avg       1.00      1.00      1.00     28462\n",
            "\n"
          ]
        },
        {
          "output_type": "display_data",
          "data": {
            "text/plain": [
              "<Figure size 432x288 with 2 Axes>"
            ],
            "image/png": "[encoded data removed]"
          },
          "metadata": {
            "needs_background": "light"
          }
        },
        {
          "output_type": "stream",
          "name": "stdout",
          "text": [
            "\n",
            "----------------------------------------------------------------------------------------------------\n",
            "\n",
            "\n",
            "Drop Col : V22\n",
            "\n",
            "Validation F1 Score : 0.899903286500554\n",
            "\n",
            "Recall : 0.7333333333333333\n",
            "\n",
            "Precision : 0.88\n",
            "\n",
            "              precision    recall  f1-score   support\n",
            "\n",
            "           0       1.00      1.00      1.00     28432\n",
            "           1       0.88      0.73      0.80        30\n",
            "\n",
            "    accuracy                           1.00     28462\n",
            "   macro avg       0.94      0.87      0.90     28462\n",
            "weighted avg       1.00      1.00      1.00     28462\n",
            "\n"
          ]
        },
        {
          "output_type": "display_data",
          "data": {
            "text/plain": [
              "<Figure size 432x288 with 2 Axes>"
            ],
            "image/png": "[encoded data removed]"
          },
          "metadata": {
            "needs_background": "light"
          }
        },
        {
          "output_type": "stream",
          "name": "stdout",
          "text": [
            "\n",
            "----------------------------------------------------------------------------------------------------\n",
            "\n",
            "\n",
            "Drop Col : V23\n",
            "\n",
            "Validation F1 Score : 0.857002180488148\n",
            "\n",
            "Recall : 0.6666666666666666\n",
            "\n",
            "Precision : 0.7692307692307693\n",
            "\n",
            "              precision    recall  f1-score   support\n",
            "\n",
            "           0       1.00      1.00      1.00     28432\n",
            "           1       0.77      0.67      0.71        30\n",
            "\n",
            "    accuracy                           1.00     28462\n",
            "   macro avg       0.88      0.83      0.86     28462\n",
            "weighted avg       1.00      1.00      1.00     28462\n",
            "\n"
          ]
        },
        {
          "output_type": "display_data",
          "data": {
            "text/plain": [
              "<Figure size 432x288 with 2 Axes>"
            ],
            "image/png": "[encoded data removed]"
          },
          "metadata": {
            "needs_background": "light"
          }
        },
        {
          "output_type": "stream",
          "name": "stdout",
          "text": [
            "\n",
            "----------------------------------------------------------------------------------------------------\n",
            "\n",
            "\n",
            "Drop Col : V24\n",
            "\n",
            "Validation F1 Score : 0.8887833851083367\n",
            "\n",
            "Recall : 0.7\n",
            "\n",
            "Precision : 0.875\n",
            "\n",
            "              precision    recall  f1-score   support\n",
            "\n",
            "           0       1.00      1.00      1.00     28432\n",
            "           1       0.88      0.70      0.78        30\n",
            "\n",
            "    accuracy                           1.00     28462\n",
            "   macro avg       0.94      0.85      0.89     28462\n",
            "weighted avg       1.00      1.00      1.00     28462\n",
            "\n"
          ]
        },
        {
          "output_type": "display_data",
          "data": {
            "text/plain": [
              "<Figure size 432x288 with 2 Axes>"
            ],
            "image/png": "[encoded data removed]"
          },
          "metadata": {
            "needs_background": "light"
          }
        },
        {
          "output_type": "stream",
          "name": "stdout",
          "text": [
            "\n",
            "----------------------------------------------------------------------------------------------------\n",
            "\n",
            "\n",
            "Drop Col : V25\n",
            "\n",
            "Validation F1 Score : 0.8887833851083367\n",
            "\n",
            "Recall : 0.7\n",
            "\n",
            "Precision : 0.875\n",
            "\n",
            "              precision    recall  f1-score   support\n",
            "\n",
            "           0       1.00      1.00      1.00     28432\n",
            "           1       0.88      0.70      0.78        30\n",
            "\n",
            "    accuracy                           1.00     28462\n",
            "   macro avg       0.94      0.85      0.89     28462\n",
            "weighted avg       1.00      1.00      1.00     28462\n",
            "\n"
          ]
        },
        {
          "output_type": "display_data",
          "data": {
            "text/plain": [
              "<Figure size 432x288 with 2 Axes>"
            ],
            "image/png": "[encoded data removed]"
          },
          "metadata": {
            "needs_background": "light"
          }
        },
        {
          "output_type": "stream",
          "name": "stdout",
          "text": [
            "\n",
            "----------------------------------------------------------------------------------------------------\n",
            "\n",
            "\n",
            "Drop Col : V26\n",
            "\n",
            "Validation F1 Score : 0.8887833851083367\n",
            "\n",
            "Recall : 0.7\n",
            "\n",
            "Precision : 0.875\n",
            "\n",
            "              precision    recall  f1-score   support\n",
            "\n",
            "           0       1.00      1.00      1.00     28432\n",
            "           1       0.88      0.70      0.78        30\n",
            "\n",
            "    accuracy                           1.00     28462\n",
            "   macro avg       0.94      0.85      0.89     28462\n",
            "weighted avg       1.00      1.00      1.00     28462\n",
            "\n"
          ]
        },
        {
          "output_type": "display_data",
          "data": {
            "text/plain": [
              "<Figure size 432x288 with 2 Axes>"
            ],
            "image/png": "[encoded data removed]"
          },
          "metadata": {
            "needs_background": "light"
          }
        },
        {
          "output_type": "stream",
          "name": "stdout",
          "text": [
            "\n",
            "----------------------------------------------------------------------------------------------------\n",
            "\n",
            "\n",
            "Drop Col : V27\n",
            "\n",
            "Validation F1 Score : 0.8887833851083367\n",
            "\n",
            "Recall : 0.7\n",
            "\n",
            "Precision : 0.875\n",
            "\n",
            "              precision    recall  f1-score   support\n",
            "\n",
            "           0       1.00      1.00      1.00     28432\n",
            "           1       0.88      0.70      0.78        30\n",
            "\n",
            "    accuracy                           1.00     28462\n",
            "   macro avg       0.94      0.85      0.89     28462\n",
            "weighted avg       1.00      1.00      1.00     28462\n",
            "\n"
          ]
        },
        {
          "output_type": "display_data",
          "data": {
            "text/plain": [
              "<Figure size 432x288 with 2 Axes>"
            ],
            "image/png": "[encoded data removed]"
          },
          "metadata": {
            "needs_background": "light"
          }
        },
        {
          "output_type": "stream",
          "name": "stdout",
          "text": [
            "\n",
            "----------------------------------------------------------------------------------------------------\n",
            "\n",
            "\n",
            "Drop Col : V28\n",
            "\n",
            "Validation F1 Score : 0.8583586886309732\n",
            "\n",
            "Recall : 0.6333333333333333\n",
            "\n",
            "Precision : 0.8260869565217391\n",
            "\n",
            "              precision    recall  f1-score   support\n",
            "\n",
            "           0       1.00      1.00      1.00     28432\n",
            "           1       0.83      0.63      0.72        30\n",
            "\n",
            "    accuracy                           1.00     28462\n",
            "   macro avg       0.91      0.82      0.86     28462\n",
            "weighted avg       1.00      1.00      1.00     28462\n",
            "\n"
          ]
        },
        {
          "output_type": "display_data",
          "data": {
            "text/plain": [
              "<Figure size 432x288 with 2 Axes>"
            ],
            "image/png": "[encoded data removed]"
          },
          "metadata": {
            "needs_background": "light"
          }
        },
        {
          "output_type": "stream",
          "name": "stdout",
          "text": [
            "\n",
            "----------------------------------------------------------------------------------------------------\n",
            "\n",
            "\n",
            "Drop Col : V29\n",
            "\n",
            "Validation F1 Score : 0.870247282626393\n",
            "\n",
            "Recall : 0.6666666666666666\n",
            "\n",
            "Precision : 0.8333333333333334\n",
            "\n",
            "              precision    recall  f1-score   support\n",
            "\n",
            "           0       1.00      1.00      1.00     28432\n",
            "           1       0.83      0.67      0.74        30\n",
            "\n",
            "    accuracy                           1.00     28462\n",
            "   macro avg       0.92      0.83      0.87     28462\n",
            "weighted avg       1.00      1.00      1.00     28462\n",
            "\n"
          ]
        },
        {
          "output_type": "display_data",
          "data": {
            "text/plain": [
              "<Figure size 432x288 with 2 Axes>"
            ],
            "image/png": "[encoded data removed]"
          },
          "metadata": {
            "needs_background": "light"
          }
        },
        {
          "output_type": "stream",
          "name": "stdout",
          "text": [
            "\n",
            "----------------------------------------------------------------------------------------------------\n",
            "\n",
            "\n",
            "Drop Col : V30\n",
            "\n",
            "Validation F1 Score : 0.899903286500554\n",
            "\n",
            "Recall : 0.7333333333333333\n",
            "\n",
            "Precision : 0.88\n",
            "\n",
            "              precision    recall  f1-score   support\n",
            "\n",
            "           0       1.00      1.00      1.00     28432\n",
            "           1       0.88      0.73      0.80        30\n",
            "\n",
            "    accuracy                           1.00     28462\n",
            "   macro avg       0.94      0.87      0.90     28462\n",
            "weighted avg       1.00      1.00      1.00     28462\n",
            "\n"
          ]
        },
        {
          "output_type": "display_data",
          "data": {
            "text/plain": [
              "<Figure size 432x288 with 2 Axes>"
            ],
            "image/png": "[encoded data removed]"
          },
          "metadata": {
            "needs_background": "light"
          }
        },
        {
          "output_type": "stream",
          "name": "stdout",
          "text": [
            "\n",
            "----------------------------------------------------------------------------------------------------\n",
            "\n"
          ]
        }
      ]
    },
    {
      "cell_type": "markdown",
      "source": [
        "# Inference"
      ],
      "metadata": {
        "id": "OfG0uzKFCZd0"
      }
    },
    {
      "cell_type": "code",
      "source": [
        "def check(result, ts, val):\n",
        "\n",
        "  pred_result = []\n",
        "\n",
        "  for i in result:\n",
        "\n",
        "    if i >= ts:\n",
        "\n",
        "      i = 1\n",
        "\n",
        "    else:\n",
        "\n",
        "      i = 0\n",
        "\n",
        "    pred_result.append(i)\n",
        "\n",
        "  if val == True:\n",
        "\n",
        "    val_score = f1_score(y_val, pred_result, average='macro')\n",
        "    recall = recall_score(y_val, pred_result)\n",
        "    precision = precision_score(y_val, pred_result)\n",
        "\n",
        "    print(f'Marco F1 Score : {val_score}\\n')\n",
        "    print(f'Recall : {recall}\\n')\n",
        "    print(f'Precision : {precision}\\n')\n",
        "\n",
        "    print(classification_report(y_val, pred_result))\n",
        "\n",
        "  return pred_result"
      ],
      "metadata": {
        "id": "8QHHgjdG60Km"
      },
      "execution_count": 66,
      "outputs": []
    },
    {
      "cell_type": "code",
      "source": [
        "pred_val = check(result_val, 3, val=True)\n",
        "\n",
        "print()\n",
        "\n",
        "cf_matrix = confusion_matrix(y_val, pred_val)\n",
        "sns.heatmap(cf_matrix, annot=True)\n",
        "plt.show()"
      ],
      "metadata": {
        "colab": {
          "base_uri": "https://localhost:8080/",
          "height": 552
        },
        "id": "s-4HlWi-7Zsn",
        "outputId": "30766d64-3415-401b-d0a4-932ac73e523f"
      },
      "execution_count": 90,
      "outputs": [
        {
          "output_type": "stream",
          "name": "stdout",
          "text": [
            "Marco F1 Score : 0.899903286500554\n",
            "\n",
            "Recall : 0.7333333333333333\n",
            "\n",
            "Precision : 0.88\n",
            "\n",
            "              precision    recall  f1-score   support\n",
            "\n",
            "           0       1.00      1.00      1.00     28432\n",
            "           1       0.88      0.73      0.80        30\n",
            "\n",
            "    accuracy                           1.00     28462\n",
            "   macro avg       0.94      0.87      0.90     28462\n",
            "weighted avg       1.00      1.00      1.00     28462\n",
            "\n",
            "\n"
          ]
        },
        {
          "output_type": "display_data",
          "data": {
            "text/plain": [
              "<Figure size 432x288 with 2 Axes>"
            ],
            "image/png": "[encoded data removed]"
          },
          "metadata": {
            "needs_background": "light"
          }
        }
      ]
    },
    {
      "cell_type": "code",
      "source": [
        "pred_test = check(result_test, 3, val=False)"
      ],
      "metadata": {
        "id": "lhtrc-Fc7fPH"
      },
      "execution_count": null,
      "outputs": []
    },
    {
      "cell_type": "markdown",
      "source": [
        "# Submission"
      ],
      "metadata": {
        "id": "aCscOd_xM_ka"
      }
    },
    {
      "cell_type": "code",
      "source": [
        "submit = pd.read_csv('./sample_submission.csv')"
      ],
      "metadata": {
        "id": "w3FfeD1xM68L"
      },
      "execution_count": null,
      "outputs": []
    },
    {
      "cell_type": "code",
      "source": [
        "submit['Class'] = EE_pred_test\n",
        "submit.head()"
      ],
      "metadata": {
        "colab": {
          "base_uri": "https://localhost:8080/",
          "height": 206
        },
        "id": "XkUjToiZNB23",
        "outputId": "380a5877-d8a8-45f2-e874-324ffc4914bc"
      },
      "execution_count": null,
      "outputs": [
        {
          "output_type": "execute_result",
          "data": {
            "text/plain": [
              "        ID  Class\n",
              "0  AAAA0x1      0\n",
              "1  AAAA0x2      0\n",
              "2  AAAA0x5      0\n",
              "3  AAAA0x7      0\n",
              "4  AAAA0xc      0"
            ],
            "text/html": [
              "\n",
              "  <div id=\"df-c03117d5-7da1-4585-9e68-386322f949a4\">\n",
              "    <div class=\"colab-df-container\">\n",
              "      <div>\n",
              "<style scoped>\n",
              "    .dataframe tbody tr th:only-of-type {\n",
              "        vertical-align: middle;\n",
              "    }\n",
              "\n",
              "    .dataframe tbody tr th {\n",
              "        vertical-align: top;\n",
              "    }\n",
              "\n",
              "    .dataframe thead th {\n",
              "        text-align: right;\n",
              "    }\n",
              "</style>\n",
              "<table border=\"1\" class=\"dataframe\">\n",
              "  <thead>\n",
              "    <tr style=\"text-align: right;\">\n",
              "      <th></th>\n",
              "      <th>ID</th>\n",
              "      <th>Class</th>\n",
              "    </tr>\n",
              "  </thead>\n",
              "  <tbody>\n",
              "    <tr>\n",
              "      <th>0</th>\n",
              "      <td>AAAA0x1</td>\n",
              "      <td>0</td>\n",
              "    </tr>\n",
              "    <tr>\n",
              "      <th>1</th>\n",
              "      <td>AAAA0x2</td>\n",
              "      <td>0</td>\n",
              "    </tr>\n",
              "    <tr>\n",
              "      <th>2</th>\n",
              "      <td>AAAA0x5</td>\n",
              "      <td>0</td>\n",
              "    </tr>\n",
              "    <tr>\n",
              "      <th>3</th>\n",
              "      <td>AAAA0x7</td>\n",
              "      <td>0</td>\n",
              "    </tr>\n",
              "    <tr>\n",
              "      <th>4</th>\n",
              "      <td>AAAA0xc</td>\n",
              "      <td>0</td>\n",
              "    </tr>\n",
              "  </tbody>\n",
              "</table>\n",
              "</div>\n",
              "      <button class=\"colab-df-convert\" onclick=\"convertToInteractive('df-c03117d5-7da1-4585-9e68-386322f949a4')\"\n",
              "              title=\"Convert this dataframe to an interactive table.\"\n",
              "              style=\"display:none;\">\n",
              "        \n",
              "  <svg xmlns=\"http://www.w3.org/2000/svg\" height=\"24px\"viewBox=\"0 0 24 24\"\n",
              "       width=\"24px\">\n",
              "    <path d=\"M0 0h24v24H0V0z\" fill=\"none\"/>\n",
              "    <path d=\"M18.56 5.44l.94 2.06.94-2.06 2.06-.94-2.06-.94-.94-2.06-.94 2.06-2.06.94zm-11 1L8.5 8.5l.94-2.06 2.06-.94-2.06-.94L8.5 2.5l-.94 2.06-2.06.94zm10 10l.94 2.06.94-2.06 2.06-.94-2.06-.94-.94-2.06-.94 2.06-2.06.94z\"/><path d=\"M17.41 7.96l-1.37-1.37c-.4-.4-.92-.59-1.43-.59-.52 0-1.04.2-1.43.59L10.3 9.45l-7.72 7.72c-.78.78-.78 2.05 0 2.83L4 21.41c.39.39.9.59 1.41.59.51 0 1.02-.2 1.41-.59l7.78-7.78 2.81-2.81c.8-.78.8-2.07 0-2.86zM5.41 20L4 18.59l7.72-7.72 1.47 1.35L5.41 20z\"/>\n",
              "  </svg>\n",
              "      </button>\n",
              "      \n",
              "  <style>\n",
              "    .colab-df-container {\n",
              "      display:flex;\n",
              "      flex-wrap:wrap;\n",
              "      gap: 12px;\n",
              "    }\n",
              "\n",
              "    .colab-df-convert {\n",
              "      background-color: #E8F0FE;\n",
              "      border: none;\n",
              "      border-radius: 50%;\n",
              "      cursor: pointer;\n",
              "      display: none;\n",
              "      fill: #1967D2;\n",
              "      height: 32px;\n",
              "      padding: 0 0 0 0;\n",
              "      width: 32px;\n",
              "    }\n",
              "\n",
              "    .colab-df-convert:hover {\n",
              "      background-color: #E2EBFA;\n",
              "      box-shadow: 0px 1px 2px rgba(60, 64, 67, 0.3), 0px 1px 3px 1px rgba(60, 64, 67, 0.15);\n",
              "      fill: #174EA6;\n",
              "    }\n",
              "\n",
              "    [theme=dark] .colab-df-convert {\n",
              "      background-color: #3B4455;\n",
              "      fill: #D2E3FC;\n",
              "    }\n",
              "\n",
              "    [theme=dark] .colab-df-convert:hover {\n",
              "      background-color: #434B5C;\n",
              "      box-shadow: 0px 1px 3px 1px rgba(0, 0, 0, 0.15);\n",
              "      filter: drop-shadow(0px 1px 2px rgba(0, 0, 0, 0.3));\n",
              "      fill: #FFFFFF;\n",
              "    }\n",
              "  </style>\n",
              "\n",
              "      <script>\n",
              "        const buttonEl =\n",
              "          document.querySelector('#df-c03117d5-7da1-4585-9e68-386322f949a4 button.colab-df-convert');\n",
              "        buttonEl.style.display =\n",
              "          google.colab.kernel.accessAllowed ? 'block' : 'none';\n",
              "\n",
              "        async function convertToInteractive(key) {\n",
              "          const element = document.querySelector('#df-c03117d5-7da1-4585-9e68-386322f949a4');\n",
              "          const dataTable =\n",
              "            await google.colab.kernel.invokeFunction('convertToInteractive',\n",
              "                                                     [key], {});\n",
              "          if (!dataTable) return;\n",
              "\n",
              "          const docLinkHtml = 'Like what you see? Visit the ' +\n",
              "            '<a target=\"_blank\" href=https://colab.research.google.com/notebooks/data_table.ipynb>data table notebook</a>'\n",
              "            + ' to learn more about interactive tables.';\n",
              "          element.innerHTML = '';\n",
              "          dataTable['output_type'] = 'display_data';\n",
              "          await google.colab.output.renderOutput(dataTable, element);\n",
              "          const docLink = document.createElement('div');\n",
              "          docLink.innerHTML = docLinkHtml;\n",
              "          element.appendChild(docLink);\n",
              "        }\n",
              "      </script>\n",
              "    </div>\n",
              "  </div>\n",
              "  "
            ]
          },
          "metadata": {},
          "execution_count": 202
        }
      ]
    },
    {
      "cell_type": "code",
      "source": [
        "submit.to_csv('./Ensemble_EE.csv', index=False)"
      ],
      "metadata": {
        "id": "fyEkwDUUNhj9"
      },
      "execution_count": null,
      "outputs": []
    }
  ]
}